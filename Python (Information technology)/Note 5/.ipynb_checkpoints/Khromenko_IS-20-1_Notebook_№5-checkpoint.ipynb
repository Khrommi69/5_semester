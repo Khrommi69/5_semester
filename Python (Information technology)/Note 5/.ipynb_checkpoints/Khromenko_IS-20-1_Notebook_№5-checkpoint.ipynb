{
 "cells": [
  {
   "cell_type": "markdown",
   "id": "d4611fc9",
   "metadata": {},
   "source": [
    "# Notebook №5. Information systems"
   ]
  },
  {
   "cell_type": "markdown",
   "id": "ed67ba95",
   "metadata": {},
   "source": [
    "by a student of the IS-20-1 group, Khromenko Danil.\n",
    "<br>"
   ]
  },
  {
   "cell_type": "markdown",
   "id": "03c12ea8",
   "metadata": {},
   "source": [
    "## Python programming for data collection and analysis"
   ]
  },
  {
   "cell_type": "markdown",
   "id": "0ca3e8d9",
   "metadata": {},
   "source": [
    "### Dictionaries"
   ]
  },
  {
   "cell_type": "markdown",
   "id": "310dc824",
   "metadata": {},
   "source": [
    "Consider this problem: we have information about students' grades in a certain subject and we\n",
    "want to be able to work with this information — for example, by the name of a student to determine\n",
    "what grade he received. We could try to solve this problem by creating two lists — one with\n",
    "the names of students and the other with grades:"
   ]
  },
  {
   "cell_type": "code",
   "execution_count": 1,
   "id": "93aeab8f",
   "metadata": {},
   "outputs": [],
   "source": [
    "#Ilya got 5, Andrey got 3, etc.\n",
    "students = [\"Ilya\", \"Andrey\", \"Sergey\", \"Daniil\"]\n",
    "grades = [5, 3, 4, 2]"
   ]
  },
  {
   "cell_type": "markdown",
   "id": "512d8e5b",
   "metadata": {},
   "source": [
    "It would be nice if we could have a data type in which elements are numbered\n",
    "not by natural numbers, but by arbitrary objects. This data type exists: in Python it\n",
    "is called a dictionary."
   ]
  },
  {
   "cell_type": "code",
   "execution_count": 2,
   "id": "44d43b09",
   "metadata": {},
   "outputs": [],
   "source": [
    "#This is how you can create a dictionary in Python:\n",
    "gradebook = {\"Ilya\": 5, \"Andrey\": 3, \"Sergey\":4, \"Daniil\": 2}"
   ]
  },
  {
   "cell_type": "markdown",
   "id": "aaea80aa",
   "metadata": {},
   "source": [
    "This is similar to creating a list, but there are a number of differences. First, we used curly brackets\n",
    "instead of square ones to show that we are creating a dictionary. Secondly, the dictionary consists of\n",
    "entries, each entry consists of two parts: a key and a value. The key and value\n",
    "are separated by a colon. For example, we have the entry \"Andrey\": 3 with the key \"Andrey\" and the value 3 .\n",
    "In total, our gradebook dictionary now contains four entries, the keys of which are the names\n",
    "of students, and the values are their grades."
   ]
  },
  {
   "cell_type": "code",
   "execution_count": 4,
   "id": "803c6e44",
   "metadata": {},
   "outputs": [
    {
     "data": {
      "text/plain": [
       "{'Ilya': 5, 'Andrey': 3, 'Sergey': 4, 'Daniil': 2}"
      ]
     },
     "execution_count": 4,
     "metadata": {},
     "output_type": "execute_result"
    }
   ],
   "source": [
    "#display the dictionary on the screen\n",
    "gradebook"
   ]
  },
  {
   "cell_type": "markdown",
   "id": "4153271e",
   "metadata": {},
   "source": [
    "Note that Python reordered the entries in the dictionary when printing. In fact, the order of output\n",
    "of entries in the dictionary is arbitrary: entries inside the dictionary have no order.\n",
    "Therefore, you cannot access, for example, the \"first record\", but you can access the record with\n",
    "this key:"
   ]
  },
  {
   "cell_type": "code",
   "execution_count": 6,
   "id": "20651145",
   "metadata": {},
   "outputs": [
    {
     "data": {
      "text/plain": [
       "2"
      ]
     },
     "execution_count": 6,
     "metadata": {},
     "output_type": "execute_result"
    }
   ],
   "source": [
    "#output the value of the key \"Daniil\"\n",
    "gradebook['Daniil']"
   ]
  },
  {
   "cell_type": "code",
   "execution_count": 7,
   "id": "f5a69108",
   "metadata": {},
   "outputs": [
    {
     "data": {
      "text/plain": [
       "5"
      ]
     },
     "execution_count": 7,
     "metadata": {},
     "output_type": "execute_result"
    }
   ],
   "source": [
    "#output the value of the key \"Ilya\"\n",
    "gradebook['Ilya']"
   ]
  },
  {
   "cell_type": "code",
   "execution_count": 8,
   "id": "c2c235f9",
   "metadata": {},
   "outputs": [
    {
     "data": {
      "text/plain": [
       "{'Ilya': 5, 'Andrey': 5, 'Sergey': 4, 'Daniil': 2}"
      ]
     },
     "execution_count": 8,
     "metadata": {},
     "output_type": "execute_result"
    }
   ],
   "source": [
    "#You can change the value of an entry, just like you can change a list item.\n",
    "gradebook['Andrey'] = 5\n",
    "gradebook"
   ]
  },
  {
   "cell_type": "code",
   "execution_count": 10,
   "id": "e492de41",
   "metadata": {},
   "outputs": [
    {
     "data": {
      "text/plain": [
       "{'Ilya': 5, 'Andrey': 5, 'Sergey': 4, 'Daniil': 2, 'Maria': 4}"
      ]
     },
     "execution_count": 10,
     "metadata": {},
     "output_type": "execute_result"
    }
   ],
   "source": [
    "#You can add a new entry\n",
    "gradebook['Maria'] = 4\n",
    "gradebook"
   ]
  },
  {
   "cell_type": "code",
   "execution_count": 11,
   "id": "738142d9",
   "metadata": {},
   "outputs": [
    {
     "ename": "KeyError",
     "evalue": "'Sasha'",
     "output_type": "error",
     "traceback": [
      "\u001b[1;31m---------------------------------------------------------------------------\u001b[0m",
      "\u001b[1;31mKeyError\u001b[0m                                  Traceback (most recent call last)",
      "\u001b[1;32m~\\AppData\\Local\\Temp\\ipykernel_9584\\3654604813.py\u001b[0m in \u001b[0;36m<module>\u001b[1;34m\u001b[0m\n\u001b[0;32m      1\u001b[0m \u001b[1;31m#If we try to access a record that does not exist, we will receive an error message:\u001b[0m\u001b[1;33m\u001b[0m\u001b[1;33m\u001b[0m\u001b[0m\n\u001b[1;32m----> 2\u001b[1;33m \u001b[0mgradebook\u001b[0m\u001b[1;33m[\u001b[0m\u001b[1;34m'Sasha'\u001b[0m\u001b[1;33m]\u001b[0m\u001b[1;33m\u001b[0m\u001b[1;33m\u001b[0m\u001b[0m\n\u001b[0m",
      "\u001b[1;31mKeyError\u001b[0m: 'Sasha'"
     ]
    }
   ],
   "source": [
    "#If we try to access a record that does not exist, we will receive an error message:\n",
    "gradebook['Sasha']"
   ]
  },
  {
   "cell_type": "markdown",
   "id": "49bc93cf",
   "metadata": {},
   "source": [
    "Often we want to be able to request a record, and if there isn't one, get some kind of \"default value\", not an error. To do this, use the get() method instead\n",
    "of square brackets."
   ]
  },
  {
   "cell_type": "code",
   "execution_count": 12,
   "id": "2ec9ab37",
   "metadata": {},
   "outputs": [],
   "source": [
    "#getting a record using the get() method\n",
    "gradebook.get('Alice')"
   ]
  },
  {
   "cell_type": "code",
   "execution_count": 13,
   "id": "321e584e",
   "metadata": {},
   "outputs": [
    {
     "name": "stdout",
     "output_type": "stream",
     "text": [
      "None\n"
     ]
    }
   ],
   "source": [
    "#None has returned here :\n",
    "print(gradebook.get('Alice'))"
   ]
  },
  {
   "cell_type": "code",
   "execution_count": 15,
   "id": "b0b2b424",
   "metadata": {},
   "outputs": [
    {
     "data": {
      "text/plain": [
       "5"
      ]
     },
     "execution_count": 15,
     "metadata": {},
     "output_type": "execute_result"
    }
   ],
   "source": [
    "#getting a record using the get() method\n",
    "gradebook.get('Andrey')"
   ]
  },
  {
   "cell_type": "markdown",
   "id": "8c502b95",
   "metadata": {},
   "source": [
    "It would be possible to pass get() the second argument, and then if there is no such key in the dictionary,\n",
    "it will be returned."
   ]
  },
  {
   "cell_type": "code",
   "execution_count": 17,
   "id": "6beb51c1",
   "metadata": {},
   "outputs": [
    {
     "data": {
      "text/plain": [
       "'No such student'"
      ]
     },
     "execution_count": 17,
     "metadata": {},
     "output_type": "execute_result"
    }
   ],
   "source": [
    "#if there is no key, it will return the second argument of the get() method\n",
    "gradebook.get('Alice', 'No such student')"
   ]
  },
  {
   "cell_type": "code",
   "execution_count": 18,
   "id": "c4f9b460",
   "metadata": {},
   "outputs": [
    {
     "data": {
      "text/plain": [
       "2"
      ]
     },
     "execution_count": 18,
     "metadata": {},
     "output_type": "execute_result"
    }
   ],
   "source": [
    "#if there is no key, it will return the second argument of the get() method\n",
    "gradebook.get('Daniil', 'No such student')"
   ]
  },
  {
   "cell_type": "code",
   "execution_count": 19,
   "id": "e64a5665",
   "metadata": {},
   "outputs": [
    {
     "data": {
      "text/plain": [
       "dict_keys(['Ilya', 'Andrey', 'Sergey', 'Daniil', 'Maria'])"
      ]
     },
     "execution_count": 19,
     "metadata": {},
     "output_type": "execute_result"
    }
   ],
   "source": [
    "#You can get a list of all the dictionary keys:\n",
    "gradebook.keys()"
   ]
  },
  {
   "cell_type": "markdown",
   "id": "a158b382",
   "metadata": {},
   "source": [
    "In fact, it's not really a list, but this thing behaves almost like a list and you can\n",
    "make a list out of it. Similarly with a list of all dictionary values."
   ]
  },
  {
   "cell_type": "code",
   "execution_count": 20,
   "id": "9dbcf55c",
   "metadata": {},
   "outputs": [
    {
     "data": {
      "text/plain": [
       "dict_values([5, 5, 4, 2, 4])"
      ]
     },
     "execution_count": 20,
     "metadata": {},
     "output_type": "execute_result"
    }
   ],
   "source": [
    "#You can get a list of all dictionary values:\n",
    "gradebook.values()"
   ]
  },
  {
   "cell_type": "markdown",
   "id": "5c0b344f",
   "metadata": {},
   "source": [
    "Dictionary keys can be not only lines. Let's say we want to create a dictionary in which\n",
    "the keys are numbers. There is nothing easier:"
   ]
  },
  {
   "cell_type": "code",
   "execution_count": 21,
   "id": "271685b6",
   "metadata": {},
   "outputs": [],
   "source": [
    "#creating a list with number keys\n",
    "squares={1:1, 2:4, 3:9}"
   ]
  },
  {
   "cell_type": "code",
   "execution_count": 22,
   "id": "066747ba",
   "metadata": {},
   "outputs": [
    {
     "data": {
      "text/plain": [
       "{1: 1, 2: 4, 3: 9}"
      ]
     },
     "execution_count": 22,
     "metadata": {},
     "output_type": "execute_result"
    }
   ],
   "source": [
    "squares"
   ]
  },
  {
   "cell_type": "code",
   "execution_count": 25,
   "id": "523ef72c",
   "metadata": {},
   "outputs": [
    {
     "name": "stdout",
     "output_type": "stream",
     "text": [
      "1\n",
      "4\n"
     ]
    }
   ],
   "source": [
    "#In the next two lines, squares behaves roughly like a list, but if you look closely, \n",
    "#you can see that this is not a list, but still a dictionary.\n",
    "print(squares[1])\n",
    "print(squares[2])"
   ]
  },
  {
   "cell_type": "code",
   "execution_count": 27,
   "id": "915705db",
   "metadata": {},
   "outputs": [
    {
     "ename": "KeyError",
     "evalue": "0",
     "output_type": "error",
     "traceback": [
      "\u001b[1;31m---------------------------------------------------------------------------\u001b[0m",
      "\u001b[1;31mKeyError\u001b[0m                                  Traceback (most recent call last)",
      "\u001b[1;32m~\\AppData\\Local\\Temp\\ipykernel_9584\\1518308358.py\u001b[0m in \u001b[0;36m<module>\u001b[1;34m\u001b[0m\n\u001b[0;32m      1\u001b[0m \u001b[1;31m#For example, any non-empty list has an element with index 0, but squares does not have such an element:\u001b[0m\u001b[1;33m\u001b[0m\u001b[1;33m\u001b[0m\u001b[0m\n\u001b[0;32m      2\u001b[0m \u001b[1;31m#we refer to a non-existent list key\u001b[0m\u001b[1;33m\u001b[0m\u001b[1;33m\u001b[0m\u001b[0m\n\u001b[1;32m----> 3\u001b[1;33m \u001b[0msquares\u001b[0m\u001b[1;33m[\u001b[0m\u001b[1;36m0\u001b[0m\u001b[1;33m]\u001b[0m\u001b[1;33m\u001b[0m\u001b[1;33m\u001b[0m\u001b[0m\n\u001b[0m",
      "\u001b[1;31mKeyError\u001b[0m: 0"
     ]
    }
   ],
   "source": [
    "#For example, any non-empty list has an element with index 0, but squares does not have such an element:\n",
    "#we refer to a non-existent list key\n",
    "squares[0]"
   ]
  },
  {
   "cell_type": "markdown",
   "id": "a4c91027",
   "metadata": {},
   "source": [
    "### Enumeration entries in the dictionary"
   ]
  },
  {
   "cell_type": "markdown",
   "id": "58712891",
   "metadata": {},
   "source": [
    "How to process information in the dictionary? To iterate through all the elements of the list , you could\n",
    "use the for loop . And what happens if you feed him a dictionary instead of a list? Let's try:"
   ]
  },
  {
   "cell_type": "code",
   "execution_count": 29,
   "id": "b6ff0d3b",
   "metadata": {},
   "outputs": [
    {
     "name": "stdout",
     "output_type": "stream",
     "text": [
      "Ilya\n",
      "Andrey\n",
      "Sergey\n",
      "Daniil\n",
      "Maria\n"
     ]
    }
   ],
   "source": [
    "#trying to iterate through the dictionary with a for loop\n",
    "for i in gradebook:\n",
    "    print(i)"
   ]
  },
  {
   "cell_type": "markdown",
   "id": "c6c28739",
   "metadata": {},
   "source": [
    "I see! The for loop in this case iterates through all the keys of our dictionary. And knowing the key, you can\n",
    "get the value:"
   ]
  },
  {
   "cell_type": "code",
   "execution_count": 1,
   "id": "b3d4f906",
   "metadata": {},
   "outputs": [
    {
     "ename": "NameError",
     "evalue": "name 'gradebook' is not defined",
     "output_type": "error",
     "traceback": [
      "\u001b[1;31m---------------------------------------------------------------------------\u001b[0m",
      "\u001b[1;31mNameError\u001b[0m                                 Traceback (most recent call last)",
      "\u001b[1;32m~\\AppData\\Local\\Temp\\ipykernel_7656\\3019881302.py\u001b[0m in \u001b[0;36m<module>\u001b[1;34m\u001b[0m\n\u001b[0;32m      1\u001b[0m \u001b[1;31m#output of keys and values\u001b[0m\u001b[1;33m\u001b[0m\u001b[1;33m\u001b[0m\u001b[0m\n\u001b[1;32m----> 2\u001b[1;33m \u001b[1;32mfor\u001b[0m \u001b[0mk\u001b[0m \u001b[1;32min\u001b[0m \u001b[0mgradebook\u001b[0m\u001b[1;33m:\u001b[0m\u001b[1;33m\u001b[0m\u001b[1;33m\u001b[0m\u001b[0m\n\u001b[0m\u001b[0;32m      3\u001b[0m     \u001b[0mprint\u001b[0m\u001b[1;33m(\u001b[0m\u001b[1;34m\"Student\"\u001b[0m\u001b[1;33m,\u001b[0m \u001b[0mk\u001b[0m\u001b[1;33m,\u001b[0m \u001b[1;34m\"has a grade\"\u001b[0m\u001b[1;33m,\u001b[0m \u001b[0mgradebook\u001b[0m\u001b[1;33m[\u001b[0m\u001b[0mk\u001b[0m\u001b[1;33m]\u001b[0m\u001b[1;33m)\u001b[0m\u001b[1;33m\u001b[0m\u001b[1;33m\u001b[0m\u001b[0m\n",
      "\u001b[1;31mNameError\u001b[0m: name 'gradebook' is not defined"
     ]
    }
   ],
   "source": [
    "#output of keys and values\n",
    "for k in gradebook:\n",
    "    print(\"Student\", k, \"has a grade\", gradebook[k])"
   ]
  },
  {
   "cell_type": "code",
   "execution_count": null,
   "id": "6f1aa696",
   "metadata": {},
   "outputs": [],
   "source": []
  }
 ],
 "metadata": {
  "kernelspec": {
   "display_name": "Python 3 (ipykernel)",
   "language": "python",
   "name": "python3"
  },
  "language_info": {
   "codemirror_mode": {
    "name": "ipython",
    "version": 3
   },
   "file_extension": ".py",
   "mimetype": "text/x-python",
   "name": "python",
   "nbconvert_exporter": "python",
   "pygments_lexer": "ipython3",
   "version": "3.9.13"
  }
 },
 "nbformat": 4,
 "nbformat_minor": 5
}
