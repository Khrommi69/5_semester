{
 "cells": [
  {
   "cell_type": "markdown",
   "id": "d4611fc9",
   "metadata": {},
   "source": [
    "# Notebook №5. Information systems"
   ]
  },
  {
   "cell_type": "markdown",
   "id": "ed67ba95",
   "metadata": {},
   "source": [
    "by a student of the IS-20-1 group, Khromenko Danil.\n",
    "<br>"
   ]
  },
  {
   "cell_type": "markdown",
   "id": "03c12ea8",
   "metadata": {},
   "source": [
    "## Python programming for data collection and analysis"
   ]
  },
  {
   "cell_type": "markdown",
   "id": "0ca3e8d9",
   "metadata": {},
   "source": [
    "### Dictionaries"
   ]
  },
  {
   "cell_type": "markdown",
   "id": "310dc824",
   "metadata": {},
   "source": [
    "Consider this problem: we have information about students' grades in a certain subject and we\n",
    "want to be able to work with this information — for example, by the name of a student to determine\n",
    "what grade he received. We could try to solve this problem by creating two lists — one with\n",
    "the names of students and the other with grades:"
   ]
  },
  {
   "cell_type": "code",
   "execution_count": 1,
   "id": "93aeab8f",
   "metadata": {},
   "outputs": [],
   "source": [
    "#Ilya got 5, Andrey got 3, etc.\n",
    "students = [\"Ilya\", \"Andrey\", \"Sergey\", \"Daniil\"]\n",
    "grades = [5, 3, 4, 2]"
   ]
  },
  {
   "cell_type": "markdown",
   "id": "512d8e5b",
   "metadata": {},
   "source": [
    "It would be nice if we could have a data type in which elements are numbered\n",
    "not by natural numbers, but by arbitrary objects. This data type exists: in Python it\n",
    "is called a dictionary."
   ]
  },
  {
   "cell_type": "code",
   "execution_count": 2,
   "id": "44d43b09",
   "metadata": {},
   "outputs": [],
   "source": [
    "#This is how you can create a dictionary in Python:\n",
    "gradebook = {\"Ilya\": 5, \"Andrey\": 3, \"Sergey\":4, \"Daniil\": 2}"
   ]
  },
  {
   "cell_type": "markdown",
   "id": "aaea80aa",
   "metadata": {},
   "source": [
    "This is similar to creating a list, but there are a number of differences. First, we used curly brackets\n",
    "instead of square ones to show that we are creating a dictionary. Secondly, the dictionary consists of\n",
    "entries, each entry consists of two parts: a key and a value. The key and value\n",
    "are separated by a colon. For example, we have the entry \"Andrey\": 3 with the key \"Andrey\" and the value 3 .\n",
    "In total, our gradebook dictionary now contains four entries, the keys of which are the names\n",
    "of students, and the values are their grades."
   ]
  },
  {
   "cell_type": "code",
   "execution_count": 3,
   "id": "803c6e44",
   "metadata": {},
   "outputs": [
    {
     "data": {
      "text/plain": [
       "{'Ilya': 5, 'Andrey': 3, 'Sergey': 4, 'Daniil': 2}"
      ]
     },
     "execution_count": 3,
     "metadata": {},
     "output_type": "execute_result"
    }
   ],
   "source": [
    "#display the dictionary on the screen\n",
    "gradebook"
   ]
  },
  {
   "cell_type": "markdown",
   "id": "4153271e",
   "metadata": {},
   "source": [
    "Note that Python reordered the entries in the dictionary when printing. In fact, the order of output\n",
    "of entries in the dictionary is arbitrary: entries inside the dictionary have no order.\n",
    "Therefore, you cannot access, for example, the \"first record\", but you can access the record with\n",
    "this key:"
   ]
  },
  {
   "cell_type": "code",
   "execution_count": 4,
   "id": "20651145",
   "metadata": {},
   "outputs": [
    {
     "data": {
      "text/plain": [
       "2"
      ]
     },
     "execution_count": 4,
     "metadata": {},
     "output_type": "execute_result"
    }
   ],
   "source": [
    "#output the value of the key \"Daniil\"\n",
    "gradebook['Daniil']"
   ]
  },
  {
   "cell_type": "code",
   "execution_count": 5,
   "id": "f5a69108",
   "metadata": {},
   "outputs": [
    {
     "data": {
      "text/plain": [
       "5"
      ]
     },
     "execution_count": 5,
     "metadata": {},
     "output_type": "execute_result"
    }
   ],
   "source": [
    "#output the value of the key \"Ilya\"\n",
    "gradebook['Ilya']"
   ]
  },
  {
   "cell_type": "code",
   "execution_count": 6,
   "id": "c2c235f9",
   "metadata": {},
   "outputs": [
    {
     "data": {
      "text/plain": [
       "{'Ilya': 5, 'Andrey': 5, 'Sergey': 4, 'Daniil': 2}"
      ]
     },
     "execution_count": 6,
     "metadata": {},
     "output_type": "execute_result"
    }
   ],
   "source": [
    "#You can change the value of an entry, just like you can change a list item.\n",
    "gradebook['Andrey'] = 5\n",
    "gradebook"
   ]
  },
  {
   "cell_type": "code",
   "execution_count": 7,
   "id": "e492de41",
   "metadata": {},
   "outputs": [
    {
     "data": {
      "text/plain": [
       "{'Ilya': 5, 'Andrey': 5, 'Sergey': 4, 'Daniil': 2, 'Maria': 4}"
      ]
     },
     "execution_count": 7,
     "metadata": {},
     "output_type": "execute_result"
    }
   ],
   "source": [
    "#You can add a new entry\n",
    "gradebook['Maria'] = 4\n",
    "gradebook"
   ]
  },
  {
   "cell_type": "code",
   "execution_count": 8,
   "id": "738142d9",
   "metadata": {},
   "outputs": [
    {
     "ename": "KeyError",
     "evalue": "'Sasha'",
     "output_type": "error",
     "traceback": [
      "\u001b[1;31m---------------------------------------------------------------------------\u001b[0m",
      "\u001b[1;31mKeyError\u001b[0m                                  Traceback (most recent call last)",
      "\u001b[1;32m~\\AppData\\Local\\Temp\\ipykernel_752\\3654604813.py\u001b[0m in \u001b[0;36m<module>\u001b[1;34m\u001b[0m\n\u001b[0;32m      1\u001b[0m \u001b[1;31m#If we try to access a record that does not exist, we will receive an error message:\u001b[0m\u001b[1;33m\u001b[0m\u001b[1;33m\u001b[0m\u001b[0m\n\u001b[1;32m----> 2\u001b[1;33m \u001b[0mgradebook\u001b[0m\u001b[1;33m[\u001b[0m\u001b[1;34m'Sasha'\u001b[0m\u001b[1;33m]\u001b[0m\u001b[1;33m\u001b[0m\u001b[1;33m\u001b[0m\u001b[0m\n\u001b[0m",
      "\u001b[1;31mKeyError\u001b[0m: 'Sasha'"
     ]
    }
   ],
   "source": [
    "#If we try to access a record that does not exist, we will receive an error message:\n",
    "gradebook['Sasha']"
   ]
  },
  {
   "cell_type": "markdown",
   "id": "49bc93cf",
   "metadata": {},
   "source": [
    "Often we want to be able to request a record, and if there isn't one, get some kind of \"default value\", not an error. To do this, use the get() method instead\n",
    "of square brackets."
   ]
  },
  {
   "cell_type": "code",
   "execution_count": 9,
   "id": "2ec9ab37",
   "metadata": {},
   "outputs": [],
   "source": [
    "#getting a record using the get() method\n",
    "gradebook.get('Alice')"
   ]
  },
  {
   "cell_type": "code",
   "execution_count": 10,
   "id": "321e584e",
   "metadata": {},
   "outputs": [
    {
     "name": "stdout",
     "output_type": "stream",
     "text": [
      "None\n"
     ]
    }
   ],
   "source": [
    "#None has returned here :\n",
    "print(gradebook.get('Alice'))"
   ]
  },
  {
   "cell_type": "code",
   "execution_count": 11,
   "id": "b0b2b424",
   "metadata": {},
   "outputs": [
    {
     "data": {
      "text/plain": [
       "5"
      ]
     },
     "execution_count": 11,
     "metadata": {},
     "output_type": "execute_result"
    }
   ],
   "source": [
    "#getting a record using the get() method\n",
    "gradebook.get('Andrey')"
   ]
  },
  {
   "cell_type": "markdown",
   "id": "8c502b95",
   "metadata": {},
   "source": [
    "It would be possible to pass get() the second argument, and then if there is no such key in the dictionary,\n",
    "it will be returned."
   ]
  },
  {
   "cell_type": "code",
   "execution_count": 12,
   "id": "6beb51c1",
   "metadata": {},
   "outputs": [
    {
     "data": {
      "text/plain": [
       "'No such student'"
      ]
     },
     "execution_count": 12,
     "metadata": {},
     "output_type": "execute_result"
    }
   ],
   "source": [
    "#if there is no key, it will return the second argument of the get() method\n",
    "gradebook.get('Alice', 'No such student')"
   ]
  },
  {
   "cell_type": "code",
   "execution_count": 13,
   "id": "c4f9b460",
   "metadata": {},
   "outputs": [
    {
     "data": {
      "text/plain": [
       "2"
      ]
     },
     "execution_count": 13,
     "metadata": {},
     "output_type": "execute_result"
    }
   ],
   "source": [
    "#if there is no key, it will return the second argument of the get() method\n",
    "gradebook.get('Daniil', 'No such student')"
   ]
  },
  {
   "cell_type": "code",
   "execution_count": 14,
   "id": "e64a5665",
   "metadata": {},
   "outputs": [
    {
     "data": {
      "text/plain": [
       "dict_keys(['Ilya', 'Andrey', 'Sergey', 'Daniil', 'Maria'])"
      ]
     },
     "execution_count": 14,
     "metadata": {},
     "output_type": "execute_result"
    }
   ],
   "source": [
    "#You can get a list of all the dictionary keys:\n",
    "gradebook.keys()"
   ]
  },
  {
   "cell_type": "markdown",
   "id": "a158b382",
   "metadata": {},
   "source": [
    "In fact, it's not really a list, but this thing behaves almost like a list and you can\n",
    "make a list out of it. Similarly with a list of all dictionary values."
   ]
  },
  {
   "cell_type": "code",
   "execution_count": 15,
   "id": "9dbcf55c",
   "metadata": {},
   "outputs": [
    {
     "data": {
      "text/plain": [
       "dict_values([5, 5, 4, 2, 4])"
      ]
     },
     "execution_count": 15,
     "metadata": {},
     "output_type": "execute_result"
    }
   ],
   "source": [
    "#You can get a list of all dictionary values:\n",
    "gradebook.values()"
   ]
  },
  {
   "cell_type": "markdown",
   "id": "5c0b344f",
   "metadata": {},
   "source": [
    "Dictionary keys can be not only lines. Let's say we want to create a dictionary in which\n",
    "the keys are numbers. There is nothing easier:"
   ]
  },
  {
   "cell_type": "code",
   "execution_count": 16,
   "id": "271685b6",
   "metadata": {},
   "outputs": [],
   "source": [
    "#creating a list with number keys\n",
    "squares={1:1, 2:4, 3:9}"
   ]
  },
  {
   "cell_type": "code",
   "execution_count": 17,
   "id": "066747ba",
   "metadata": {},
   "outputs": [
    {
     "data": {
      "text/plain": [
       "{1: 1, 2: 4, 3: 9}"
      ]
     },
     "execution_count": 17,
     "metadata": {},
     "output_type": "execute_result"
    }
   ],
   "source": [
    "squares"
   ]
  },
  {
   "cell_type": "code",
   "execution_count": 18,
   "id": "523ef72c",
   "metadata": {},
   "outputs": [
    {
     "name": "stdout",
     "output_type": "stream",
     "text": [
      "1\n",
      "4\n"
     ]
    }
   ],
   "source": [
    "#In the next two lines, squares behaves roughly like a list, but if you look closely, \n",
    "#you can see that this is not a list, but still a dictionary.\n",
    "print(squares[1])\n",
    "print(squares[2])"
   ]
  },
  {
   "cell_type": "code",
   "execution_count": 19,
   "id": "915705db",
   "metadata": {},
   "outputs": [
    {
     "ename": "KeyError",
     "evalue": "0",
     "output_type": "error",
     "traceback": [
      "\u001b[1;31m---------------------------------------------------------------------------\u001b[0m",
      "\u001b[1;31mKeyError\u001b[0m                                  Traceback (most recent call last)",
      "\u001b[1;32m~\\AppData\\Local\\Temp\\ipykernel_752\\1518308358.py\u001b[0m in \u001b[0;36m<module>\u001b[1;34m\u001b[0m\n\u001b[0;32m      1\u001b[0m \u001b[1;31m#For example, any non-empty list has an element with index 0, but squares does not have such an element:\u001b[0m\u001b[1;33m\u001b[0m\u001b[1;33m\u001b[0m\u001b[0m\n\u001b[0;32m      2\u001b[0m \u001b[1;31m#we refer to a non-existent list key\u001b[0m\u001b[1;33m\u001b[0m\u001b[1;33m\u001b[0m\u001b[0m\n\u001b[1;32m----> 3\u001b[1;33m \u001b[0msquares\u001b[0m\u001b[1;33m[\u001b[0m\u001b[1;36m0\u001b[0m\u001b[1;33m]\u001b[0m\u001b[1;33m\u001b[0m\u001b[1;33m\u001b[0m\u001b[0m\n\u001b[0m",
      "\u001b[1;31mKeyError\u001b[0m: 0"
     ]
    }
   ],
   "source": [
    "#For example, any non-empty list has an element with index 0, but squares does not have such an element:\n",
    "#we refer to a non-existent list key\n",
    "squares[0]"
   ]
  },
  {
   "cell_type": "markdown",
   "id": "a4c91027",
   "metadata": {},
   "source": [
    "### Enumeration entries in the dictionary"
   ]
  },
  {
   "cell_type": "markdown",
   "id": "58712891",
   "metadata": {},
   "source": [
    "How to process information in the dictionary? To iterate through all the elements of the list , you could\n",
    "use the for loop . And what happens if you feed him a dictionary instead of a list? Let's try:"
   ]
  },
  {
   "cell_type": "code",
   "execution_count": 20,
   "id": "b6ff0d3b",
   "metadata": {},
   "outputs": [
    {
     "name": "stdout",
     "output_type": "stream",
     "text": [
      "Ilya\n",
      "Andrey\n",
      "Sergey\n",
      "Daniil\n",
      "Maria\n"
     ]
    }
   ],
   "source": [
    "#trying to iterate through the dictionary with a for loop\n",
    "for i in gradebook:\n",
    "    print(i)"
   ]
  },
  {
   "cell_type": "markdown",
   "id": "c6c28739",
   "metadata": {},
   "source": [
    "I see! The for loop in this case iterates through all the keys of our dictionary. And knowing the key, you can\n",
    "get the value:"
   ]
  },
  {
   "cell_type": "code",
   "execution_count": 21,
   "id": "b3d4f906",
   "metadata": {},
   "outputs": [
    {
     "name": "stdout",
     "output_type": "stream",
     "text": [
      "Student Ilya has a grade 5\n",
      "Student Andrey has a grade 5\n",
      "Student Sergey has a grade 4\n",
      "Student Daniil has a grade 2\n",
      "Student Maria has a grade 4\n"
     ]
    }
   ],
   "source": [
    "#output of keys and values\n",
    "for k in gradebook:\n",
    "    print(\"Student\", k, \"has a grade\", gradebook[k])"
   ]
  },
  {
   "cell_type": "code",
   "execution_count": 22,
   "id": "6f1aa696",
   "metadata": {},
   "outputs": [
    {
     "name": "stdout",
     "output_type": "stream",
     "text": [
      "Student Ilya has a grade 5\n",
      "Student Andrey has a grade 5\n",
      "Student Sergey has a grade 4\n",
      "Student Daniil has a grade 2\n",
      "Student Maria has a grade 4\n"
     ]
    }
   ],
   "source": [
    "#there is a more elegant way to get the key and value of the next record at once: use items()\n",
    "for k, v in gradebook.items():\n",
    "    print(\"Student\", k, \"has a grade\", v)"
   ]
  },
  {
   "cell_type": "markdown",
   "id": "1561bfcc",
   "metadata": {},
   "source": [
    "How does this code work? Here the items() method is used, which returns a list (more precisely, an iterator) consisting of tuples of the form (key, value)."
   ]
  },
  {
   "cell_type": "code",
   "execution_count": 23,
   "id": "d6c2fcaf",
   "metadata": {},
   "outputs": [
    {
     "data": {
      "text/plain": [
       "[('Ilya', 5), ('Andrey', 5), ('Sergey', 4), ('Daniil', 2), ('Maria', 4)]"
      ]
     },
     "execution_count": 23,
     "metadata": {},
     "output_type": "execute_result"
    }
   ],
   "source": [
    "#output a list of tuples from the dictionary (key, value)\n",
    "list(gradebook.items())"
   ]
  },
  {
   "cell_type": "markdown",
   "id": "e142cae0",
   "metadata": {},
   "source": [
    "In this case, the for operator understands that it is necessary to select the next tuple each time the loop passes\n",
    "and assign its first element (that is, the key) to the variable k, and the second element (that is\n",
    ", the value) to the variable v (of course, these variables could be called differently). \n",
    "We have already met with similar behavior when discussing the enumerate construction."
   ]
  },
  {
   "cell_type": "code",
   "execution_count": 24,
   "id": "7360eda4",
   "metadata": {},
   "outputs": [
    {
     "name": "stdout",
     "output_type": "stream",
     "text": [
      "Sergey\n",
      "Maria\n"
     ]
    }
   ],
   "source": [
    "#output of all students with a filter (students with a grade of 4)\n",
    "for k, v in gradebook.items():\n",
    "    if v == 4:\n",
    "        print(k)"
   ]
  },
  {
   "cell_type": "markdown",
   "id": "75e8f561",
   "metadata": {},
   "source": [
    "Note that such a \"value search\" requires going through all entries in the dictionary and if the dictionary\n",
    "is large, it will take a lot of time — although the \"key search\" will still\n",
    "be performed quickly. By the way, you can quickly check if there is an entry with this\n",
    "key in the dictionary:"
   ]
  },
  {
   "cell_type": "code",
   "execution_count": 25,
   "id": "ffd8b0d5",
   "metadata": {},
   "outputs": [
    {
     "data": {
      "text/plain": [
       "True"
      ]
     },
     "execution_count": 25,
     "metadata": {},
     "output_type": "execute_result"
    }
   ],
   "source": [
    "#checking whether a student exists in the dictionary\n",
    "\"Maria\" in gradebook"
   ]
  },
  {
   "cell_type": "code",
   "execution_count": 26,
   "id": "db855e9b",
   "metadata": {},
   "outputs": [
    {
     "data": {
      "text/plain": [
       "False"
      ]
     },
     "execution_count": 26,
     "metadata": {},
     "output_type": "execute_result"
    }
   ],
   "source": [
    "#checking whether a student exists in the dictionary\n",
    "\"John\" in gradebook"
   ]
  },
  {
   "cell_type": "markdown",
   "id": "70022de1",
   "metadata": {},
   "source": [
    "If we wanted to search among values, we would have to explicitly specify this using the values() method :"
   ]
  },
  {
   "cell_type": "code",
   "execution_count": 27,
   "id": "86f7373a",
   "metadata": {},
   "outputs": [
    {
     "data": {
      "text/plain": [
       "False"
      ]
     },
     "execution_count": 27,
     "metadata": {},
     "output_type": "execute_result"
    }
   ],
   "source": [
    "#checking whether such a student's assessment exists in the dictionary\n",
    "1 in gradebook.values()"
   ]
  },
  {
   "cell_type": "code",
   "execution_count": 28,
   "id": "23921a81",
   "metadata": {},
   "outputs": [
    {
     "data": {
      "text/plain": [
       "True"
      ]
     },
     "execution_count": 28,
     "metadata": {},
     "output_type": "execute_result"
    }
   ],
   "source": [
    "#checking whether such a student's assessment exists in the dictionary\n",
    "5 in gradebook.values()"
   ]
  },
  {
   "cell_type": "code",
   "execution_count": 29,
   "id": "6cae8ff9",
   "metadata": {},
   "outputs": [
    {
     "name": "stdout",
     "output_type": "stream",
     "text": [
      "True\n",
      "False\n"
     ]
    }
   ],
   "source": [
    "#In general, the in operator is not limited only to use with dictionaries:\n",
    "#it can be used, for example, with lists:\n",
    "print(5 in [1,2,3,4,5])\n",
    "print(0 in range(1,5))"
   ]
  },
  {
   "cell_type": "markdown",
   "id": "df6c20ad",
   "metadata": {},
   "source": [
    "### Creating dictionaries and zip() function"
   ]
  },
  {
   "cell_type": "markdown",
   "id": "5704c998",
   "metadata": {},
   "source": [
    "There are different ways to create dictionaries. For example, you can create an empty dictionary and gradually fill it with elements:"
   ]
  },
  {
   "cell_type": "code",
   "execution_count": 30,
   "id": "e34c63a8",
   "metadata": {},
   "outputs": [
    {
     "data": {
      "text/plain": [
       "{1: 1, 'hello': 'world'}"
      ]
     },
     "execution_count": 30,
     "metadata": {},
     "output_type": "execute_result"
    }
   ],
   "source": [
    "#creating an empty dictionary and filling it in\n",
    "my_dict = {}\n",
    "my_dict[1] = 1\n",
    "my_dict['hello'] = 'world'\n",
    "my_dict"
   ]
  },
  {
   "cell_type": "markdown",
   "id": "8616fd50",
   "metadata": {},
   "source": [
    "Note that elements of different types (in this\n",
    "case, strings and integers) get along well in the same dictionary.<br>\n",
    "You can create a dictionary differently by passing the dict() function a list consisting of key-value pairs (in\n",
    "some sense, this is the reverse operation of the items() method):"
   ]
  },
  {
   "cell_type": "code",
   "execution_count": 31,
   "id": "b86ba102",
   "metadata": {},
   "outputs": [
    {
     "data": {
      "text/plain": [
       "{'hello': 'world', 'one': 'two'}"
      ]
     },
     "execution_count": 31,
     "metadata": {},
     "output_type": "execute_result"
    }
   ],
   "source": [
    "#filling the dictionary with the dict() function\n",
    "my_dict2 = dict([('hello','world'), ('one', 'two')])\n",
    "my_dict2"
   ]
  },
  {
   "cell_type": "markdown",
   "id": "dce627c0",
   "metadata": {},
   "source": [
    "Let's say we have two lists, one contains the names of students, and the other contains their grades. How can\n",
    "I create a dictionary from these lists for which names would be keys and grades would be values?\n",
    "And that's it:"
   ]
  },
  {
   "cell_type": "code",
   "execution_count": 32,
   "id": "f1447fef",
   "metadata": {},
   "outputs": [
    {
     "data": {
      "text/plain": [
       "[('Ilya', 5), ('Andrey', 3), ('Sergey', 4), ('Daniil', 2)]"
      ]
     },
     "execution_count": 32,
     "metadata": {},
     "output_type": "execute_result"
    }
   ],
   "source": [
    "#creating a dictionary from two lists with the zip() function\n",
    "students = [\"Ilya\", \"Andrey\", \"Sergey\", \"Daniil\"]\n",
    "grades = [5, 3, 4, 2]\n",
    "new_gradebook = list(zip(students,grades))\n",
    "new_gradebook"
   ]
  },
  {
   "cell_type": "markdown",
   "id": "b7eb4139",
   "metadata": {},
   "source": [
    "A convenient zip() function is used here, the use of which is not limited to creating\n",
    "dictionaries. Like a zipper, it \"fastens\" (hence the name) several lists.\n",
    "For example, zip() makes a list of pairs from a pair of lists:"
   ]
  },
  {
   "cell_type": "code",
   "execution_count": 33,
   "id": "04980252",
   "metadata": {},
   "outputs": [
    {
     "data": {
      "text/plain": [
       "[(1, 'a'), (2, 'b'), (3, 'c')]"
      ]
     },
     "execution_count": 33,
     "metadata": {},
     "output_type": "execute_result"
    }
   ],
   "source": [
    "#zip() makes a list of pairs from a pair of lists\n",
    "list(zip([1,2,3],['a','b','c']))"
   ]
  },
  {
   "cell_type": "markdown",
   "id": "769cb520",
   "metadata": {},
   "source": [
    "This construction can be used when we need to iterate over the elements of two interconnected\n",
    "lists. For example, this is how you can output information about which student has what grade, without using dictionaries:"
   ]
  },
  {
   "cell_type": "code",
   "execution_count": 34,
   "id": "1b5cbdb3",
   "metadata": {},
   "outputs": [
    {
     "name": "stdout",
     "output_type": "stream",
     "text": [
      "Ilya has grade 5\n",
      "Andrey has grade 3\n",
      "Sergey has grade 4\n",
      "Daniil has grade 2\n"
     ]
    }
   ],
   "source": [
    "#using two lists as a dictionary\n",
    "for student, grade in zip(students, grades):\n",
    "     print(student, \"has grade\", grade)"
   ]
  },
  {
   "cell_type": "code",
   "execution_count": 35,
   "id": "43af902b",
   "metadata": {},
   "outputs": [
    {
     "data": {
      "text/plain": [
       "[(1, 5, 'a'), (2, 6, 'b'), (3, 7, 'c'), (4, 8, 'd')]"
      ]
     },
     "execution_count": 35,
     "metadata": {},
     "output_type": "execute_result"
    }
   ],
   "source": [
    "#The zip() function can also be used with more than two lists:\n",
    "list(zip([1,2,3,4], [5,6,7,8], ['a','b','c','d']))"
   ]
  },
  {
   "cell_type": "code",
   "execution_count": 36,
   "id": "8da95a74",
   "metadata": {},
   "outputs": [
    {
     "data": {
      "text/plain": [
       "[(1, 'a'), (2, 'b')]"
      ]
     },
     "execution_count": 36,
     "metadata": {},
     "output_type": "execute_result"
    }
   ],
   "source": [
    "#If one of the lists turns out to be shorter, zip() will \"trim\" the rest of the lists:\n",
    "list(zip([1,2,3], ['a','b']))"
   ]
  },
  {
   "cell_type": "markdown",
   "id": "d07b2bf8",
   "metadata": {},
   "source": [
    "### Which objects can be dictionary keys"
   ]
  },
  {
   "cell_type": "markdown",
   "id": "082a03a0",
   "metadata": {},
   "source": [
    "So far, we have considered dictionaries whose keys are strings and numbers. In fact,\n",
    "keys can be more complexly arranged objects. For example, imagine such\n",
    "an implementation of a fragment of the addition table in the form of a dictionary:"
   ]
  },
  {
   "cell_type": "code",
   "execution_count": 37,
   "id": "328ba138",
   "metadata": {},
   "outputs": [
    {
     "data": {
      "text/plain": [
       "{(2, 3): 5, (4, 1): 5, (5, 7): 12}"
      ]
     },
     "execution_count": 37,
     "metadata": {},
     "output_type": "execute_result"
    }
   ],
   "source": [
    "#creating a dictionary whose keys are tuples\n",
    "sums = {(2,3): 5, (4, 1): 5, (5, 7): 12}\n",
    "sums"
   ]
  },
  {
   "cell_type": "code",
   "execution_count": 38,
   "id": "f4fd84ba",
   "metadata": {},
   "outputs": [
    {
     "name": "stdout",
     "output_type": "stream",
     "text": [
      "5\n",
      "12\n"
     ]
    }
   ],
   "source": [
    "#output of the key value in the dictionary\n",
    "print(sums[(2,3)])\n",
    "print(sums[(5,7)])"
   ]
  },
  {
   "cell_type": "code",
   "execution_count": 39,
   "id": "ec0c34cb",
   "metadata": {},
   "outputs": [
    {
     "ename": "TypeError",
     "evalue": "unhashable type: 'list'",
     "output_type": "error",
     "traceback": [
      "\u001b[1;31m---------------------------------------------------------------------------\u001b[0m",
      "\u001b[1;31mTypeError\u001b[0m                                 Traceback (most recent call last)",
      "\u001b[1;32m~\\AppData\\Local\\Temp\\ipykernel_752\\1984614343.py\u001b[0m in \u001b[0;36m<module>\u001b[1;34m\u001b[0m\n\u001b[0;32m      2\u001b[0m \u001b[1;31m#the latter cannot be dictionary keys, since they can change\u001b[0m\u001b[1;33m\u001b[0m\u001b[1;33m\u001b[0m\u001b[0m\n\u001b[0;32m      3\u001b[0m \u001b[1;31m#we will get an error when trying to create a dictionary element whose key will be a list\u001b[0m\u001b[1;33m\u001b[0m\u001b[1;33m\u001b[0m\u001b[0m\n\u001b[1;32m----> 4\u001b[1;33m \u001b[0msums\u001b[0m \u001b[1;33m=\u001b[0m \u001b[1;33m{\u001b[0m \u001b[1;33m[\u001b[0m\u001b[1;36m1\u001b[0m\u001b[1;33m,\u001b[0m\u001b[1;36m2\u001b[0m\u001b[1;33m]\u001b[0m\u001b[1;33m:\u001b[0m \u001b[1;36m3\u001b[0m\u001b[1;33m}\u001b[0m\u001b[1;33m\u001b[0m\u001b[1;33m\u001b[0m\u001b[0m\n\u001b[0m",
      "\u001b[1;31mTypeError\u001b[0m: unhashable type: 'list'"
     ]
    }
   ],
   "source": [
    "#At this point, an important difference between tuples and lists appears:\n",
    "#the latter cannot be dictionary keys, since they can change\n",
    "#we will get an error when trying to create a dictionary element whose key will be a list\n",
    "sums = { [1,2]: 3}"
   ]
  },
  {
   "cell_type": "markdown",
   "id": "e7ff3f40",
   "metadata": {},
   "source": [
    "### List comprehensions"
   ]
  },
  {
   "cell_type": "markdown",
   "id": "df74bc40",
   "metadata": {},
   "source": [
    "We have often faced such a task before: a list is given in which the numbers are written, but in the form\n",
    "of lines. Create a new list in which the numbers would be numbers. We could solve this problem\n",
    "using a loop:"
   ]
  },
  {
   "cell_type": "code",
   "execution_count": 40,
   "id": "35dafcf7",
   "metadata": {},
   "outputs": [
    {
     "name": "stdout",
     "output_type": "stream",
     "text": [
      "[1, 5, 12, 7]\n"
     ]
    }
   ],
   "source": [
    "#creating a list of numbers as strings\n",
    "str_list = [\"1\", \"5\", \"12\", \"7\"]\n",
    "#creating a list of numbers\n",
    "int_list = []\n",
    "#turning a list of strings into a list of numbers using a loop\n",
    "for s in str_list:\n",
    "    int_list.append(int(s))\n",
    "print(int_list)"
   ]
  },
  {
   "cell_type": "markdown",
   "id": "2a364f07",
   "metadata": {},
   "source": [
    "Three lines are responsible for creating a new list. Writing them every time is quite boring, and\n",
    "the creators of Python came up with (or rather, borrowed from functional programming languages, and\n",
    "those borrowed it from mathematicians) a much more elegant syntax. It is arranged like this:"
   ]
  },
  {
   "cell_type": "code",
   "execution_count": 41,
   "id": "d5297290",
   "metadata": {},
   "outputs": [
    {
     "data": {
      "text/plain": [
       "[1, 5, 12, 7]"
      ]
     },
     "execution_count": 41,
     "metadata": {},
     "output_type": "execute_result"
    }
   ],
   "source": [
    "#a more elegant way to turn a list of strings into a list of numbers\n",
    "int_list = [int(s) for s in str_list]\n",
    "int_list"
   ]
  },
  {
   "cell_type": "markdown",
   "id": "af9e3144",
   "metadata": {},
   "source": [
    "The square brackets around the expression should suggest that we are creating a list (because when\n",
    "we need to create a list, we usually enclose its elements in square brackets). The expression inside\n",
    "the brackets should be read literally."
   ]
  },
  {
   "cell_type": "code",
   "execution_count": 42,
   "id": "0104e967",
   "metadata": {},
   "outputs": [
    {
     "data": {
      "text/plain": [
       "['1', '5', '12', '7']"
      ]
     },
     "execution_count": 42,
     "metadata": {},
     "output_type": "execute_result"
    }
   ],
   "source": [
    "#The original list of str_list has not changed at the same time:\n",
    "str_list"
   ]
  },
  {
   "cell_type": "markdown",
   "id": "da5b140d",
   "metadata": {},
   "source": [
    "Similarly, you can apply any operation to the list items. For example, let's square all the\n",
    "elements from int_list:"
   ]
  },
  {
   "cell_type": "code",
   "execution_count": 43,
   "id": "3638beb4",
   "metadata": {},
   "outputs": [
    {
     "data": {
      "text/plain": [
       "[1, 25, 144, 49]"
      ]
     },
     "execution_count": 43,
     "metadata": {},
     "output_type": "execute_result"
    }
   ],
   "source": [
    "#list of squared numbers\n",
    "[x**2 for x in int_list]"
   ]
  },
  {
   "cell_type": "code",
   "execution_count": 44,
   "id": "3dceb484",
   "metadata": {},
   "outputs": [
    {
     "data": {
      "text/plain": [
       "[2, 10, 24, 14]"
      ]
     },
     "execution_count": 44,
     "metadata": {},
     "output_type": "execute_result"
    }
   ],
   "source": [
    "#doubling list items\n",
    "double_list = [x*2 for x in int_list]\n",
    "double_list"
   ]
  },
  {
   "cell_type": "code",
   "execution_count": 45,
   "id": "88aad480",
   "metadata": {},
   "outputs": [
    {
     "data": {
      "text/plain": [
       "[2, 6, 13, 8]"
      ]
     },
     "execution_count": 45,
     "metadata": {},
     "output_type": "execute_result"
    }
   ],
   "source": [
    "#adding units to the list items\n",
    "[x+1 for x in int_list]"
   ]
  },
  {
   "cell_type": "code",
   "execution_count": 46,
   "id": "b5484e07",
   "metadata": {},
   "outputs": [
    {
     "data": {
      "text/plain": [
       "[1.0, 5.0, 12.0, 7.0]"
      ]
     },
     "execution_count": 46,
     "metadata": {},
     "output_type": "execute_result"
    }
   ],
   "source": [
    "#transformation of numbers from ordinary to real\n",
    "[float(x) for x in int_list]"
   ]
  },
  {
   "cell_type": "markdown",
   "id": "bdc3363c",
   "metadata": {},
   "source": [
    "As you can see, you can do anything with the list items! However, that's not all. In the syntax\n",
    "list comprehensions can be filtered. For example, we only need those elements\n",
    "that are greater than 6. We can select them this way:"
   ]
  },
  {
   "cell_type": "code",
   "execution_count": 47,
   "id": "368d2ca2",
   "metadata": {},
   "outputs": [
    {
     "data": {
      "text/plain": [
       "[12, 7]"
      ]
     },
     "execution_count": 47,
     "metadata": {},
     "output_type": "execute_result"
    }
   ],
   "source": [
    "#creating a list of old items if the item is greater than 6\n",
    "[x for x in int_list if x > 6]"
   ]
  },
  {
   "cell_type": "markdown",
   "id": "7f187baf",
   "metadata": {},
   "source": [
    "When we write x for x here, we mean that we just need to substitute\n",
    "the elements of the old one into the new list without doing anything with them (only choosing the right ones). But you can also modify them somehow:"
   ]
  },
  {
   "cell_type": "code",
   "execution_count": 48,
   "id": "4e4d684f",
   "metadata": {},
   "outputs": [
    {
     "data": {
      "text/plain": [
       "[144, 49]"
      ]
     },
     "execution_count": 48,
     "metadata": {},
     "output_type": "execute_result"
    }
   ],
   "source": [
    "#creating a list of old elements if the element is greater than 6 and squaring it\n",
    "[x**2 for x in int_list if x > 6]"
   ]
  },
  {
   "cell_type": "markdown",
   "id": "c30f73cc",
   "metadata": {},
   "source": [
    "Now let's solve this problem: there are two lists with numbers, and we want to find their element sum."
   ]
  },
  {
   "cell_type": "code",
   "execution_count": 49,
   "id": "30356f85",
   "metadata": {},
   "outputs": [],
   "source": [
    "#creating two lists of numbers\n",
    "X = [2, 5, 54]\n",
    "Y = [1, 3, 69]"
   ]
  },
  {
   "cell_type": "code",
   "execution_count": 50,
   "id": "8470c6ef",
   "metadata": {},
   "outputs": [
    {
     "data": {
      "text/plain": [
       "[3, 8, 123]"
      ]
     },
     "execution_count": 50,
     "metadata": {},
     "output_type": "execute_result"
    }
   ],
   "source": [
    "#the code using list comprehensions looks nicer than if we used a loop of several lines\n",
    "[x+y for x,y in zip(X,Y)]"
   ]
  },
  {
   "cell_type": "code",
   "execution_count": 51,
   "id": "a102afe0",
   "metadata": {},
   "outputs": [
    {
     "data": {
      "text/plain": [
       "{0: 0, 1: 1, 2: 4, 3: 9, 4: 16, 5: 25, 6: 36, 7: 49, 8: 64, 9: 81}"
      ]
     },
     "execution_count": 51,
     "metadata": {},
     "output_type": "execute_result"
    }
   ],
   "source": [
    "#By the way, you can use a syntax similar to list comprehension to create dictionaries:\n",
    "squared = {i: i**2 for i in range(10)}\n",
    "squared"
   ]
  },
  {
   "cell_type": "markdown",
   "id": "fe19f934",
   "metadata": {},
   "source": [
    "### Map() function"
   ]
  },
  {
   "cell_type": "markdown",
   "id": "147c4b24",
   "metadata": {},
   "source": [
    "The list inclusions have an analogue, which is now considered not too convenient, but sometimes\n",
    "occurs: the map() function."
   ]
  },
  {
   "cell_type": "code",
   "execution_count": 52,
   "id": "90b7f680",
   "metadata": {},
   "outputs": [
    {
     "data": {
      "text/plain": [
       "['1', '5', '12', '7']"
      ]
     },
     "execution_count": 52,
     "metadata": {},
     "output_type": "execute_result"
    }
   ],
   "source": [
    "str_list #output of our list of strings"
   ]
  },
  {
   "cell_type": "code",
   "execution_count": 53,
   "id": "7bd9c142",
   "metadata": {},
   "outputs": [
    {
     "data": {
      "text/plain": [
       "[1, 5, 12, 7]"
      ]
     },
     "execution_count": 53,
     "metadata": {},
     "output_type": "execute_result"
    }
   ],
   "source": [
    "#using the map() function\n",
    "int_list = list(map(int, str_list))\n",
    "int_list"
   ]
  },
  {
   "cell_type": "markdown",
   "id": "ca4ba080",
   "metadata": {},
   "source": [
    "The map() function takes two arguments. The first argument it takes is a function, after that\n",
    "it applies this function to each of the list items. In general, entries like list(map(int,\n",
    "str_list)) and [int(x) for x in str_list] are almost equivalent. <br>\n",
    "When the action to be applied already exists as a function (as in the case of int), the\n",
    "construction with map() looks even more concise than the list comprehension. But if we\n",
    "need to do something less trivial, list comprehensions are clearly easier:"
   ]
  },
  {
   "cell_type": "code",
   "execution_count": 54,
   "id": "d64a04b5",
   "metadata": {},
   "outputs": [
    {
     "data": {
      "text/plain": [
       "[2, 6, 13, 8]"
      ]
     },
     "execution_count": 54,
     "metadata": {},
     "output_type": "execute_result"
    }
   ],
   "source": [
    "#if we need to do something less trivial, list comprehensions are clearly easier\n",
    "[int(x)+1 for x in str_list]"
   ]
  },
  {
   "cell_type": "markdown",
   "id": "d24d205b",
   "metadata": {},
   "source": [
    "To implement this using map(), you need to declare a new function that will\n",
    "return the value of the expression int(x)+1 and pass it to map()."
   ]
  },
  {
   "cell_type": "code",
   "execution_count": 55,
   "id": "661919c6",
   "metadata": {},
   "outputs": [
    {
     "data": {
      "text/plain": [
       "[2, 6, 13, 8]"
      ]
     },
     "execution_count": 55,
     "metadata": {},
     "output_type": "execute_result"
    }
   ],
   "source": [
    "#creating your own function\n",
    "def my_func(x):\n",
    "    return int(x)+1\n",
    "\n",
    "#using your function in the map() function\n",
    "list(map(my_func,str_list))"
   ]
  },
  {
   "cell_type": "markdown",
   "id": "4352dbb8",
   "metadata": {},
   "source": [
    "For brevity, you can use lambda functions, but this approach is much less transparent than\n",
    "list inclusions, and it is not recommended to use it now."
   ]
  },
  {
   "cell_type": "markdown",
   "id": "c3042438",
   "metadata": {},
   "source": [
    "### A few words about efficiency"
   ]
  },
  {
   "cell_type": "markdown",
   "id": "ff8980e6",
   "metadata": {},
   "source": [
    "Using list inclusions is not only pleasant, but also useful: they work more efficiently than\n",
    "code with a loop."
   ]
  },
  {
   "cell_type": "code",
   "execution_count": 56,
   "id": "a670d047",
   "metadata": {},
   "outputs": [],
   "source": [
    "#creating a list of random numbers using list comprehensions\n",
    "from random import random\n",
    "from math import sqrt\n",
    "N = 10000\n",
    "mylist = [random() for _ in range(N)]"
   ]
  },
  {
   "cell_type": "code",
   "execution_count": 57,
   "id": "c031d329",
   "metadata": {},
   "outputs": [
    {
     "name": "stdout",
     "output_type": "stream",
     "text": [
      "1.16 ms ± 144 µs per loop (mean ± std. dev. of 7 runs, 100 loops each)\n"
     ]
    }
   ],
   "source": [
    "%%timeit\n",
    "\n",
    "#the execution time of filling a new list with values from the old one extracted from the root\n",
    "#we use a loop\n",
    "newlist = []\n",
    "for x in mylist:\n",
    "    newlist.append(sqrt(x))"
   ]
  },
  {
   "cell_type": "code",
   "execution_count": 58,
   "id": "25591e94",
   "metadata": {},
   "outputs": [
    {
     "name": "stdout",
     "output_type": "stream",
     "text": [
      "778 µs ± 6.11 µs per loop (mean ± std. dev. of 7 runs, 1000 loops each)\n"
     ]
    }
   ],
   "source": [
    "%%timeit\n",
    "\n",
    "#the execution time of filling a new list with values from the old one extracted from the root\n",
    "#we use a list comprehension\n",
    "newlist = [sqrt(x) for x in mylist]"
   ]
  },
  {
   "cell_type": "code",
   "execution_count": 59,
   "id": "a4472913",
   "metadata": {},
   "outputs": [
    {
     "name": "stdout",
     "output_type": "stream",
     "text": [
      "555 µs ± 1.53 µs per loop (mean ± std. dev. of 7 runs, 1000 loops each)\n"
     ]
    }
   ],
   "source": [
    "%%timeit\n",
    "\n",
    "#the execution time of filling a new list with values from the old one extracted from the root\n",
    "#we use a map() function\n",
    "newlist = list(map(sqrt, mylist))"
   ]
  },
  {
   "cell_type": "markdown",
   "id": "e22f1471",
   "metadata": {},
   "source": [
    "As can be seen from these data (the magic word %time it allows you to measure how much time it takes\n",
    "for some operation), the list inclusions are faster than a normal cycle. map() works at about\n",
    "the same speed as the list inclusions (sometimes a little slower, sometimes a little faster)."
   ]
  },
  {
   "cell_type": "markdown",
   "id": "128b8cc8",
   "metadata": {},
   "source": [
    "### Complex data structures"
   ]
  },
  {
   "cell_type": "markdown",
   "id": "58621cd0",
   "metadata": {},
   "source": [
    "Lists allow you to save a number of values, but often you need to be able to work with more\n",
    "complex structures — for example, tables. Some programming languages have\n",
    "two-dimensional arrays. An analogue of a two-dimensional array in Python is a \"list of lists\", that is, a\n",
    "list whose elements are other lists. We have already met with something similar. <br>\n",
    "\n",
    "Consider an example: a table in which the results of several homework assignments from\n",
    "several students are recorded. (Let's say we assigned some numbers to students and therefore we don't need\n",
    "to know who's name is.) It can be written as a list of lists, for example, by lines:"
   ]
  },
  {
   "cell_type": "code",
   "execution_count": 60,
   "id": "19744b91",
   "metadata": {},
   "outputs": [],
   "source": [
    "#creating a table (a list of lists)\n",
    "table = [[\"HW1\", \"HW2\", \"HW3\", \"HW4\"], [4, 3, 4, 4], [3, 4, 3, 4], [4, 5, 5, 4]]"
   ]
  },
  {
   "cell_type": "markdown",
   "id": "c85e710f",
   "metadata": {},
   "source": [
    "Here, each element of the table list is a row of our table, that is, also a list."
   ]
  },
  {
   "cell_type": "code",
   "execution_count": 61,
   "id": "3276deb7",
   "metadata": {},
   "outputs": [
    {
     "data": {
      "text/plain": [
       "4"
      ]
     },
     "execution_count": 61,
     "metadata": {},
     "output_type": "execute_result"
    }
   ],
   "source": [
    "#output what is in the third row and fourth column of the table\n",
    "table[2][3]"
   ]
  },
  {
   "cell_type": "markdown",
   "id": "0d4d351f",
   "metadata": {},
   "source": [
    "What happened here?"
   ]
  },
  {
   "cell_type": "code",
   "execution_count": 62,
   "id": "b4c8e4fe",
   "metadata": {},
   "outputs": [
    {
     "data": {
      "text/plain": [
       "[4, 5, 5, 4]"
      ]
     },
     "execution_count": 62,
     "metadata": {},
     "output_type": "execute_result"
    }
   ],
   "source": [
    "#We first called the third row of the table using:\n",
    "table[3]"
   ]
  },
  {
   "cell_type": "code",
   "execution_count": 63,
   "id": "a88a5e80",
   "metadata": {},
   "outputs": [
    {
     "data": {
      "text/plain": [
       "4"
      ]
     },
     "execution_count": 63,
     "metadata": {},
     "output_type": "execute_result"
    }
   ],
   "source": [
    "#And then from this third line, the fourth element was selected using [3]:\n",
    "table[2][3]"
   ]
  },
  {
   "cell_type": "code",
   "execution_count": 64,
   "id": "66916eb8",
   "metadata": {},
   "outputs": [
    {
     "name": "stdout",
     "output_type": "stream",
     "text": [
      "4\n"
     ]
    }
   ],
   "source": [
    "#It would be possible to write this down in more detail:\n",
    "row = table[2]\n",
    "print(row[3])"
   ]
  },
  {
   "cell_type": "code",
   "execution_count": 65,
   "id": "cbcb2858",
   "metadata": {},
   "outputs": [
    {
     "name": "stdout",
     "output_type": "stream",
     "text": [
      "HW1 HW2 HW3 HW4\n",
      "4 3 4 4\n",
      "3 4 3 4\n",
      "4 5 5 4\n"
     ]
    }
   ],
   "source": [
    "#This is how you can print all the elements of the table line by line:\n",
    "for row in table:\n",
    "    print(*row)"
   ]
  },
  {
   "cell_type": "markdown",
   "id": "07509b4c",
   "metadata": {},
   "source": [
    "Let's say now that we still want to know which student got what grade. Then we could\n",
    "use a dictionary instead of a list of lists, which lists would have values:"
   ]
  },
  {
   "cell_type": "code",
   "execution_count": 66,
   "id": "908d1c1b",
   "metadata": {},
   "outputs": [],
   "source": [
    "#creating a table in the form of a dictionary\n",
    "gradebook = {'Bill': [4, 3, 2], 'Alice': [3, 4, 5], 'Bob': [5, 5, 4]}"
   ]
  },
  {
   "cell_type": "code",
   "execution_count": 67,
   "id": "5cfaac23",
   "metadata": {},
   "outputs": [
    {
     "data": {
      "text/plain": [
       "5"
      ]
     },
     "execution_count": 67,
     "metadata": {},
     "output_type": "execute_result"
    }
   ],
   "source": [
    "#let's find out what grade Bob got on the second homework\n",
    "gradebook[\"Bob\"][1]"
   ]
  }
 ],
 "metadata": {
  "kernelspec": {
   "display_name": "Python 3 (ipykernel)",
   "language": "python",
   "name": "python3"
  },
  "language_info": {
   "codemirror_mode": {
    "name": "ipython",
    "version": 3
   },
   "file_extension": ".py",
   "mimetype": "text/x-python",
   "name": "python",
   "nbconvert_exporter": "python",
   "pygments_lexer": "ipython3",
   "version": "3.9.13"
  }
 },
 "nbformat": 4,
 "nbformat_minor": 5
}
