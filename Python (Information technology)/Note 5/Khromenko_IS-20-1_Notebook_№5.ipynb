{
 "cells": [
  {
   "cell_type": "markdown",
   "id": "d4611fc9",
   "metadata": {},
   "source": [
    "# Notebook №5. Information systems"
   ]
  },
  {
   "cell_type": "markdown",
   "id": "ed67ba95",
   "metadata": {},
   "source": [
    "by a student of the IS-20-1 group, Khromenko Danil.\n",
    "<br>"
   ]
  },
  {
   "cell_type": "markdown",
   "id": "03c12ea8",
   "metadata": {},
   "source": [
    "## Python programming for data collection and analysis"
   ]
  },
  {
   "cell_type": "markdown",
   "id": "0ca3e8d9",
   "metadata": {},
   "source": [
    "### Dictionaries"
   ]
  },
  {
   "cell_type": "markdown",
   "id": "310dc824",
   "metadata": {},
   "source": [
    "Consider this problem: we have information about students' grades in a certain subject and we\n",
    "want to be able to work with this information — for example, by the name of a student to determine\n",
    "what grade he received. We could try to solve this problem by creating two lists — one with\n",
    "the names of students and the other with grades:"
   ]
  },
  {
   "cell_type": "code",
   "execution_count": 1,
   "id": "93aeab8f",
   "metadata": {},
   "outputs": [],
   "source": [
    "#Ilya got 5, Andrey got 3, etc.\n",
    "students = [\"Ilya\", \"Andrey\", \"Sergey\", \"Daniil\"]\n",
    "grades = [5, 3, 4, 2]"
   ]
  },
  {
   "cell_type": "markdown",
   "id": "512d8e5b",
   "metadata": {},
   "source": [
    "It would be nice if we could have a data type in which elements are numbered\n",
    "not by natural numbers, but by arbitrary objects. This data type exists: in Python it\n",
    "is called a dictionary."
   ]
  },
  {
   "cell_type": "code",
   "execution_count": 2,
   "id": "44d43b09",
   "metadata": {},
   "outputs": [],
   "source": [
    "#This is how you can create a dictionary in Python:\n",
    "gradebook = {\"Ilya\": 5, \"Andrey\": 3, \"Sergey\":4, \"Daniil\": 2}"
   ]
  },
  {
   "cell_type": "markdown",
   "id": "aaea80aa",
   "metadata": {},
   "source": [
    "This is similar to creating a list, but there are a number of differences. First, we used curly brackets\n",
    "instead of square ones to show that we are creating a dictionary. Secondly, the dictionary consists of\n",
    "entries, each entry consists of two parts: a key and a value. The key and value\n",
    "are separated by a colon. For example, we have the entry \"Andrey\": 3 with the key \"Andrey\" and the value 3 .\n",
    "In total, our gradebook dictionary now contains four entries, the keys of which are the names\n",
    "of students, and the values are their grades."
   ]
  },
  {
   "cell_type": "code",
   "execution_count": 3,
   "id": "803c6e44",
   "metadata": {},
   "outputs": [
    {
     "data": {
      "text/plain": [
       "{'Ilya': 5, 'Andrey': 3, 'Sergey': 4, 'Daniil': 2}"
      ]
     },
     "execution_count": 3,
     "metadata": {},
     "output_type": "execute_result"
    }
   ],
   "source": [
    "#display the dictionary on the screen\n",
    "gradebook"
   ]
  },
  {
   "cell_type": "markdown",
   "id": "4153271e",
   "metadata": {},
   "source": [
    "Note that Python reordered the entries in the dictionary when printing. In fact, the order of output\n",
    "of entries in the dictionary is arbitrary: entries inside the dictionary have no order.\n",
    "Therefore, you cannot access, for example, the \"first record\", but you can access the record with\n",
    "this key:"
   ]
  },
  {
   "cell_type": "code",
   "execution_count": 4,
   "id": "20651145",
   "metadata": {},
   "outputs": [
    {
     "data": {
      "text/plain": [
       "2"
      ]
     },
     "execution_count": 4,
     "metadata": {},
     "output_type": "execute_result"
    }
   ],
   "source": [
    "#output the value of the key \"Daniil\"\n",
    "gradebook['Daniil']"
   ]
  },
  {
   "cell_type": "code",
   "execution_count": 5,
   "id": "f5a69108",
   "metadata": {},
   "outputs": [
    {
     "data": {
      "text/plain": [
       "5"
      ]
     },
     "execution_count": 5,
     "metadata": {},
     "output_type": "execute_result"
    }
   ],
   "source": [
    "#output the value of the key \"Ilya\"\n",
    "gradebook['Ilya']"
   ]
  },
  {
   "cell_type": "code",
   "execution_count": 6,
   "id": "c2c235f9",
   "metadata": {},
   "outputs": [
    {
     "data": {
      "text/plain": [
       "{'Ilya': 5, 'Andrey': 5, 'Sergey': 4, 'Daniil': 2}"
      ]
     },
     "execution_count": 6,
     "metadata": {},
     "output_type": "execute_result"
    }
   ],
   "source": [
    "#You can change the value of an entry, just like you can change a list item.\n",
    "gradebook['Andrey'] = 5\n",
    "gradebook"
   ]
  },
  {
   "cell_type": "code",
   "execution_count": 7,
   "id": "e492de41",
   "metadata": {},
   "outputs": [
    {
     "data": {
      "text/plain": [
       "{'Ilya': 5, 'Andrey': 5, 'Sergey': 4, 'Daniil': 2, 'Maria': 4}"
      ]
     },
     "execution_count": 7,
     "metadata": {},
     "output_type": "execute_result"
    }
   ],
   "source": [
    "#You can add a new entry\n",
    "gradebook['Maria'] = 4\n",
    "gradebook"
   ]
  },
  {
   "cell_type": "code",
   "execution_count": 8,
   "id": "738142d9",
   "metadata": {},
   "outputs": [
    {
     "ename": "KeyError",
     "evalue": "'Sasha'",
     "output_type": "error",
     "traceback": [
      "\u001b[1;31m---------------------------------------------------------------------------\u001b[0m",
      "\u001b[1;31mKeyError\u001b[0m                                  Traceback (most recent call last)",
      "\u001b[1;32m~\\AppData\\Local\\Temp\\ipykernel_1372\\3654604813.py\u001b[0m in \u001b[0;36m<module>\u001b[1;34m\u001b[0m\n\u001b[0;32m      1\u001b[0m \u001b[1;31m#If we try to access a record that does not exist, we will receive an error message:\u001b[0m\u001b[1;33m\u001b[0m\u001b[1;33m\u001b[0m\u001b[0m\n\u001b[1;32m----> 2\u001b[1;33m \u001b[0mgradebook\u001b[0m\u001b[1;33m[\u001b[0m\u001b[1;34m'Sasha'\u001b[0m\u001b[1;33m]\u001b[0m\u001b[1;33m\u001b[0m\u001b[1;33m\u001b[0m\u001b[0m\n\u001b[0m",
      "\u001b[1;31mKeyError\u001b[0m: 'Sasha'"
     ]
    }
   ],
   "source": [
    "#If we try to access a record that does not exist, we will receive an error message:\n",
    "gradebook['Sasha']"
   ]
  },
  {
   "cell_type": "markdown",
   "id": "49bc93cf",
   "metadata": {},
   "source": [
    "Often we want to be able to request a record, and if there isn't one, get some kind of \"default value\", not an error. To do this, use the get() method instead\n",
    "of square brackets."
   ]
  },
  {
   "cell_type": "code",
   "execution_count": 9,
   "id": "2ec9ab37",
   "metadata": {},
   "outputs": [],
   "source": [
    "#getting a record using the get() method\n",
    "gradebook.get('Alice')"
   ]
  },
  {
   "cell_type": "code",
   "execution_count": 10,
   "id": "321e584e",
   "metadata": {},
   "outputs": [
    {
     "name": "stdout",
     "output_type": "stream",
     "text": [
      "None\n"
     ]
    }
   ],
   "source": [
    "#None has returned here :\n",
    "print(gradebook.get('Alice'))"
   ]
  },
  {
   "cell_type": "code",
   "execution_count": 11,
   "id": "b0b2b424",
   "metadata": {},
   "outputs": [
    {
     "data": {
      "text/plain": [
       "5"
      ]
     },
     "execution_count": 11,
     "metadata": {},
     "output_type": "execute_result"
    }
   ],
   "source": [
    "#getting a record using the get() method\n",
    "gradebook.get('Andrey')"
   ]
  },
  {
   "cell_type": "markdown",
   "id": "8c502b95",
   "metadata": {},
   "source": [
    "It would be possible to pass get() the second argument, and then if there is no such key in the dictionary,\n",
    "it will be returned."
   ]
  },
  {
   "cell_type": "code",
   "execution_count": 12,
   "id": "6beb51c1",
   "metadata": {},
   "outputs": [
    {
     "data": {
      "text/plain": [
       "'No such student'"
      ]
     },
     "execution_count": 12,
     "metadata": {},
     "output_type": "execute_result"
    }
   ],
   "source": [
    "#if there is no key, it will return the second argument of the get() method\n",
    "gradebook.get('Alice', 'No such student')"
   ]
  },
  {
   "cell_type": "code",
   "execution_count": 13,
   "id": "c4f9b460",
   "metadata": {},
   "outputs": [
    {
     "data": {
      "text/plain": [
       "2"
      ]
     },
     "execution_count": 13,
     "metadata": {},
     "output_type": "execute_result"
    }
   ],
   "source": [
    "#if there is no key, it will return the second argument of the get() method\n",
    "gradebook.get('Daniil', 'No such student')"
   ]
  },
  {
   "cell_type": "code",
   "execution_count": 14,
   "id": "e64a5665",
   "metadata": {},
   "outputs": [
    {
     "data": {
      "text/plain": [
       "dict_keys(['Ilya', 'Andrey', 'Sergey', 'Daniil', 'Maria'])"
      ]
     },
     "execution_count": 14,
     "metadata": {},
     "output_type": "execute_result"
    }
   ],
   "source": [
    "#You can get a list of all the dictionary keys:\n",
    "gradebook.keys()"
   ]
  },
  {
   "cell_type": "markdown",
   "id": "a158b382",
   "metadata": {},
   "source": [
    "In fact, it's not really a list, but this thing behaves almost like a list and you can\n",
    "make a list out of it. Similarly with a list of all dictionary values."
   ]
  },
  {
   "cell_type": "code",
   "execution_count": 15,
   "id": "9dbcf55c",
   "metadata": {},
   "outputs": [
    {
     "data": {
      "text/plain": [
       "dict_values([5, 5, 4, 2, 4])"
      ]
     },
     "execution_count": 15,
     "metadata": {},
     "output_type": "execute_result"
    }
   ],
   "source": [
    "#You can get a list of all dictionary values:\n",
    "gradebook.values()"
   ]
  },
  {
   "cell_type": "markdown",
   "id": "5c0b344f",
   "metadata": {},
   "source": [
    "Dictionary keys can be not only lines. Let's say we want to create a dictionary in which\n",
    "the keys are numbers. There is nothing easier:"
   ]
  },
  {
   "cell_type": "code",
   "execution_count": 22,
   "id": "b072bda3",
   "metadata": {},
   "outputs": [],
   "source": [
    "#creating a list with number keys\n",
    "squares={1:1, 2:4, 3:9}"
   ]
  },
  {
   "cell_type": "code",
   "execution_count": 17,
   "id": "066747ba",
   "metadata": {},
   "outputs": [
    {
     "data": {
      "text/plain": [
       "{1: 1, 2: 4, 3: 9}"
      ]
     },
     "execution_count": 17,
     "metadata": {},
     "output_type": "execute_result"
    }
   ],
   "source": [
    "squares"
   ]
  },
  {
   "cell_type": "code",
   "execution_count": 18,
   "id": "523ef72c",
   "metadata": {},
   "outputs": [
    {
     "name": "stdout",
     "output_type": "stream",
     "text": [
      "1\n",
      "4\n"
     ]
    }
   ],
   "source": [
    "#In the next two lines, squares behaves roughly like a list, but if you look closely, \n",
    "#you can see that this is not a list, but still a dictionary.\n",
    "print(squares[1])\n",
    "print(squares[2])"
   ]
  },
  {
   "cell_type": "code",
   "execution_count": 19,
   "id": "915705db",
   "metadata": {},
   "outputs": [
    {
     "ename": "KeyError",
     "evalue": "0",
     "output_type": "error",
     "traceback": [
      "\u001b[1;31m---------------------------------------------------------------------------\u001b[0m",
      "\u001b[1;31mKeyError\u001b[0m                                  Traceback (most recent call last)",
      "\u001b[1;32m~\\AppData\\Local\\Temp\\ipykernel_1372\\1518308358.py\u001b[0m in \u001b[0;36m<module>\u001b[1;34m\u001b[0m\n\u001b[0;32m      1\u001b[0m \u001b[1;31m#For example, any non-empty list has an element with index 0, but squares does not have such an element:\u001b[0m\u001b[1;33m\u001b[0m\u001b[1;33m\u001b[0m\u001b[0m\n\u001b[0;32m      2\u001b[0m \u001b[1;31m#we refer to a non-existent list key\u001b[0m\u001b[1;33m\u001b[0m\u001b[1;33m\u001b[0m\u001b[0m\n\u001b[1;32m----> 3\u001b[1;33m \u001b[0msquares\u001b[0m\u001b[1;33m[\u001b[0m\u001b[1;36m0\u001b[0m\u001b[1;33m]\u001b[0m\u001b[1;33m\u001b[0m\u001b[1;33m\u001b[0m\u001b[0m\n\u001b[0m",
      "\u001b[1;31mKeyError\u001b[0m: 0"
     ]
    }
   ],
   "source": [
    "#For example, any non-empty list has an element with index 0, but squares does not have such an element:\n",
    "#we refer to a non-existent list key\n",
    "squares[0]"
   ]
  },
  {
   "cell_type": "markdown",
   "id": "a4c91027",
   "metadata": {},
   "source": [
    "### Enumeration entries in the dictionary"
   ]
  },
  {
   "cell_type": "markdown",
   "id": "58712891",
   "metadata": {},
   "source": [
    "How to process information in the dictionary? To iterate through all the elements of the list , you could\n",
    "use the for loop . And what happens if you feed him a dictionary instead of a list? Let's try:"
   ]
  },
  {
   "cell_type": "code",
   "execution_count": 20,
   "id": "b6ff0d3b",
   "metadata": {},
   "outputs": [
    {
     "name": "stdout",
     "output_type": "stream",
     "text": [
      "Ilya\n",
      "Andrey\n",
      "Sergey\n",
      "Daniil\n",
      "Maria\n"
     ]
    }
   ],
   "source": [
    "#trying to iterate through the dictionary with a for loop\n",
    "for i in gradebook:\n",
    "    print(i)"
   ]
  },
  {
   "cell_type": "markdown",
   "id": "c6c28739",
   "metadata": {},
   "source": [
    "I see! The for loop in this case iterates through all the keys of our dictionary. And knowing the key, you can\n",
    "get the value:"
   ]
  },
  {
   "cell_type": "code",
   "execution_count": 25,
   "id": "b3d4f906",
   "metadata": {},
   "outputs": [
    {
     "name": "stdout",
     "output_type": "stream",
     "text": [
      "Student Ilya has a grade 5\n",
      "Student Andrey has a grade 5\n",
      "Student Sergey has a grade 4\n",
      "Student Daniil has a grade 2\n",
      "Student Maria has a grade 4\n"
     ]
    }
   ],
   "source": [
    "#getting all keys and values using the for loop\n",
    "for i in gradebook:\n",
    "    print(\"Student\", i, \"has a grade\", gradebook[i])"
   ]
  },
  {
   "cell_type": "markdown",
   "id": "4d5b204f",
   "metadata": {},
   "source": [
    "However, there is a more elegant way to get the key and value of the next record at once: use items()."
   ]
  },
  {
   "cell_type": "code",
   "execution_count": 26,
   "id": "a154879a",
   "metadata": {},
   "outputs": [
    {
     "name": "stdout",
     "output_type": "stream",
     "text": [
      "Student Ilya has a grade 5\n",
      "Student Andrey has a grade 5\n",
      "Student Sergey has a grade 4\n",
      "Student Daniil has a grade 2\n",
      "Student Maria has a grade 4\n"
     ]
    }
   ],
   "source": [
    "#getting all keys and values using the for loop (a slightly different method)\n",
    "for i, k in gradebook.items():\n",
    "    print(\"Student\", i, \"has a grade\", k)"
   ]
  },
  {
   "cell_type": "markdown",
   "id": "669e5575",
   "metadata": {},
   "source": [
    "How does this code work? Here the items() method is used, which returns a list (more precisely,\n",
    "an iterator) consisting of tuples of the form (key, value)."
   ]
  },
  {
   "cell_type": "code",
   "execution_count": 28,
   "id": "dd054662",
   "metadata": {},
   "outputs": [
    {
     "data": {
      "text/plain": [
       "[('Ilya', 5), ('Andrey', 5), ('Sergey', 4), ('Daniil', 2), ('Maria', 4)]"
      ]
     },
     "execution_count": 28,
     "metadata": {},
     "output_type": "execute_result"
    }
   ],
   "source": [
    "#creating a list of tuples from a dictionary\n",
    "list(gradebook.items())"
   ]
  },
  {
   "cell_type": "markdown",
   "id": "f0e7fa35",
   "metadata": {},
   "source": [
    "In this case, the for operator understands that it is necessary to select the next tuple each time the loop passes\n",
    "and assign its first element (that is, the key) to the variable i, and the second element (that is\n",
    ", the value) to the variable k (of course, these variables could be called differently). \n",
    "We have already met with similar behavior when discussing the enumerate construction."
   ]
  },
  {
   "cell_type": "code",
   "execution_count": 29,
   "id": "e3f07c4b",
   "metadata": {},
   "outputs": [
    {
     "name": "stdout",
     "output_type": "stream",
     "text": [
      "Sergey\n",
      "Maria\n"
     ]
    }
   ],
   "source": [
    "#this way you can find all records with a given value\n",
    "for k, v in gradebook.items():\n",
    "     if v==4:\n",
    "         print(k)"
   ]
  },
  {
   "cell_type": "markdown",
   "id": "52040bc8",
   "metadata": {},
   "source": [
    "Note that such a \"value search\" requires going through all entries in the dictionary and if the dictionary\n",
    "is large, it will take a lot of time — although the \"key search\" will still\n",
    "be performed quickly. By the way, you can quickly check if there is an entry with this\n",
    "key in the dictionary:"
   ]
  },
  {
   "cell_type": "code",
   "execution_count": 30,
   "id": "65076161",
   "metadata": {},
   "outputs": [
    {
     "data": {
      "text/plain": [
       "True"
      ]
     },
     "execution_count": 30,
     "metadata": {},
     "output_type": "execute_result"
    }
   ],
   "source": [
    "#checking whether an entry with this key exists in the dictionary\n",
    "\"Andrey\" in gradebook"
   ]
  },
  {
   "cell_type": "code",
   "execution_count": 31,
   "id": "f17e500b",
   "metadata": {},
   "outputs": [
    {
     "data": {
      "text/plain": [
       "False"
      ]
     },
     "execution_count": 31,
     "metadata": {},
     "output_type": "execute_result"
    }
   ],
   "source": [
    "#checking whether an entry with this key exists in the dictionary\n",
    "\"Michael\" in gradebook"
   ]
  },
  {
   "cell_type": "markdown",
   "id": "4c647710",
   "metadata": {},
   "source": [
    "If we wanted to search among the values, we would have to explicitly specify this using the method\n",
    "values() :"
   ]
  },
  {
   "cell_type": "code",
   "execution_count": 32,
   "id": "66c64127",
   "metadata": {},
   "outputs": [
    {
     "data": {
      "text/plain": [
       "False"
      ]
     },
     "execution_count": 32,
     "metadata": {},
     "output_type": "execute_result"
    }
   ],
   "source": [
    "#checking whether an entry with this value exists in the dictionary\n",
    "1 in gradebook.values()"
   ]
  },
  {
   "cell_type": "code",
   "execution_count": 33,
   "id": "bd97f5b1",
   "metadata": {},
   "outputs": [
    {
     "data": {
      "text/plain": [
       "True"
      ]
     },
     "execution_count": 33,
     "metadata": {},
     "output_type": "execute_result"
    }
   ],
   "source": [
    "#checking whether an entry with this value exists in the dictionary\n",
    "5 in gradebook.values()"
   ]
  },
  {
   "cell_type": "markdown",
   "id": "ef2faa89",
   "metadata": {},
   "source": [
    "In general, the in operator is not limited only to use with dictionaries: it can\n",
    "be used, for example, with lists:"
   ]
  },
  {
   "cell_type": "code",
   "execution_count": 34,
   "id": "8702ec88",
   "metadata": {},
   "outputs": [
    {
     "data": {
      "text/plain": [
       "True"
      ]
     },
     "execution_count": 34,
     "metadata": {},
     "output_type": "execute_result"
    }
   ],
   "source": [
    "#the in operator when working with lists\n",
    "5 in [1,2,3,5,8]"
   ]
  },
  {
   "cell_type": "code",
   "execution_count": 35,
   "id": "076012d7",
   "metadata": {},
   "outputs": [
    {
     "data": {
      "text/plain": [
       "False"
      ]
     },
     "execution_count": 35,
     "metadata": {},
     "output_type": "execute_result"
    }
   ],
   "source": [
    "#the in operator when working with lists\n",
    "6 in range(1,5)"
   ]
  },
  {
   "cell_type": "markdown",
   "id": "5439859a",
   "metadata": {},
   "source": [
    "### Creating dictionaries and zip() function"
   ]
  },
  {
   "cell_type": "markdown",
   "id": "df8717e1",
   "metadata": {},
   "source": [
    "There are different ways to create dictionaries. For example, you can create an empty dictionary and gradually\n",
    "fill it with elements:"
   ]
  },
  {
   "cell_type": "code",
   "execution_count": 36,
   "id": "eed2ca59",
   "metadata": {},
   "outputs": [],
   "source": [
    "#creating an empty dictionary\n",
    "my_dict = {}"
   ]
  },
  {
   "cell_type": "code",
   "execution_count": 37,
   "id": "4dc3289c",
   "metadata": {},
   "outputs": [],
   "source": [
    "#filling the dictionary with values\n",
    "my_dict[1] = 1\n",
    "my_dict['hello'] = 'world'"
   ]
  },
  {
   "cell_type": "code",
   "execution_count": 38,
   "id": "a4b5d649",
   "metadata": {},
   "outputs": [
    {
     "data": {
      "text/plain": [
       "{1: 1, 'hello': 'world'}"
      ]
     },
     "execution_count": 38,
     "metadata": {},
     "output_type": "execute_result"
    }
   ],
   "source": [
    "#output of dictionary keys and values\n",
    "my_dict"
   ]
  },
  {
   "cell_type": "markdown",
   "id": "9e9e20f6",
   "metadata": {},
   "source": [
    "Note that elements of different types (in this case, strings and integers) get along well in the same dictionary. <br>\n",
    "You can create a dictionary differently by passing the dict() function a list consisting of key-value pairs (in\n",
    "a sense, this is the reverse operation of the items() method):"
   ]
  },
  {
   "cell_type": "code",
   "execution_count": 39,
   "id": "27f1ea01",
   "metadata": {},
   "outputs": [],
   "source": [
    "#using the dect() function to fill the dictionary\n",
    "my_dict = dict([('hello','world'), ('one', 'two')])"
   ]
  },
  {
   "cell_type": "code",
   "execution_count": 40,
   "id": "1f821e1c",
   "metadata": {},
   "outputs": [
    {
     "data": {
      "text/plain": [
       "{'hello': 'world', 'one': 'two'}"
      ]
     },
     "execution_count": 40,
     "metadata": {},
     "output_type": "execute_result"
    }
   ],
   "source": [
    "my_dict"
   ]
  },
  {
   "cell_type": "markdown",
   "id": "2e88575b",
   "metadata": {},
   "source": [
    "Let's say we have two lists, one contains the names of students, and the other contains their grades. How can\n",
    "we create a dictionary from these lists for which names would be keys and grades would be values? Like this:"
   ]
  },
  {
   "cell_type": "code",
   "execution_count": 44,
   "id": "7647e099",
   "metadata": {},
   "outputs": [
    {
     "data": {
      "text/plain": [
       "[('Ilya', 5), ('Andrey', 2), ('Sergey', 4), ('Daniil', 3)]"
      ]
     },
     "execution_count": 44,
     "metadata": {},
     "output_type": "execute_result"
    }
   ],
   "source": [
    "#creating a dictionary using two lists using the zip() function\n",
    "students = [\"Ilya\", \"Andrey\", \"Sergey\", \"Daniil\"]\n",
    "grades = [5, 2, 4, 3]\n",
    "new_gradebook = list(zip(students,grades))\n",
    "new_gradebook"
   ]
  },
  {
   "cell_type": "markdown",
   "id": "12db7b36",
   "metadata": {},
   "source": [
    "A convenient zip() function is used here, the use of which is not limited to creating\n",
    "dictionaries. Like a zipper, it \"fastens\" (hence the name) several lists.\n",
    "For example, zip() makes a list of pairs from a pair of lists:"
   ]
  },
  {
   "cell_type": "code",
   "execution_count": 45,
   "id": "49affba0",
   "metadata": {},
   "outputs": [
    {
     "data": {
      "text/plain": [
       "[(1, 'a'), (2, 'b'), (3, 'c')]"
      ]
     },
     "execution_count": 45,
     "metadata": {},
     "output_type": "execute_result"
    }
   ],
   "source": [
    "#zip() makes a list of pairs from a pair of lists\n",
    "list(zip([1,2,3],['a','b','c']))"
   ]
  },
  {
   "cell_type": "markdown",
   "id": "e1abeea5",
   "metadata": {},
   "source": [
    "This construction can be used when we need to iterate over the elements of two interconnected\n",
    "lists. For example, this is how you can output information about which student has what grade, without using dictionaries:"
   ]
  },
  {
   "cell_type": "code",
   "execution_count": 46,
   "id": "a5a67ae3",
   "metadata": {},
   "outputs": [
    {
     "name": "stdout",
     "output_type": "stream",
     "text": [
      "Ilya has grade 5\n",
      "Andrey has grade 2\n",
      "Sergey has grade 4\n",
      "Daniil has grade 3\n"
     ]
    }
   ],
   "source": [
    "#iterating through two lists without using dictionaries\n",
    "for student, grade in zip(students, grades):\n",
    "    print(student, \"has grade\", grade)"
   ]
  },
  {
   "cell_type": "code",
   "execution_count": 47,
   "id": "0f9ea73b",
   "metadata": {},
   "outputs": [
    {
     "data": {
      "text/plain": [
       "[(1, 5, 'a'), (2, 6, 'b'), (3, 7, 'c'), (4, 8, 'd')]"
      ]
     },
     "execution_count": 47,
     "metadata": {},
     "output_type": "execute_result"
    }
   ],
   "source": [
    "#The zip() function can also be used with more than two lists:\n",
    "list(zip([1,2,3,4], [5,6,7,8], ['a','b','c','d']))"
   ]
  },
  {
   "cell_type": "code",
   "execution_count": 48,
   "id": "e7af0ce9",
   "metadata": {},
   "outputs": [
    {
     "data": {
      "text/plain": [
       "[(1, 'a'), (2, 'b')]"
      ]
     },
     "execution_count": 48,
     "metadata": {},
     "output_type": "execute_result"
    }
   ],
   "source": [
    "#If one of the lists turns out to be shorter, zip() will \"trim\" the rest of the lists:\n",
    "list(zip([1,2,3], ['a','b']))"
   ]
  },
  {
   "cell_type": "markdown",
   "id": "22f7f584",
   "metadata": {},
   "source": [
    "### Which objects can be dictionary keys"
   ]
  },
  {
   "cell_type": "markdown",
   "id": "83df6dc2",
   "metadata": {},
   "source": [
    "So far, we have considered dictionaries whose keys are strings and numbers. In fact,\n",
    "keys can be more complexly arranged objects. For example, imagine such\n",
    "an implementation of a fragment of the addition table in the form of a dictionary:"
   ]
  },
  {
   "cell_type": "code",
   "execution_count": 50,
   "id": "55d6c979",
   "metadata": {},
   "outputs": [
    {
     "data": {
      "text/plain": [
       "{(2, 3): 5, (4, 1): 5, (5, 7): 12}"
      ]
     },
     "execution_count": 50,
     "metadata": {},
     "output_type": "execute_result"
    }
   ],
   "source": [
    "#implementation of a fragment of the addition table in the form of a dictionary\n",
    "sums = {(2,3): 5, (4, 1): 5, (5, 7): 12}\n",
    "sums"
   ]
  },
  {
   "cell_type": "markdown",
   "id": "382505fc",
   "metadata": {},
   "source": [
    "Here, the keys are tuples consisting of two numbers, and the values are the sums of these numbers."
   ]
  },
  {
   "cell_type": "code",
   "execution_count": 53,
   "id": "118299eb",
   "metadata": {},
   "outputs": [
    {
     "name": "stdout",
     "output_type": "stream",
     "text": [
      "5\n",
      "12\n"
     ]
    }
   ],
   "source": [
    "#output of list values by key\n",
    "print(sums[(2,3)])\n",
    "print(sums[(5,7)])"
   ]
  },
  {
   "cell_type": "markdown",
   "id": "e4cd939d",
   "metadata": {},
   "source": [
    "At this point, an important difference between tuples and lists appears: the latter cannot be\n",
    "dictionary keys, since they can change"
   ]
  },
  {
   "cell_type": "code",
   "execution_count": 55,
   "id": "139b8a9c",
   "metadata": {},
   "outputs": [
    {
     "ename": "TypeError",
     "evalue": "unhashable type: 'list'",
     "output_type": "error",
     "traceback": [
      "\u001b[1;31m---------------------------------------------------------------------------\u001b[0m",
      "\u001b[1;31mTypeError\u001b[0m                                 Traceback (most recent call last)",
      "\u001b[1;32m~\\AppData\\Local\\Temp\\ipykernel_1372\\2880588588.py\u001b[0m in \u001b[0;36m<module>\u001b[1;34m\u001b[0m\n\u001b[0;32m      1\u001b[0m \u001b[1;31m#lists cannot be dictionary keys because they can change\u001b[0m\u001b[1;33m\u001b[0m\u001b[1;33m\u001b[0m\u001b[0m\n\u001b[1;32m----> 2\u001b[1;33m \u001b[0msums\u001b[0m \u001b[1;33m=\u001b[0m \u001b[1;33m{\u001b[0m \u001b[1;33m[\u001b[0m\u001b[1;36m1\u001b[0m\u001b[1;33m,\u001b[0m\u001b[1;36m2\u001b[0m\u001b[1;33m]\u001b[0m\u001b[1;33m:\u001b[0m \u001b[1;36m3\u001b[0m\u001b[1;33m,\u001b[0m \u001b[1;33m[\u001b[0m\u001b[1;36m4\u001b[0m\u001b[1;33m,\u001b[0m \u001b[1;36m1\u001b[0m\u001b[1;33m]\u001b[0m\u001b[1;33m:\u001b[0m \u001b[1;36m5\u001b[0m\u001b[1;33m,\u001b[0m \u001b[1;33m[\u001b[0m\u001b[1;36m5\u001b[0m\u001b[1;33m,\u001b[0m \u001b[1;36m7\u001b[0m\u001b[1;33m]\u001b[0m\u001b[1;33m:\u001b[0m \u001b[1;36m12\u001b[0m\u001b[1;33m}\u001b[0m\u001b[1;33m\u001b[0m\u001b[1;33m\u001b[0m\u001b[0m\n\u001b[0m",
      "\u001b[1;31mTypeError\u001b[0m: unhashable type: 'list'"
     ]
    }
   ],
   "source": [
    "#lists cannot be dictionary keys because they can change\n",
    "sums = { [1,2]: 3, [4, 1]: 5, [5, 7]: 12}"
   ]
  },
  {
   "cell_type": "markdown",
   "id": "ae194cfd",
   "metadata": {},
   "source": [
    "### List comprehensions"
   ]
  },
  {
   "cell_type": "markdown",
   "id": "ac0f5ec1",
   "metadata": {},
   "source": [
    "We have often faced such a task before: a list is given in which the numbers are written, but in the form\n",
    "of lines. Create a new list in which the numbers would be numbers. We could solve this problem\n",
    "using a loop:"
   ]
  },
  {
   "cell_type": "code",
   "execution_count": 57,
   "id": "247a5088",
   "metadata": {},
   "outputs": [
    {
     "name": "stdout",
     "output_type": "stream",
     "text": [
      "['1', '5', '12', '7']\n",
      "[1, 5, 12, 7]\n"
     ]
    }
   ],
   "source": [
    "#converting a list of strings to a list of numbers\n",
    "str_list = [\"1\", \"5\", \"12\", \"7\"]\n",
    "int_list = []\n",
    "for s in str_list:\n",
    "     int_list.append(int(s))\n",
    "print(str_list)\n",
    "print(int_list)"
   ]
  },
  {
   "cell_type": "markdown",
   "id": "b678244d",
   "metadata": {},
   "source": [
    "Three lines are responsible for creating a new list. Writing them every time is pretty boring, and\n",
    "the creators of Python came up with (or rather, borrowed from functional programming languages, and\n",
    "those borrowed it from mathematicians) a much more elegant syntax. It is arranged like this:"
   ]
  },
  {
   "cell_type": "code",
   "execution_count": 59,
   "id": "fb52a630",
   "metadata": {},
   "outputs": [],
   "source": [
    "#converting a list of strings to a list of numbers\n",
    "int_list = [int(s) for s in str_list]"
   ]
  },
  {
   "cell_type": "markdown",
   "id": "742ca47a",
   "metadata": {},
   "source": [
    "The square brackets around the expression should suggest that we are creating a list (because when\n",
    "we need to create a list, we usually enclose its elements in square brackets). The expression inside\n",
    "the brackets should be read literally:<br>\n",
    "a list consisting of int(s) elements for (for ) s elements from the (in ) list str_list"
   ]
  },
  {
   "cell_type": "code",
   "execution_count": 61,
   "id": "32ac87c9",
   "metadata": {},
   "outputs": [
    {
     "data": {
      "text/plain": [
       "[1, 5, 12, 7]"
      ]
     },
     "execution_count": 61,
     "metadata": {},
     "output_type": "execute_result"
    }
   ],
   "source": [
    "#list output\n",
    "int_list"
   ]
  },
  {
   "cell_type": "markdown",
   "id": "780f0f42",
   "metadata": {},
   "source": [
    "See? The quotes have disappeared — we have a list of numbers in front of us. Magic! The original list\n",
    "of str_list has not changed at the same time:"
   ]
  },
  {
   "cell_type": "code",
   "execution_count": 62,
   "id": "830ecb6d",
   "metadata": {},
   "outputs": [
    {
     "data": {
      "text/plain": [
       "['1', '5', '12', '7']"
      ]
     },
     "execution_count": 62,
     "metadata": {},
     "output_type": "execute_result"
    }
   ],
   "source": [
    "#list output\n",
    "str_list"
   ]
  },
  {
   "cell_type": "markdown",
   "id": "290086a7",
   "metadata": {},
   "source": [
    "Similarly, you can apply any operation to the list items. For example, let's square all the\n",
    "elements from int_list:"
   ]
  },
  {
   "cell_type": "code",
   "execution_count": 64,
   "id": "9693c613",
   "metadata": {},
   "outputs": [
    {
     "data": {
      "text/plain": [
       "[1, 25, 144, 49]"
      ]
     },
     "execution_count": 64,
     "metadata": {},
     "output_type": "execute_result"
    }
   ],
   "source": [
    "#squaring the elements of a list of numbers\n",
    "[x**2 for x in int_list]"
   ]
  },
  {
   "cell_type": "code",
   "execution_count": 66,
   "id": "df1fa2d8",
   "metadata": {},
   "outputs": [
    {
     "data": {
      "text/plain": [
       "[2, 10, 24, 14]"
      ]
     },
     "execution_count": 66,
     "metadata": {},
     "output_type": "execute_result"
    }
   ],
   "source": [
    "#doubling all list items\n",
    "double_int_list = [x*2 for x in int_list]\n",
    "double_int_list"
   ]
  },
  {
   "cell_type": "code",
   "execution_count": 67,
   "id": "d8cf557a",
   "metadata": {},
   "outputs": [
    {
     "data": {
      "text/plain": [
       "[1.0, 5.0, 12.0, 7.0]"
      ]
     },
     "execution_count": 67,
     "metadata": {},
     "output_type": "execute_result"
    }
   ],
   "source": [
    "#or convert the list items into floating point numbers\n",
    "[float(x) for x in int_list]"
   ]
  },
  {
   "cell_type": "markdown",
   "id": "bd8cf1d2",
   "metadata": {},
   "source": [
    "As you can see, you can do anything with the list items! However, that's not all. In the syntax\n",
    "list inclusions can be filtered. For example, we only need those elements\n",
    "that are greater than 6. We can select them this way:"
   ]
  },
  {
   "cell_type": "code",
   "execution_count": 68,
   "id": "9ce76e3c",
   "metadata": {},
   "outputs": [
    {
     "data": {
      "text/plain": [
       "[12, 7]"
      ]
     },
     "execution_count": 68,
     "metadata": {},
     "output_type": "execute_result"
    }
   ],
   "source": [
    "#output of list items whose value is greater than 6\n",
    "[x for x in int_list if x > 6]"
   ]
  },
  {
   "cell_type": "markdown",
   "id": "50175601",
   "metadata": {},
   "source": [
    "When we write x for x here, we mean that we just need to substitute\n",
    "the elements of the old one into the new list without doing anything with them (only choosing the right ones). But you can also modify them somehow:"
   ]
  },
  {
   "cell_type": "code",
   "execution_count": 69,
   "id": "18a6154c",
   "metadata": {},
   "outputs": [
    {
     "data": {
      "text/plain": [
       "[144, 49]"
      ]
     },
     "execution_count": 69,
     "metadata": {},
     "output_type": "execute_result"
    }
   ],
   "source": [
    "#output of squared list items whose value is greater than 6\n",
    "[x**2 for x in int_list if x > 6]"
   ]
  },
  {
   "cell_type": "markdown",
   "id": "7c87f65c",
   "metadata": {},
   "source": [
    "Now let's solve this problem: there are two lists with numbers, and we want to find their element sum."
   ]
  },
  {
   "cell_type": "code",
   "execution_count": 70,
   "id": "83af6cba",
   "metadata": {},
   "outputs": [],
   "source": [
    "#there are two lists with numbers\n",
    "X = [2, 5, 8]\n",
    "Y = [1, 3, 100]"
   ]
  },
  {
   "cell_type": "markdown",
   "id": "193f48c5",
   "metadata": {},
   "source": [
    "It can be solved in this way (to iterate over the elements of two lists at the same time, we use\n",
    "the zip() construction discussed above):"
   ]
  },
  {
   "cell_type": "code",
   "execution_count": 74,
   "id": "66743119",
   "metadata": {},
   "outputs": [
    {
     "data": {
      "text/plain": [
       "[3, 8, 108]"
      ]
     },
     "execution_count": 74,
     "metadata": {},
     "output_type": "execute_result"
    }
   ],
   "source": [
    "#нахождение суммы их элементов\n",
    "Z = [x+y for x, y in zip(X, Y)]\n",
    "Z"
   ]
  },
  {
   "cell_type": "markdown",
   "id": "d786dfce",
   "metadata": {},
   "source": [
    "By the way, you can use a syntax similar to list inclusion to create dictionaries:"
   ]
  },
  {
   "cell_type": "code",
   "execution_count": 75,
   "id": "05214814",
   "metadata": {},
   "outputs": [
    {
     "data": {
      "text/plain": [
       "{0: 0, 1: 1, 2: 4, 3: 9, 4: 16, 5: 25, 6: 36, 7: 49, 8: 64, 9: 81}"
      ]
     },
     "execution_count": 75,
     "metadata": {},
     "output_type": "execute_result"
    }
   ],
   "source": [
    "#you can use a syntax similar to list comprehensions to create dictionaries.\n",
    "squared = {i: i**2 for i in range(10)}\n",
    "squared"
   ]
  },
  {
   "cell_type": "markdown",
   "id": "fa2ebe91",
   "metadata": {},
   "source": [
    "### Map() function"
   ]
  },
  {
   "cell_type": "markdown",
   "id": "7c3afd3c",
   "metadata": {},
   "source": [
    "The list inclusions have an analogue, which is now considered not too convenient, but sometimes\n",
    "occurs: the map() function."
   ]
  },
  {
   "cell_type": "code",
   "execution_count": 77,
   "id": "8c80e920",
   "metadata": {},
   "outputs": [
    {
     "data": {
      "text/plain": [
       "['1', '5', '12', '7']"
      ]
     },
     "execution_count": 77,
     "metadata": {},
     "output_type": "execute_result"
    }
   ],
   "source": [
    "#output a list of strings\n",
    "str_list"
   ]
  },
  {
   "cell_type": "code",
   "execution_count": null,
   "id": "bda78a79",
   "metadata": {},
   "outputs": [],
   "source": []
  }
 ],
 "metadata": {
  "kernelspec": {
   "display_name": "Python 3 (ipykernel)",
   "language": "python",
   "name": "python3"
  },
  "language_info": {
   "codemirror_mode": {
    "name": "ipython",
    "version": 3
   },
   "file_extension": ".py",
   "mimetype": "text/x-python",
   "name": "python",
   "nbconvert_exporter": "python",
   "pygments_lexer": "ipython3",
   "version": "3.9.13"
  }
 },
 "nbformat": 4,
 "nbformat_minor": 5
}
