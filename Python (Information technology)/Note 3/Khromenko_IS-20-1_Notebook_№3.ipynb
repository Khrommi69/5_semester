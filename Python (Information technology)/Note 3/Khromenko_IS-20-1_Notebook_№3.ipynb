{
 "cells": [
  {
   "cell_type": "markdown",
   "id": "d4611fc9",
   "metadata": {},
   "source": [
    "# Notebook №3. Information systems"
   ]
  },
  {
   "cell_type": "markdown",
   "id": "ed67ba95",
   "metadata": {},
   "source": [
    "## Performed by a student of the IS-20-1 group, Khromenko Danil.\n",
    "<br>"
   ]
  },
  {
   "cell_type": "markdown",
   "id": "c2732bf1",
   "metadata": {},
   "source": [
    "### Input-output of lists"
   ]
  },
  {
   "cell_type": "markdown",
   "id": "90e78f14",
   "metadata": {},
   "source": [
    "**Turning a string into a list** <br>\n",
    "Let's take a string consisting of words separated by spaces (maybe more than one) and end-of-line characters."
   ]
  },
  {
   "cell_type": "code",
   "execution_count": 1,
   "id": "c20ea90a",
   "metadata": {},
   "outputs": [
    {
     "name": "stdout",
     "output_type": "stream",
     "text": [
      "hello world    this is    a\n",
      "test\n"
     ]
    }
   ],
   "source": [
    "# String input and output\n",
    "s = \"hello world    this is    a\\ntest\"\n",
    "print(s)"
   ]
  },
  {
   "cell_type": "markdown",
   "id": "df7bad29",
   "metadata": {},
   "source": [
    "If we want to work with individual words included in this string, then we need to divide it into\n",
    "separate words — that is, get a list consisting of words that are included in this string. To\n",
    "do this, you can use the split() method."
   ]
  },
  {
   "cell_type": "code",
   "execution_count": 2,
   "id": "bdbeec56",
   "metadata": {},
   "outputs": [
    {
     "data": {
      "text/plain": [
       "['hello', 'world', 'this', 'is', 'a', 'test']"
      ]
     },
     "execution_count": 2,
     "metadata": {},
     "output_type": "execute_result"
    }
   ],
   "source": [
    "# creating a list from a string\n",
    "s.split()"
   ]
  },
  {
   "cell_type": "markdown",
   "id": "35c79df9",
   "metadata": {},
   "source": [
    "We got exactly what we wanted. Note that\n",
    "spaces (one or more) were used as a separator in this case, as well as any whitespace characters, which\n",
    "include the tab character (we did not have it) and the newline character \\n. Separators do not fall into the elements\n",
    "of the resulting list."
   ]
  },
  {
   "cell_type": "markdown",
   "id": "f494b4d1",
   "metadata": {},
   "source": [
    "**Important!** The split() method does not change the string."
   ]
  },
  {
   "cell_type": "code",
   "execution_count": 3,
   "id": "6ddfaa23",
   "metadata": {},
   "outputs": [
    {
     "name": "stdout",
     "output_type": "stream",
     "text": [
      "hello world    this is    a\n",
      "test\n"
     ]
    }
   ],
   "source": [
    "# The split() method does not change the string\n",
    "print(s)"
   ]
  },
  {
   "cell_type": "markdown",
   "id": "fe7f1cb0",
   "metadata": {},
   "source": [
    "If you want to do something further with the list obtained\n",
    "as a result of using split(), and not just admire it and forget it forever, then you need,\n",
    "for example, to save it as some kind of variable."
   ]
  },
  {
   "cell_type": "code",
   "execution_count": 4,
   "id": "cfea616e",
   "metadata": {},
   "outputs": [
    {
     "name": "stdout",
     "output_type": "stream",
     "text": [
      "hello\n",
      "world\n",
      "this\n",
      "is\n",
      "a\n",
      "test\n"
     ]
    }
   ],
   "source": [
    "# now the result of executing s.split() will be saved to the words variable\n",
    "words = s.split()\n",
    "# output of words from the list using the for loop\n",
    "for word in words:\n",
    "    print(word)"
   ]
  },
  {
   "cell_type": "markdown",
   "id": "9ad612de",
   "metadata": {},
   "source": [
    "The split() method has an optional separator parameter. If it is specified, then the line\n",
    "it is split according to the separator that was passed to it."
   ]
  },
  {
   "cell_type": "code",
   "execution_count": 5,
   "id": "46bf3539",
   "metadata": {},
   "outputs": [
    {
     "data": {
      "text/plain": [
       "['hello world', 'this is', 'a\\ntest']"
      ]
     },
     "execution_count": 5,
     "metadata": {},
     "output_type": "execute_result"
    }
   ],
   "source": [
    "# we will pass 4 spaces as a separator\n",
    "s.split(\"    \")"
   ]
  },
  {
   "cell_type": "markdown",
   "id": "80d48c61",
   "metadata": {},
   "source": [
    "We passed four spaces as a separator and now the string is divided by them, and one\n",
    "space or a newline character is not perceived as a separator."
   ]
  },
  {
   "cell_type": "markdown",
   "id": "02f62226",
   "metadata": {},
   "source": [
    "Let's say we want to enter several numbers separated by commas and output each of them increased by 1. As we know, the split() method turns a string into a list of strings. To avoid errors when trying to sum strings and numbers, you need to turn strings into numbers."
   ]
  },
  {
   "cell_type": "code",
   "execution_count": 6,
   "id": "a814ec29",
   "metadata": {},
   "outputs": [
    {
     "name": "stdout",
     "output_type": "stream",
     "text": [
      "Enter several numbers separated by commas: 1,2,54,69\n",
      "2\n",
      "3\n",
      "55\n",
      "70\n"
     ]
    }
   ],
   "source": [
    "# entering a string of numbers\n",
    "s = input(\"Enter several numbers separated by commas: \")\n",
    "# turning a string into a list of strings\n",
    "numbers = s.split(\",\")\n",
    "# output of numbers from the list of strings + 1\n",
    "for number in numbers:\n",
    "    # turning strings into numbers\n",
    "    num = int(number)\n",
    "    # output of the number + 1\n",
    "    print(num + 1)"
   ]
  },
  {
   "cell_type": "markdown",
   "id": "91f6b56d",
   "metadata": {},
   "source": [
    "**Displaying the list in a line** <br>\n",
    "Now let's solve the inverse problem: there is a list, we want to output it in some form. There are different\n",
    "ways to do this. For example, you can just print it out."
   ]
  },
  {
   "cell_type": "code",
   "execution_count": 7,
   "id": "c0972e3a",
   "metadata": {},
   "outputs": [
    {
     "name": "stdout",
     "output_type": "stream",
     "text": [
      "['One', 'Two', 'Three']\n"
     ]
    }
   ],
   "source": [
    "# creating and displaying a list\n",
    "elements = [\"One\", \"Two\", \"Three\"]\n",
    "print(elements)"
   ]
  },
  {
   "cell_type": "code",
   "execution_count": 8,
   "id": "524383d6",
   "metadata": {},
   "outputs": [
    {
     "name": "stdout",
     "output_type": "stream",
     "text": [
      "One\n",
      "Two\n",
      "Three\n"
     ]
    }
   ],
   "source": [
    "# it is possible to make the result more beautiful through\n",
    "# the cycle as it was done before\n",
    "for num in elements:\n",
    "    print(num)"
   ]
  },
  {
   "cell_type": "markdown",
   "id": "ede7f3d7",
   "metadata": {},
   "source": [
    "This is how it is output in a column, because print() adds a newline character by default\n",
    "\\n at the end of each output line. If we want to output the list items in some other way,\n",
    "for example, in a line, but without brackets, commas and quotes, then we need to use other methods.\n",
    "The first of them is the use of the join() method."
   ]
  },
  {
   "cell_type": "code",
   "execution_count": 9,
   "id": "3530bdbd",
   "metadata": {},
   "outputs": [
    {
     "name": "stdout",
     "output_type": "stream",
     "text": [
      "One Two Three\n",
      "One\tTwo\tThree\n",
      "One___Two___Three\n"
     ]
    }
   ],
   "source": [
    "# output of items from the list using different separators using join()\n",
    "print(\" \".join(elements))\n",
    "print(\"\\t\".join(elements))\n",
    "print(\"___\".join(elements))"
   ]
  },
  {
   "cell_type": "markdown",
   "id": "0ffd55cc",
   "metadata": {},
   "source": [
    "This is a convenient method, but it has a limitation: it requires that the list that was submitted to him for\n",
    "input consist of strings. If there are other objects among its elements, it breaks."
   ]
  },
  {
   "cell_type": "code",
   "execution_count": 10,
   "id": "b8913aeb",
   "metadata": {},
   "outputs": [
    {
     "ename": "TypeError",
     "evalue": "sequence item 0: expected str instance, int found",
     "output_type": "error",
     "traceback": [
      "\u001b[1;31m---------------------------------------------------------------------------\u001b[0m",
      "\u001b[1;31mTypeError\u001b[0m                                 Traceback (most recent call last)",
      "\u001b[1;32m~\\AppData\\Local\\Temp\\ipykernel_3612\\1698658942.py\u001b[0m in \u001b[0;36m<module>\u001b[1;34m\u001b[0m\n\u001b[0;32m      1\u001b[0m \u001b[1;31m# error when trying to use join() when processing a list of numbers\u001b[0m\u001b[1;33m\u001b[0m\u001b[1;33m\u001b[0m\u001b[0m\n\u001b[0;32m      2\u001b[0m \u001b[0mnumbers\u001b[0m \u001b[1;33m=\u001b[0m \u001b[1;33m[\u001b[0m\u001b[1;36m69\u001b[0m\u001b[1;33m,\u001b[0m \u001b[1;36m54\u001b[0m\u001b[1;33m,\u001b[0m \u001b[1;33m-\u001b[0m\u001b[1;36m123\u001b[0m\u001b[1;33m]\u001b[0m\u001b[1;33m\u001b[0m\u001b[1;33m\u001b[0m\u001b[0m\n\u001b[1;32m----> 3\u001b[1;33m \u001b[0mprint\u001b[0m\u001b[1;33m(\u001b[0m\u001b[1;34m\", \"\u001b[0m\u001b[1;33m.\u001b[0m\u001b[0mjoin\u001b[0m\u001b[1;33m(\u001b[0m\u001b[0mnumbers\u001b[0m\u001b[1;33m)\u001b[0m\u001b[1;33m)\u001b[0m\u001b[1;33m\u001b[0m\u001b[1;33m\u001b[0m\u001b[0m\n\u001b[0m",
      "\u001b[1;31mTypeError\u001b[0m: sequence item 0: expected str instance, int found"
     ]
    }
   ],
   "source": [
    "# error when trying to use join() when processing a list of numbers\n",
    "numbers = [69, 54, -123]\n",
    "print(\", \".join(numbers))"
   ]
  },
  {
   "cell_type": "markdown",
   "id": "a2168a58",
   "metadata": {},
   "source": [
    "You can cheat and pass individual elements of the list to the print() method, it will print them without brackets and separated by a space\n",
    "(generally speaking, any character — this is configured using the sep parameter)."
   ]
  },
  {
   "cell_type": "code",
   "execution_count": 11,
   "id": "3b9faa79",
   "metadata": {},
   "outputs": [
    {
     "name": "stdout",
     "output_type": "stream",
     "text": [
      "69 54 -123\n"
     ]
    }
   ],
   "source": [
    "# list output element by element using indexes\n",
    "print(numbers[0], numbers[1], numbers[2])"
   ]
  },
  {
   "cell_type": "markdown",
   "id": "12b9712f",
   "metadata": {},
   "source": [
    "The line above gives the result we wanted, but it will only work\n",
    "if there are exactly three elements in the list: if there are more elements, only three will be output, if\n",
    "less, an error occurs. Fortunately, Python has a construction that allows\n",
    "you to \"strip\" a list — to pass all its elements to some function separated by commas. This is done with\n",
    "an asterisk ( * )."
   ]
  },
  {
   "cell_type": "code",
   "execution_count": 12,
   "id": "9259631b",
   "metadata": {},
   "outputs": [
    {
     "name": "stdout",
     "output_type": "stream",
     "text": [
      "69 54 -123\n"
     ]
    }
   ],
   "source": [
    "# output a list of numbers using an asterisk\n",
    "print(*numbers)"
   ]
  },
  {
   "cell_type": "markdown",
   "id": "f8f2b3ba",
   "metadata": {},
   "source": [
    "If you do not want to use a space, but some kind of separator, then this is also possible."
   ]
  },
  {
   "cell_type": "code",
   "execution_count": 13,
   "id": "d5494927",
   "metadata": {},
   "outputs": [
    {
     "name": "stdout",
     "output_type": "stream",
     "text": [
      "69,\t54,\t-123\n"
     ]
    }
   ],
   "source": [
    "# using sep to separate list items\n",
    "print(*numbers, sep = \",\\t\")"
   ]
  },
  {
   "cell_type": "markdown",
   "id": "a1ac752f",
   "metadata": {},
   "source": [
    "**Strings and slices** <br>\n",
    "Strings can behave almost like lists. For example, you can access individual elements\n",
    "of a string (individual characters) or make slices."
   ]
  },
  {
   "cell_type": "code",
   "execution_count": 14,
   "id": "117a7b57",
   "metadata": {},
   "outputs": [
    {
     "name": "stdout",
     "output_type": "stream",
     "text": [
      "s\n",
      "T\n",
      "a test\n",
      "14\n"
     ]
    }
   ],
   "source": [
    "# creating a string\n",
    "s = \"This is a test\"\n",
    "# output of different characters of a string\n",
    "print(s[6])\n",
    "print(s[0])\n",
    "print(s[8:14])\n",
    "print(len(s)) # output of string length"
   ]
  },
  {
   "cell_type": "markdown",
   "id": "99aa2994",
   "metadata": {},
   "source": [
    "### Algorithms with loops"
   ]
  },
  {
   "cell_type": "markdown",
   "id": "3439972f",
   "metadata": {},
   "source": [
    "Consider an example of an algorithm that uses a loop. <br>\n",
    "Recall how last time we searched for Fibonacci numbers. <br>\n",
    "First we perform *initialization* — we set the initial values of the variables that\n",
    "we will need in the future. Initially, we know the values of the first two Fibonacci numbers (these are ones); we will write them into variables and in the future we will store the next two\n",
    "found Fibonacci numbers necessary to find the next number. <br>\n",
    "Then we write the code that makes the transition to the next number. We will perform it\n",
    "several times, each time getting a new Fibonacci number. <br>\n",
    "This approach works pretty well, but if we had to find the 115th Fibonacci number,\n",
    "we would be tormented by restarting the cell. Instead, we use the for loop, which will\n",
    "automatically execute a piece of code that calculates the next number as many times as we\n",
    "need."
   ]
  },
  {
   "cell_type": "code",
   "execution_count": 15,
   "id": "b1586f19",
   "metadata": {},
   "outputs": [
    {
     "name": "stdout",
     "output_type": "stream",
     "text": [
      "115th Fibonacci number is  1264937032042997393488322\n"
     ]
    }
   ],
   "source": [
    "# initialization\n",
    "a = b = 1\n",
    "for i in range(115):\n",
    "    #cycle body - calculating the fibonacci number\n",
    "    c = a + b\n",
    "    a = b\n",
    "    b = c\n",
    "print(\"115th Fibonacci number is \", c)"
   ]
  },
  {
   "cell_type": "markdown",
   "id": "bcfa01b9",
   "metadata": {},
   "source": [
    "Another example: let's say we would like not to display the found Fibonacci numbers on the screen, but\n",
    "to write them down in a list. To do this, we slightly modify the code above: instead\n",
    "of the print() command, we need to substitute a command that will add the found number to some list. However,\n",
    "in order to have a place to add, this list must be created in advance. Initially, it can also be\n",
    "empty — such a list is indicated by empty square brackets."
   ]
  },
  {
   "cell_type": "code",
   "execution_count": 16,
   "id": "37aada84",
   "metadata": {},
   "outputs": [
    {
     "name": "stdout",
     "output_type": "stream",
     "text": [
      "[2, 3, 5, 8, 13, 21, 34, 55, 89, 144, 233, 377, 610, 987, 1597, 2584, 4181, 6765, 10946, 17711]\n"
     ]
    }
   ],
   "source": [
    "a = 1 # first number\n",
    "b = 1 # second number\n",
    "fib = [] # created an empty fib list\n",
    "for i in range(20):\n",
    "    c = a + b\n",
    "    a = b\n",
    "    b = c\n",
    "    fib.append(c) # wrote an item to the end of the fib list\n",
    "print(fib)\n"
   ]
  },
  {
   "cell_type": "markdown",
   "id": "ce6a1ee1",
   "metadata": {},
   "source": [
    "### Checking conditions"
   ]
  },
  {
   "cell_type": "markdown",
   "id": "d8d2a343",
   "metadata": {},
   "source": [
    "During the execution of the program, it is sometimes required, depending on some conditions, to execute a\n",
    "particular piece of code. For example, if the user entered the wrong data that was requested from him\n",
    "(if you wanted a positive number, but got a negative one), then you need to output an error and ask\n",
    "to enter the data again. The solution to this problem is divided into several steps: first you need\n",
    "to check some condition, and then, depending on the result of this check, choose which code\n",
    "to execute. Let's start by checking the conditions."
   ]
  },
  {
   "cell_type": "code",
   "execution_count": 17,
   "id": "b5d3b2ef",
   "metadata": {},
   "outputs": [
    {
     "name": "stdout",
     "output_type": "stream",
     "text": [
      "True\n",
      "False\n"
     ]
    }
   ],
   "source": [
    "# checking conditions\n",
    "print(6 < 8)\n",
    "print(6 == 8)"
   ]
  },
  {
   "cell_type": "markdown",
   "id": "010e03eb",
   "metadata": {},
   "source": [
    "The word True that he gave out is not just a word meaning \"true\", but\n",
    "a special logical meaning. It is also called \"Boolean\"."
   ]
  },
  {
   "cell_type": "code",
   "execution_count": 18,
   "id": "a320486c",
   "metadata": {},
   "outputs": [
    {
     "name": "stdout",
     "output_type": "stream",
     "text": [
      "8 = 8?  True\n"
     ]
    },
    {
     "data": {
      "text/plain": [
       "bool"
      ]
     },
     "execution_count": 18,
     "metadata": {},
     "output_type": "execute_result"
    }
   ],
   "source": [
    "# the result can be written to a variable\n",
    "condition = (8 == 8)\n",
    "print(\"8 = 8? \", condition)\n",
    "# we can find out the type of variable\n",
    "type(condition)"
   ]
  },
  {
   "cell_type": "markdown",
   "id": "0e5c90c3",
   "metadata": {},
   "source": [
    "Please note: here you need to write the equality symbol twice, because one sign is equal to\n",
    "— this is an assignment operation (\"assign what is on the right to what is on the left\"), and\n",
    "the equality check operation is a completely different thing."
   ]
  },
  {
   "cell_type": "code",
   "execution_count": 19,
   "id": "a105d5c4",
   "metadata": {},
   "outputs": [
    {
     "name": "stdout",
     "output_type": "stream",
     "text": [
      "a = 5?  True\n",
      "a = 7?  False\n"
     ]
    }
   ],
   "source": [
    "# here we do the assignment\n",
    "a = 5\n",
    "# and here is a comparison\n",
    "print(\"a = 5? \", a == 5)\n",
    "print(\"a = 7? \", a == 7)"
   ]
  },
  {
   "cell_type": "markdown",
   "id": "62664251",
   "metadata": {},
   "source": [
    "I must say that the comparison works in a fairly reasonable way. For example, the number 7 and the number\n",
    "7.0 is, strictly speaking, different objects (the first is an integer, the second is a floating—point number\n",
    "), but it is clear that as numbers they are the same object. Therefore , the comparison will return True ."
   ]
  },
  {
   "cell_type": "code",
   "execution_count": 20,
   "id": "2d616808",
   "metadata": {},
   "outputs": [
    {
     "data": {
      "text/plain": [
       "True"
      ]
     },
     "execution_count": 20,
     "metadata": {},
     "output_type": "execute_result"
    }
   ],
   "source": [
    "# comparison of different types of data, identical in meaning\n",
    "7 == 7.0"
   ]
  },
  {
   "cell_type": "markdown",
   "id": "b9be9498",
   "metadata": {},
   "source": [
    "### If statement"
   ]
  },
  {
   "cell_type": "markdown",
   "id": "e9192bc2",
   "metadata": {},
   "source": [
    "You need to pay attention to several things: first, a condition is specified after if\n",
    ", and a colon is necessarily placed after the condition (as in cycles), then there is a block of commands that\n",
    "are executed if the condition is true (that is, it is True). As in loops, this block\n",
    "of commands should be indented. Commands that are not included in the block are executed in any case. <br>\n",
    "\n",
    "If we want to handle both situations separately: when the condition is met and when it is not\n",
    "met. To do this, use the else keyword. <br>\n",
    "\n",
    "The if-else construct works as an alternative: either one code snippet is executed (after if\n",
    "— if the condition is true), or another (after else — if incorrect)."
   ]
  },
  {
   "cell_type": "code",
   "execution_count": 21,
   "id": "a8502fd5",
   "metadata": {},
   "outputs": [
    {
     "name": "stdout",
     "output_type": "stream",
     "text": [
      "Enter a positive number: 1\n",
      "Thank you!\n",
      "You entered 1\n"
     ]
    }
   ],
   "source": [
    "# Entering a number\n",
    "a = int(input(\"Enter a positive number: \"))\n",
    "# Code execution if the condition is true\n",
    "if a > 0:\n",
    "    print(\"Thank you!\")\n",
    "# Code execution if the condition is false\n",
    "else:\n",
    "    print(\"I asked for a positive... \\t:(\")\n",
    "# Code execution regardless of the condition\n",
    "print(\"You entered\", a)"
   ]
  },
  {
   "cell_type": "markdown",
   "id": "950a969e",
   "metadata": {},
   "source": [
    "Sometimes you need to check several conditions in a row.\n",
    "\n",
    "Then the keyword elif is used , which is a combination of the words else and if . The conditions\n",
    "are checked in turn, starting from the first one; as soon as one of the conditions turns out to be true,\n",
    "the corresponding block is executed and the other conditions are not checked."
   ]
  },
  {
   "cell_type": "code",
   "execution_count": 22,
   "id": "f02681e3",
   "metadata": {},
   "outputs": [
    {
     "name": "stdout",
     "output_type": "stream",
     "text": [
      "Enter some number: 0\n",
      "you entered ZERO!!!!!!\n"
     ]
    }
   ],
   "source": [
    "# checking multiple conditions in a row\n",
    "a = int(input(\"Enter some number: \"))\n",
    "if a > 0:\n",
    "    print(\"You entered a number greater than zero!\")\n",
    "elif a < 0:\n",
    "    print(\"You entered a number less than zero!\")\n",
    "else:\n",
    "    print(\"you entered ZERO!!!!!!\")"
   ]
  },
  {
   "cell_type": "markdown",
   "id": "b6b56c18",
   "metadata": {},
   "source": [
    "### Difficult conditions"
   ]
  },
  {
   "cell_type": "markdown",
   "id": "754104b4",
   "metadata": {},
   "source": [
    "Let's say we need to check the fulfillment of several conditions. Let's say we want to get a number\n",
    "from 0 to 100 — numbers less than 0 or more than 100 do not suit us. This could be done with\n",
    "a few nested if statements like this."
   ]
  },
  {
   "cell_type": "code",
   "execution_count": 23,
   "id": "2e491118",
   "metadata": {},
   "outputs": [
    {
     "name": "stdout",
     "output_type": "stream",
     "text": [
      "Please enter a number from 0 to 100: 77\n",
      "Thank you!!! :D\n"
     ]
    }
   ],
   "source": [
    "a = int(input(\"Please enter a number from 0 to 100: \"))\n",
    "if a <= 100:\n",
    "    if a >= 0:\n",
    "        print(\"Thank you!!! :D\")\n",
    "    else:\n",
    "        print(\"You made a mistake, it's not a number from 0 to 100\")\n",
    "else:\n",
    "    print(\"You made a mistake, it's not a number from 0 to 100\")"
   ]
  },
  {
   "cell_type": "markdown",
   "id": "1a1f65d0",
   "metadata": {},
   "source": [
    "This code is quite cumbersome, the line with the error message had to be copied twice. Not very good. It turns out that you can implement the same functionality easier."
   ]
  },
  {
   "cell_type": "code",
   "execution_count": 24,
   "id": "32c3799d",
   "metadata": {},
   "outputs": [
    {
     "name": "stdout",
     "output_type": "stream",
     "text": [
      "Please enter a number from 0 to 100: 100\n",
      "Thank you!!! :D\n"
     ]
    }
   ],
   "source": [
    "a = int(input(\"Please enter a number from 0 to 100: \"))\n",
    "# using the \"and\" construct to combine conditions\n",
    "if a <= 100 and a >= 0:\n",
    "    print(\"Thank you!!! :D\")\n",
    "else:\n",
    "    print(\"You made a mistake, it's not a number from 0 to 100\")"
   ]
  },
  {
   "cell_type": "markdown",
   "id": "2de01e68",
   "metadata": {},
   "source": [
    "Here the keyword and is used , denoting the logical And operation . It does\n",
    "the following: checks the left condition (in this case, a <= 100 ), checks the right condition ( a >=\n",
    "100 ) and if both of these conditions are met (that is, they have the value True ), then the result\n",
    "of and is True; if at least one of them is not met (that is has\n",
    "the value False ), then the result of executing and is False . This way we can\n",
    "check exactly the condition we are interested in."
   ]
  },
  {
   "cell_type": "markdown",
   "id": "c1fa3cca",
   "metadata": {},
   "source": [
    "It would be possible to rewrite this code in a different way, using the logical OR :"
   ]
  },
  {
   "cell_type": "markdown",
   "id": "e3136c01",
   "metadata": {},
   "source": [
    "The result of executing or is true if at least one argument is\n",
    "true. Finally, there is a third logical operator — this is negation ( not ). It has only one\n",
    "argument and returns true if that argument is false, and vice versa."
   ]
  },
  {
   "cell_type": "code",
   "execution_count": 25,
   "id": "f3379fe5",
   "metadata": {},
   "outputs": [
    {
     "name": "stdout",
     "output_type": "stream",
     "text": [
      "Please enter a number from 0 to 100: 4\n",
      "Thank you!!! :D\n"
     ]
    }
   ],
   "source": [
    "a = int(input(\"Please enter a number from 0 to 100: \"))\n",
    "# using the \"and\" construct to combine conditions\n",
    "if not (a <= 100 or a >= 0):\n",
    "    print(\"You made a mistake, it's not a number from 0 to 100\")\n",
    "else:\n",
    "    print(\"Thank you!!! :D\")"
   ]
  },
  {
   "cell_type": "markdown",
   "id": "14591f34",
   "metadata": {},
   "source": [
    "You can check how logical commands work by simply substituting True\n",
    "or False as arguments:"
   ]
  },
  {
   "cell_type": "code",
   "execution_count": 26,
   "id": "42984b18",
   "metadata": {},
   "outputs": [
    {
     "data": {
      "text/plain": [
       "True"
      ]
     },
     "execution_count": 26,
     "metadata": {},
     "output_type": "execute_result"
    }
   ],
   "source": [
    "True or False"
   ]
  },
  {
   "cell_type": "code",
   "execution_count": 27,
   "id": "f7b6c202",
   "metadata": {},
   "outputs": [
    {
     "data": {
      "text/plain": [
       "False"
      ]
     },
     "execution_count": 27,
     "metadata": {},
     "output_type": "execute_result"
    }
   ],
   "source": [
    "True and False"
   ]
  },
  {
   "cell_type": "code",
   "execution_count": 28,
   "id": "d4e699fa",
   "metadata": {},
   "outputs": [
    {
     "data": {
      "text/plain": [
       "True"
      ]
     },
     "execution_count": 28,
     "metadata": {},
     "output_type": "execute_result"
    }
   ],
   "source": [
    "to_be = False\n",
    "to_be or not to_be"
   ]
  },
  {
   "cell_type": "code",
   "execution_count": 29,
   "id": "425177a1",
   "metadata": {},
   "outputs": [
    {
     "data": {
      "text/plain": [
       "True"
      ]
     },
     "execution_count": 29,
     "metadata": {},
     "output_type": "execute_result"
    }
   ],
   "source": [
    "to_be = True\n",
    "to_be or not to_be"
   ]
  },
  {
   "cell_type": "markdown",
   "id": "24a7a5d1",
   "metadata": {},
   "source": [
    "### While loop"
   ]
  },
  {
   "cell_type": "code",
   "execution_count": 30,
   "id": "46ba00a3",
   "metadata": {},
   "outputs": [
    {
     "name": "stdout",
     "output_type": "stream",
     "text": [
      "Please enter a number from 0 to 100: -1\n",
      "You made a mistake, it's not a number from 0 to 100\n",
      "Please enter a number from 0 to 100: 101\n",
      "You made a mistake, it's not a number from 0 to 100\n",
      "Please enter a number from 0 to 100: 50\n",
      "Nice!\n"
     ]
    }
   ],
   "source": [
    "a = int(input(\"Please enter a number from 0 to 100: \"))\n",
    "while a>100 or a<0:\n",
    "    print(\"You made a mistake, it's not a number from 0 to 100\")\n",
    "    a = int(input(\"Please enter a number from 0 to 100: \"))\n",
    "print(\"Nice!\")"
   ]
  },
  {
   "cell_type": "markdown",
   "id": "71ea8c3f",
   "metadata": {},
   "source": [
    "A situation\n",
    "in which we have to copy some lines of code usually means that\n",
    "a design error has been made. You can do this more gracefully with the break command — it\n",
    "allows you to exit the loop. The following example also demonstrates an infinite loop: in theory\n",
    "while True: must be executed as long as True is True, that is, forever. But we will exit\n",
    "earlier using break ."
   ]
  },
  {
   "cell_type": "code",
   "execution_count": 31,
   "id": "4a23de0d",
   "metadata": {},
   "outputs": [
    {
     "name": "stdout",
     "output_type": "stream",
     "text": [
      "Please, enter password: pqwwdp\n",
      "Access denied\n",
      "Please, enter password: mastercode\n",
      "Access granted\n"
     ]
    }
   ],
   "source": [
    "correct_passwd = 'mastercode'\n",
    "while True:\n",
    "    passwd = input(\"Please, enter password: \")\n",
    "    if passwd == correct_passwd:\n",
    "        print(\"Access granted\")\n",
    "        break\n",
    "    else:\n",
    "        print(\"Access denied\")"
   ]
  },
  {
   "cell_type": "markdown",
   "id": "457a5d90",
   "metadata": {},
   "source": [
    "The break command can be used to exit any loop. Here is an example for the for loop :"
   ]
  },
  {
   "cell_type": "code",
   "execution_count": 32,
   "id": "09f44c77",
   "metadata": {},
   "outputs": [
    {
     "name": "stdout",
     "output_type": "stream",
     "text": [
      "69\n",
      "8\n",
      "9\n",
      "54\n",
      "Negative number \" -7 \" detected!!!! AAAAAAAA\n"
     ]
    }
   ],
   "source": [
    "numbers = [69, 8, 9, 54, -7, 9]\n",
    "for i in numbers:\n",
    "    if i < 0:\n",
    "        print(\"Negative number \\\"\", i,\"\\\" detected!!!! AAAAAAAA\")\n",
    "        break\n",
    "    print(i)"
   ]
  },
  {
   "cell_type": "markdown",
   "id": "b947099c",
   "metadata": {},
   "source": [
    "### Numeration of list items"
   ]
  },
  {
   "cell_type": "code",
   "execution_count": 33,
   "id": "6cfb22cd",
   "metadata": {},
   "outputs": [
    {
     "name": "stdout",
     "output_type": "stream",
     "text": [
      "0 7\n",
      "1 8\n",
      "2 9\n",
      "3 43\n"
     ]
    }
   ],
   "source": [
    "# there is a list, you need to output its elements and their indexes\n",
    "numbers = [7, 8, 9, 43]\n",
    "i = 0 # the index will be stored here\n",
    "for n in numbers:\n",
    "    print(i, n)\n",
    "    i += 1 # # this line is equivalent to i = i + 1"
   ]
  },
  {
   "cell_type": "markdown",
   "id": "79a1f444",
   "metadata": {},
   "source": [
    "Not the most elegant solution — you have to enter some variable i, initialize it before\n",
    "entering the loop and do not forget to add one to it inside the loop.\n",
    "\n",
    "Another solution:"
   ]
  },
  {
   "cell_type": "code",
   "execution_count": 34,
   "id": "7b7d7525",
   "metadata": {},
   "outputs": [
    {
     "name": "stdout",
     "output_type": "stream",
     "text": [
      "0 7\n",
      "1 8\n",
      "2 9\n",
      "3 43\n"
     ]
    }
   ],
   "source": [
    "numbers = [7, 8, 9, 43]\n",
    "for i in range(len(numbers)):\n",
    "    print (i, numbers[i])"
   ]
  },
  {
   "cell_type": "markdown",
   "id": "3a74642e",
   "metadata": {},
   "source": [
    "It is also not the height of elegance: here we have to write numbers[i] every time, and in general, clarity suffers: looking at the for loop, it is unclear that we are going to iterate over the elements\n",
    "of the numbers list.\n",
    "\n",
    "The correct Python approach looks like this:"
   ]
  },
  {
   "cell_type": "code",
   "execution_count": 35,
   "id": "63f657dd",
   "metadata": {},
   "outputs": [
    {
     "name": "stdout",
     "output_type": "stream",
     "text": [
      "2 7\n",
      "3 8\n",
      "4 9\n",
      "5 43\n"
     ]
    }
   ],
   "source": [
    "numbers = [7, 8, 9, 43]\n",
    "for i, n in enumerate(numbers, 2):\n",
    "    print(i,n)"
   ]
  },
  {
   "cell_type": "markdown",
   "id": "2540be6c",
   "metadata": {},
   "source": [
    "Let's see how enumerate() works:"
   ]
  },
  {
   "cell_type": "code",
   "execution_count": 36,
   "id": "40109d44",
   "metadata": {},
   "outputs": [
    {
     "data": {
      "text/plain": [
       "[(0, 7), (1, 8), (2, 9), (3, 43)]"
      ]
     },
     "execution_count": 36,
     "metadata": {},
     "output_type": "execute_result"
    }
   ],
   "source": [
    "enum = list(enumerate(numbers))\n",
    "enum"
   ]
  },
  {
   "cell_type": "markdown",
   "id": "353f526c",
   "metadata": {},
   "source": [
    "As a result of enumerate execution, a thing is returned that behaves like a list\n",
    "whose elements are pairs of numbers (in fact, these are tuples, tuple, that is, immutable\n",
    "lists). In each pair, the first number is an index, and the second is an element of the original list.\n",
    "\n",
    "Further, when executing the for loop, the list assignment mechanism is used."
   ]
  },
  {
   "cell_type": "code",
   "execution_count": 37,
   "id": "7b0f4458",
   "metadata": {},
   "outputs": [
    {
     "name": "stdout",
     "output_type": "stream",
     "text": [
      "7\n",
      "9\n"
     ]
    }
   ],
   "source": [
    "a, b = (7, 9)\n",
    "print(a)\n",
    "print(b)"
   ]
  },
  {
   "cell_type": "markdown",
   "id": "6fe77c4e",
   "metadata": {},
   "source": [
    "If there are several variables separated by commas on the left side of the equal sign\n",
    ", and some object behaving like a list on the right, and the number of its elements is equal to the number\n",
    "of variables, then the assignment goes element by element: the first element of the list to the first variable,\n",
    "the second to the second, etc."
   ]
  },
  {
   "cell_type": "code",
   "execution_count": 38,
   "id": "2007c2b3",
   "metadata": {},
   "outputs": [
    {
     "name": "stdout",
     "output_type": "stream",
     "text": [
      "3\n"
     ]
    }
   ],
   "source": [
    "a, b, c = (1, 2, 3)\n",
    "print(c)"
   ]
  },
  {
   "cell_type": "markdown",
   "id": "4377df33",
   "metadata": {},
   "source": [
    "Now note that in the for loop, we have two\n",
    "variables (separated by commas) as the loop variable. What happens when we get into the loop for the first time? for will take\n",
    "the first element from enumerate(numbers) . This is a pair of numbers:"
   ]
  },
  {
   "cell_type": "code",
   "execution_count": 39,
   "id": "58b0297b",
   "metadata": {},
   "outputs": [
    {
     "data": {
      "text/plain": [
       "(0, 7)"
      ]
     },
     "execution_count": 39,
     "metadata": {},
     "output_type": "execute_result"
    }
   ],
   "source": [
    "enum[0]"
   ]
  },
  {
   "cell_type": "code",
   "execution_count": 40,
   "id": "e4fa273d",
   "metadata": {},
   "outputs": [],
   "source": [
    "# Now he equates this pair of numbers to a pair of variables: i and n:\n",
    "i, n = enum[0]"
   ]
  },
  {
   "cell_type": "markdown",
   "id": "7cd4bb74",
   "metadata": {},
   "source": [
    "Now i contains 0 (the index of the first element numbers , and n contains the first element numbers itself . And so on, at each step in i there will be a corresponding index, a corresponding number.\n",
    "\n",
    "\n",
    "\n",
    "At the same time, the result is much more elegant than the previous ones: no need to somehow\n",
    "explicitly describe what is happening with i , and the meaning of what is happening is clear when looking at the line with for ."
   ]
  }
 ],
 "metadata": {
  "kernelspec": {
   "display_name": "Python 3 (ipykernel)",
   "language": "python",
   "name": "python3"
  },
  "language_info": {
   "codemirror_mode": {
    "name": "ipython",
    "version": 3
   },
   "file_extension": ".py",
   "mimetype": "text/x-python",
   "name": "python",
   "nbconvert_exporter": "python",
   "pygments_lexer": "ipython3",
   "version": "3.9.13"
  }
 },
 "nbformat": 4,
 "nbformat_minor": 5
}
