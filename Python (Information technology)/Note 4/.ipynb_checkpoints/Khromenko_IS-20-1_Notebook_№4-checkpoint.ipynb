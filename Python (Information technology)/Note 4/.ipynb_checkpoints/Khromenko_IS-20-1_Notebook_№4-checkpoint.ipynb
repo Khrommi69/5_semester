{
 "cells": [
  {
   "cell_type": "markdown",
   "id": "d4611fc9",
   "metadata": {},
   "source": [
    "# Notebook №4. Information systems"
   ]
  },
  {
   "cell_type": "markdown",
   "id": "ed67ba95",
   "metadata": {},
   "source": [
    "by a student of the IS-20-1 group, Khromenko Danil.\n",
    "<br>"
   ]
  },
  {
   "cell_type": "markdown",
   "id": "c2732bf1",
   "metadata": {},
   "source": [
    "### Example of function definition"
   ]
  },
  {
   "cell_type": "code",
   "execution_count": 1,
   "id": "aeca4d82",
   "metadata": {},
   "outputs": [
    {
     "data": {
      "text/plain": [
       "8.0"
      ]
     },
     "execution_count": 1,
     "metadata": {},
     "output_type": "execute_result"
    }
   ],
   "source": [
    "#addition of two roots\n",
    "from math import sqrt\n",
    "sqrt(25)+sqrt(9)"
   ]
  },
  {
   "cell_type": "markdown",
   "id": "dc37ce08",
   "metadata": {},
   "source": [
    "Functions in programming are similar to functions in mathematics, although they have their own specifics.\n",
    "Let's write some function. For example, consider the factorial. Recall that\n",
    "the factorial of a natural number n is the product of all natural numbers (starting from 1) to n.<br><br>\n",
    "*factorial(n) = 1 × 2 × … × n*"
   ]
  },
  {
   "cell_type": "markdown",
   "id": "d95e927f",
   "metadata": {},
   "source": [
    "Let's first write a program to calculate the factorial of some number. It will\n",
    "look like this:"
   ]
  },
  {
   "cell_type": "code",
   "execution_count": 6,
   "id": "ad7212bc",
   "metadata": {},
   "outputs": [
    {
     "name": "stdout",
     "output_type": "stream",
     "text": [
      "120\n"
     ]
    }
   ],
   "source": [
    "n = 5\n",
    "f = 1\n",
    "#The cycle starts with 2, ends with 6 not inclusive\n",
    "for i in range(2, n+1):\n",
    "    #(f = f * i)\n",
    "    f *= i\n",
    "print(f)\n"
   ]
  },
  {
   "cell_type": "markdown",
   "id": "153ebb3b",
   "metadata": {},
   "source": [
    "In this case, we need to write a function that calculates the factorial. It looks like this:"
   ]
  },
  {
   "cell_type": "code",
   "execution_count": 19,
   "id": "b5702441",
   "metadata": {},
   "outputs": [],
   "source": [
    "#function definition with an argument n\n",
    "def factorial(n):\n",
    "    #calculating the function\n",
    "    f = 1\n",
    "    for i in range(2, n+1):\n",
    "        f = f * i\n",
    "    #returning a value from a function\n",
    "    return f"
   ]
  },
  {
   "cell_type": "code",
   "execution_count": 11,
   "id": "9f39f969",
   "metadata": {},
   "outputs": [
    {
     "name": "stdout",
     "output_type": "stream",
     "text": [
      "40320\n",
      "126\n"
     ]
    }
   ],
   "source": [
    "#Now we can call the factorial function by passing a parameter to it\n",
    "print(factorial(8))\n",
    "#And even use it in more complex expressions\n",
    "print(factorial(3) + factorial(5))\n"
   ]
  },
  {
   "cell_type": "markdown",
   "id": "7b7e7e2e",
   "metadata": {},
   "source": [
    "Let's take a closer look at what happens when Python calculates the value of an expression\n",
    "factorial(6). First of all, he looks at the first line of the function definition (this is the so\n",
    "-called signature):<br>\n",
    "<pre>def factorial(n):</pre>\n",
    "Here he sees that the factorial() function has an argument called n. Python remembers\n",
    "that we called factorial(6), that is, the value of the argument should be 6. Thus,\n",
    "next he executes the line (which we did not write)\n",
    "<pre>n = 6</pre>\n",
    "Then executes the remaining lines from the function body:\n",
    "<pre>f = 1\n",
    "for i in range(2, n+1):\n",
    "    f = f * i</pre>\n",
    "Finally he gets to the line\n",
    "<pre>return f</pre>\n",
    "At this point, the variable f has the value 24. The word return means that Python should\n",
    "return to the line in which factorial(6) was called, and replace factorial(6) with 24 there (\n",
    "what is written after return). This completes the function call."
   ]
  },
  {
   "cell_type": "markdown",
   "id": "5c75a63a",
   "metadata": {},
   "source": [
    "### Return values"
   ]
  },
  {
   "cell_type": "markdown",
   "id": "f9ec411b",
   "metadata": {},
   "source": [
    "Let's look at the example, what is the difference between the return value and the side\n",
    "effect. Let's write a function that welcomes the user."
   ]
  },
  {
   "cell_type": "code",
   "execution_count": 4,
   "id": "b45d53ce",
   "metadata": {},
   "outputs": [],
   "source": [
    "#a function that returns a string\n",
    "def hello(name):\n",
    "    return \"Hello, \"+name+\"!\""
   ]
  },
  {
   "cell_type": "code",
   "execution_count": 5,
   "id": "47618741",
   "metadata": {},
   "outputs": [],
   "source": [
    "#function call\n",
    "s = hello(\"World\")"
   ]
  },
  {
   "cell_type": "code",
   "execution_count": 6,
   "id": "ebb65362",
   "metadata": {},
   "outputs": [
    {
     "data": {
      "text/plain": [
       "'Hello, World!'"
      ]
     },
     "execution_count": 6,
     "metadata": {},
     "output_type": "execute_result"
    }
   ],
   "source": [
    "#output of the string obtained by the function\n",
    "s"
   ]
  },
  {
   "cell_type": "markdown",
   "id": "f58c30eb",
   "metadata": {},
   "source": [
    "The s variable now contains the result of executing the hello() function, which was passed\n",
    "the name argument equal to \"World\" as input.<br>\n",
    "And now let's write another function that does not return a line, but prints it."
   ]
  },
  {
   "cell_type": "code",
   "execution_count": 7,
   "id": "ab276040",
   "metadata": {},
   "outputs": [],
   "source": [
    "#function that prints a string\n",
    "def say_hello(name):\n",
    "    print(\"Hello, \"+name+\"!\")"
   ]
  },
  {
   "cell_type": "markdown",
   "id": "f95c4d28",
   "metadata": {},
   "source": [
    "There is no return command in this function at all, Python will understand that it is necessary to return from the function to the\n",
    "main program at the moment when the lines in the function have ended. In this case\n",
    ", there is only one line in the function."
   ]
  },
  {
   "cell_type": "code",
   "execution_count": 8,
   "id": "b08eaea4",
   "metadata": {},
   "outputs": [
    {
     "name": "stdout",
     "output_type": "stream",
     "text": [
      "Hello, Danil!\n"
     ]
    }
   ],
   "source": [
    "#calling the say_hello function\n",
    "s = say_hello(\"Danil\")"
   ]
  },
  {
   "cell_type": "markdown",
   "id": "66066d51",
   "metadata": {},
   "source": [
    "Please note: now when s = say_hello(\"Danil\") is executed, the line is printed.\n",
    "This is a side effect of executing the say_hello function . What lies in the variable s?"
   ]
  },
  {
   "cell_type": "code",
   "execution_count": 9,
   "id": "3faef951",
   "metadata": {},
   "outputs": [
    {
     "name": "stdout",
     "output_type": "stream",
     "text": [
      "None\n"
     ]
    }
   ],
   "source": [
    "#there is nothing in s\n",
    "print(s)"
   ]
  },
  {
   "cell_type": "markdown",
   "id": "9f5ff825",
   "metadata": {},
   "source": [
    "There is nothing in it. This is a special None object that is used when some value\n",
    "needs to be assigned to a variable, but there is no value. In this case, it is not there, because the function\n",
    "did not return anything. say_hello() does not have a return value. It happens."
   ]
  },
  {
   "cell_type": "markdown",
   "id": "f738b5d2",
   "metadata": {},
   "source": [
    "### More difficult situations with functions"
   ]
  },
  {
   "cell_type": "markdown",
   "id": "f1c35f86",
   "metadata": {},
   "source": [
    "Functions can call other functions. For example, instead of copying the line \"Hello,\n",
    "\" +name+\"!\" from the hello() function to the say_hello() function, just call hello() from\n",
    "say_hello()."
   ]
  },
  {
   "cell_type": "code",
   "execution_count": 10,
   "id": "23118187",
   "metadata": {},
   "outputs": [],
   "source": [
    "#calling a function from a function\n",
    "def new_say_hello(name):\n",
    "    print(hello(name))"
   ]
  },
  {
   "cell_type": "code",
   "execution_count": 11,
   "id": "a619d1e4",
   "metadata": {},
   "outputs": [
    {
     "name": "stdout",
     "output_type": "stream",
     "text": [
      "Hello, Danil!\n"
     ]
    }
   ],
   "source": [
    "new_say_hello(\"Danil\")"
   ]
  },
  {
   "attachments": {
    "image-2.png": {
     "image/png": "[encoded data removed]"
    }
   },
   "cell_type": "markdown",
   "id": "ff22c274",
   "metadata": {},
   "source": [
    "For example, let's write a function that calculates binomial coefficients. Recall\n",
    "that the binomial coefficient (read \"tse from en to ka\") is a number that shows\n",
    "how many ways you can select k objects n from. The great science of combinatorics teaches us that this\n",
    "number can be calculated as follows: ![image-2.png](attachment:image-2.png)"
   ]
  },
  {
   "cell_type": "markdown",
   "id": "04adab74",
   "metadata": {},
   "source": [
    "Here, exclamation marks denote factorials. Let's write a function that calculates\n",
    "the binomial coefficient. We use the factorial function written earlier for this."
   ]
  },
  {
   "cell_type": "code",
   "execution_count": 20,
   "id": "7e3368a5",
   "metadata": {},
   "outputs": [],
   "source": [
    "#binom function definition\n",
    "def binom(k, n):\n",
    "    \"\"\"\n",
    "    calculates binomial coeffs: k from n\n",
    "    k, n are integers\n",
    "    retuns C_n^k\n",
    "    \"\"\"\n",
    "    return factorial(n)//(factorial(k)*factorial(n-k))\n",
    "    #you can use integer division, because the result is guaranteed to be an integer"
   ]
  },
  {
   "cell_type": "markdown",
   "id": "022234c1",
   "metadata": {},
   "source": [
    "How many ways can you choose two duty officers from three participants of the campaign? Three — because\n",
    "choosing two people on duty is the same as choosing one person who is not on duty."
   ]
  },
  {
   "cell_type": "code",
   "execution_count": 21,
   "id": "21fbafad",
   "metadata": {},
   "outputs": [
    {
     "data": {
      "text/plain": [
       "3"
      ]
     },
     "execution_count": 21,
     "metadata": {},
     "output_type": "execute_result"
    }
   ],
   "source": [
    "#calling the binom function\n",
    "binom(2,3)"
   ]
  },
  {
   "cell_type": "markdown",
   "id": "ee0d0b5e",
   "metadata": {},
   "source": [
    "In triple quotes, immediately after the signature of the function, its description is usually given (the so-called\n",
    "docstring). This is a comment for people who will use your feature in the future.\n",
    "To look at this help, you can type the name of your function, the opening bracket and\n",
    "press Shift+Tab+Tab."
   ]
  },
  {
   "cell_type": "markdown",
   "id": "e8325730",
   "metadata": {},
   "source": [
    "After executing the return line, the function execution stops. Let's look\n",
    "at another example: calculate the modulus of some number."
   ]
  },
  {
   "cell_type": "code",
   "execution_count": 22,
   "id": "df426f62",
   "metadata": {},
   "outputs": [],
   "source": [
    "#creating a function for calculating the number module\n",
    "def my_abs(x):\n",
    "    if x > 0:\n",
    "        return x\n",
    "    else:\n",
    "        return -x"
   ]
  },
  {
   "cell_type": "code",
   "execution_count": 24,
   "id": "466a369e",
   "metadata": {},
   "outputs": [
    {
     "data": {
      "text/plain": [
       "54"
      ]
     },
     "execution_count": 24,
     "metadata": {},
     "output_type": "execute_result"
    }
   ],
   "source": [
    "#calling the number module calculation function\n",
    "my_abs(-54)"
   ]
  },
  {
   "cell_type": "markdown",
   "id": "05a58e7f",
   "metadata": {},
   "source": [
    "This is the simplest solution: if the number is positive, then it returns by itself, and if\n",
    "it is negative, then it returns with the opposite sign ( -x ). It would be possible to write this function\n",
    "and in this way:"
   ]
  },
  {
   "cell_type": "code",
   "execution_count": 25,
   "id": "fb982803",
   "metadata": {},
   "outputs": [],
   "source": [
    "#slightly modified function for calculating the modulus of a number\n",
    "def my_abs(x):\n",
    "    #if there was already a function with that name, Python will forget about it and write a new function instead\n",
    "    #to make sure of this, I put this print here\n",
    "    print(\"New my_abs\")\n",
    "    if x > 0:\n",
    "        return x\n",
    "    return -x"
   ]
  },
  {
   "cell_type": "code",
   "execution_count": 26,
   "id": "163cc72f",
   "metadata": {},
   "outputs": [
    {
     "name": "stdout",
     "output_type": "stream",
     "text": [
      "New my_abs\n"
     ]
    },
    {
     "data": {
      "text/plain": [
       "69"
      ]
     },
     "execution_count": 26,
     "metadata": {},
     "output_type": "execute_result"
    }
   ],
   "source": [
    "#calling the new my_abs function\n",
    "my_abs(-69)"
   ]
  },
  {
   "cell_type": "markdown",
   "id": "5170ec15",
   "metadata": {},
   "source": [
    "The following happens here: if the number is positive, then return x is triggered and after that\n",
    "the execution of the function stops, it does not reach the return -x line. And if the number\n",
    "is negative, then on the contrary, only the return -x line is triggered (because of the if operator)."
   ]
  },
  {
   "cell_type": "code",
   "execution_count": 27,
   "id": "f51078fd",
   "metadata": {},
   "outputs": [],
   "source": [
    "%load_ext tutormagic"
   ]
  },
  {
   "cell_type": "markdown",
   "id": "bd153002",
   "metadata": {},
   "source": [
    "### Local and global variables"
   ]
  },
  {
   "cell_type": "markdown",
   "id": "4d49a7ea",
   "metadata": {},
   "source": [
    "Various variables can be created and used inside the function. So that this does not create\n",
    "problems, the variables defined inside the function are not visible from the outside. Let's look at an example:"
   ]
  },
  {
   "cell_type": "code",
   "execution_count": 31,
   "id": "e3ccd42b",
   "metadata": {},
   "outputs": [
    {
     "name": "stdout",
     "output_type": "stream",
     "text": [
      "10\n",
      "In the function, f = 40320\n",
      "40320\n",
      "Out of function\n",
      "10\n"
     ]
    }
   ],
   "source": [
    "#how local and global variables work\n",
    "#global variable\n",
    "f = 10\n",
    "def factorial(n):\n",
    "    #local variable\n",
    "    f = 1\n",
    "    for i in range(2, n+1):\n",
    "        f = f * i\n",
    "    print(\"In the function, f =\", f)\n",
    "    return f\n",
    "#global variable\n",
    "f = 10\n",
    "print(f)\n",
    "print(factorial(8))\n",
    "print(\"Out of function\")\n",
    "print(f)"
   ]
  },
  {
   "cell_type": "code",
   "execution_count": 30,
   "id": "bccf8b40",
   "metadata": {},
   "outputs": [
    {
     "data": {
      "text/html": [
       "\n",
       "        <iframe\n",
       "            width=\"100%\"\n",
       "            height=\"350\"\n",
       "            src=\"http://pythontutor.com/iframe-embed.html#code=%23code%20visualization%0Af%20%3D%2010%0Adef%20factorial%28n%29%3A%0A%20%20%20%20f%20%3D%201%0A%20%20%20%20for%20i%20in%20range%282%2C%20n%2B1%29%3A%0A%20%20%20%20%20%20%20%20f%20%3D%20f%20%2A%20i%0A%20%20%20%20print%28%22In%20the%20function%2C%20f%20%3D%22%2C%20f%29%0A%20%20%20%20return%20f%0Af%20%3D%2010%0Aprint%28f%29%0Aprint%28factorial%288%29%29%0Aprint%28%22Out%20of%20function%22%29%0Aprint%28f%29%0A&origin=opt-frontend.js&cumulative=false&heapPrimitives=false&textReferences=false&curInstr=0&&verticalStack=false&py=3&rawInputLstJSON=%5B%5D&codeDivWidth=50%25&codeDivHeight=100%25\"\n",
       "            frameborder=\"0\"\n",
       "            allowfullscreen\n",
       "            \n",
       "        ></iframe>\n",
       "        "
      ],
      "text/plain": [
       "<IPython.lib.display.IFrame at 0x1b8fa717af0>"
      ]
     },
     "metadata": {},
     "output_type": "display_data"
    }
   ],
   "source": [
    "%%tutor lang='python3'\n",
    "#code visualization\n",
    "f = 10\n",
    "def factorial(n):\n",
    "    f = 1\n",
    "    for i in range(2, n+1):\n",
    "        f = f * i\n",
    "    print(\"In the function, f =\", f)\n",
    "    return f\n",
    "f = 10\n",
    "print(f)\n",
    "print(factorial(8))\n",
    "print(\"Out of function\")\n",
    "print(f)"
   ]
  },
  {
   "cell_type": "markdown",
   "id": "95afc5c5",
   "metadata": {},
   "source": [
    "As can be seen from the result of executing this code, the variable f in the main program and the variable\n",
    "f inside a function are completely different variables (the pythontutor visualizer draws them in different\n",
    "frames). From the fact that we somehow change a inside the function, the value of the variable a outside of it has not\n",
    "changed, and vice versa. This is very convenient: if a function changed the value\n",
    "of an \"external\" variable, it could do it accidentally and this would lead to unpredictable\n",
    "consequences."
   ]
  },
  {
   "cell_type": "markdown",
   "id": "32ff2712",
   "metadata": {},
   "source": [
    "Let's say we want to write a function that will greet the user using the language\n",
    "specified by him in the settings. She could look like this:"
   ]
  },
  {
   "cell_type": "code",
   "execution_count": 32,
   "id": "9d2d970e",
   "metadata": {},
   "outputs": [],
   "source": [
    "#the function greets in different languages\n",
    "def hello_i18n(name, lang):\n",
    "    if lang == 'ru':\n",
    "        print(\"Привет,\",name)\n",
    "    else:\n",
    "        print(\"Hello,\",name)"
   ]
  },
  {
   "cell_type": "code",
   "execution_count": 33,
   "id": "42e75851",
   "metadata": {},
   "outputs": [
    {
     "name": "stdout",
     "output_type": "stream",
     "text": [
      "Привет, Ivan\n"
     ]
    }
   ],
   "source": [
    "#hello_i18n call in Russian\n",
    "hello_i18n(\"Ivan\", 'ru')"
   ]
  },
  {
   "cell_type": "code",
   "execution_count": 35,
   "id": "484cb7e8",
   "metadata": {},
   "outputs": [
    {
     "name": "stdout",
     "output_type": "stream",
     "text": [
      "Hello, Ivan\n"
     ]
    }
   ],
   "source": [
    "#hello_i18n call in English\n",
    "hello_i18n(\"Ivan\", 'en')"
   ]
  },
  {
   "cell_type": "markdown",
   "id": "ad5cbdff",
   "metadata": {},
   "source": [
    "The problem is that there can be a lot of functions that need to know which language is selected, and\n",
    "each time it is quite painful to manually pass them the value of the lang variable by a separate parameter. It turns out that this can be avoided:"
   ]
  },
  {
   "cell_type": "code",
   "execution_count": 45,
   "id": "6f21dd1c",
   "metadata": {},
   "outputs": [
    {
     "name": "stdout",
     "output_type": "stream",
     "text": [
      "Hello world\n",
      "Привет, Ivan\n",
      "Hello, John\n"
     ]
    }
   ],
   "source": [
    "#calling functions using global variables\n",
    "lang = 'ru'\n",
    "print(\"Hello world\")\n",
    "hello_i18n('Ivan', lang)\n",
    "lang = 'en'\n",
    "hello_i18n('John', lang)"
   ]
  },
  {
   "cell_type": "markdown",
   "id": "866f7a04",
   "metadata": {},
   "source": [
    "As you can see, now the behavior of the function depends on what the lang variable\n",
    "defined outside the function is equal to. Maybe in the factorial() function it was possible to refer to\n",
    "the variable f before we put the number 1 in it? Let's try it:"
   ]
  },
  {
   "cell_type": "code",
   "execution_count": 42,
   "id": "4ec16f8e",
   "metadata": {},
   "outputs": [],
   "source": [
    "#a function that will throw an error when called\n",
    "def factorial(n):\n",
    "    #accessing a variable before declaring it\n",
    "    print(\"In the function, before assignment, f =\", f)\n",
    "    f = 1\n",
    "    for i in range(2, n+1):\n",
    "        f = f * i\n",
    "    print(\"In the function, f =\", f)\n",
    "    return f"
   ]
  },
  {
   "cell_type": "code",
   "execution_count": 43,
   "id": "1d97937d",
   "metadata": {},
   "outputs": [
    {
     "ename": "UnboundLocalError",
     "evalue": "local variable 'f' referenced before assignment",
     "output_type": "error",
     "traceback": [
      "\u001b[1;31m---------------------------------------------------------------------------\u001b[0m",
      "\u001b[1;31mUnboundLocalError\u001b[0m                         Traceback (most recent call last)",
      "\u001b[1;32m~\\AppData\\Local\\Temp\\ipykernel_5228\\2237762768.py\u001b[0m in \u001b[0;36m<module>\u001b[1;34m\u001b[0m\n\u001b[1;32m----> 1\u001b[1;33m \u001b[0mfactorial\u001b[0m\u001b[1;33m(\u001b[0m\u001b[1;36m2\u001b[0m\u001b[1;33m)\u001b[0m\u001b[1;33m\u001b[0m\u001b[1;33m\u001b[0m\u001b[0m\n\u001b[0m",
      "\u001b[1;32m~\\AppData\\Local\\Temp\\ipykernel_5228\\1274430355.py\u001b[0m in \u001b[0;36mfactorial\u001b[1;34m(n)\u001b[0m\n\u001b[0;32m      2\u001b[0m \u001b[1;32mdef\u001b[0m \u001b[0mfactorial\u001b[0m\u001b[1;33m(\u001b[0m\u001b[0mn\u001b[0m\u001b[1;33m)\u001b[0m\u001b[1;33m:\u001b[0m\u001b[1;33m\u001b[0m\u001b[1;33m\u001b[0m\u001b[0m\n\u001b[0;32m      3\u001b[0m     \u001b[1;31m#accessing a variable before declaring it\u001b[0m\u001b[1;33m\u001b[0m\u001b[1;33m\u001b[0m\u001b[0m\n\u001b[1;32m----> 4\u001b[1;33m     \u001b[0mprint\u001b[0m\u001b[1;33m(\u001b[0m\u001b[1;34m\"In the function, before assignment, f =\"\u001b[0m\u001b[1;33m,\u001b[0m \u001b[0mf\u001b[0m\u001b[1;33m)\u001b[0m\u001b[1;33m\u001b[0m\u001b[1;33m\u001b[0m\u001b[0m\n\u001b[0m\u001b[0;32m      5\u001b[0m     \u001b[0mf\u001b[0m \u001b[1;33m=\u001b[0m \u001b[1;36m1\u001b[0m\u001b[1;33m\u001b[0m\u001b[1;33m\u001b[0m\u001b[0m\n\u001b[0;32m      6\u001b[0m     \u001b[1;32mfor\u001b[0m \u001b[0mi\u001b[0m \u001b[1;32min\u001b[0m \u001b[0mrange\u001b[0m\u001b[1;33m(\u001b[0m\u001b[1;36m2\u001b[0m\u001b[1;33m,\u001b[0m \u001b[0mn\u001b[0m\u001b[1;33m+\u001b[0m\u001b[1;36m1\u001b[0m\u001b[1;33m)\u001b[0m\u001b[1;33m:\u001b[0m\u001b[1;33m\u001b[0m\u001b[1;33m\u001b[0m\u001b[0m\n",
      "\u001b[1;31mUnboundLocalError\u001b[0m: local variable 'f' referenced before assignment"
     ]
    }
   ],
   "source": [
    "#an error occurs because we are trying to access a variable that has not yet been defined\n",
    "factorial(2)"
   ]
  },
  {
   "cell_type": "markdown",
   "id": "bb141862",
   "metadata": {},
   "source": [
    "In this case, Python throws an error: the local variable f was used before\n",
    "the value was assigned. What is the difference between this code and the previous one?<br>\n",
    "\n",
    "Python before executing a function, it analyzes its code and determines which of the variables\n",
    "is local and which is global. As global variables\n",
    ", by default, those that do not change in the body of the function are used (that is, those to which no\n",
    "equalization or += operators are applied). In other words, by default, global variables\n",
    "are read-only, but not for modification from within the function. <br>\n",
    "\n",
    "A situation in which a function modifies a global variable is usually not very\n",
    "desirable: functions must be isolated from the code that runs them, otherwise you will quickly\n",
    "stop understanding what your program is doing. However, sometimes modification of global\n",
    "variables is necessary. For example, we want to write a function that will set\n",
    "the value of the user's language. It may look something like this:"
   ]
  },
  {
   "cell_type": "code",
   "execution_count": 49,
   "id": "3dad16c7",
   "metadata": {},
   "outputs": [],
   "source": [
    "#set language function\n",
    "def set_lang():\n",
    "    useRussian = input(\"Would you like to speak Russian (Y/N): \")\n",
    "    if useRussian == 'Y':\n",
    "        lang = 'ru'\n",
    "    else:\n",
    "        lang = 'en'"
   ]
  },
  {
   "cell_type": "code",
   "execution_count": 50,
   "id": "3eb27552",
   "metadata": {},
   "outputs": [
    {
     "name": "stdout",
     "output_type": "stream",
     "text": [
      "en\n",
      "Would you like to speak Russian (Y/N): Y\n",
      "en\n"
     ]
    }
   ],
   "source": [
    "lang = 'en'\n",
    "print(lang)\n",
    "#allegedly changing the meaning of the language\n",
    "set_lang()\n",
    "print(lang)"
   ]
  },
  {
   "cell_type": "markdown",
   "id": "4ef7a749",
   "metadata": {},
   "source": [
    "As you can see, this function does not work — in fact, it should not. In order for the set_lang function to be able\n",
    "to change the value of the lang variable , it must be explicitly declared as global using\n",
    "the global keyword ."
   ]
  },
  {
   "cell_type": "code",
   "execution_count": 51,
   "id": "54313428",
   "metadata": {},
   "outputs": [],
   "source": [
    "#set language function with a global variable\n",
    "def set_lang():\n",
    "     global lang\n",
    "     useRussian = input(\"Would you like to speak Russian (Y/N): \")\n",
    "     if useRussian == 'Y':\n",
    "         lang = 'ru'\n",
    "     else:\n",
    "         lang = 'en'"
   ]
  },
  {
   "cell_type": "code",
   "execution_count": 52,
   "id": "1e67bd33",
   "metadata": {},
   "outputs": [
    {
     "name": "stdout",
     "output_type": "stream",
     "text": [
      "en\n",
      "Would you like to speak Russian (Y/N): Y\n",
      "ru\n"
     ]
    }
   ],
   "source": [
    "lang = 'en'\n",
    "print(lang)\n",
    "#changing the meaning of the language\n",
    "set_lang()\n",
    "print(lang)"
   ]
  },
  {
   "cell_type": "markdown",
   "id": "63ce2060",
   "metadata": {},
   "source": [
    "Now everything works!"
   ]
  },
  {
   "cell_type": "markdown",
   "id": "9c2e7409",
   "metadata": {},
   "source": [
    "### Passing arguments"
   ]
  },
  {
   "cell_type": "markdown",
   "id": "d87d9e6b",
   "metadata": {},
   "source": [
    "There are different ways to pass arguments to a function. We are already familiar with one of them:"
   ]
  },
  {
   "cell_type": "code",
   "execution_count": 54,
   "id": "3ef101d6",
   "metadata": {},
   "outputs": [
    {
     "name": "stdout",
     "output_type": "stream",
     "text": [
      "Hello Mr. Potter\n"
     ]
    }
   ],
   "source": [
    "#a function that outputs a string\n",
    "def hello(name, title):\n",
    "    print(\"Hello\", title, name)\n",
    "#calling a function with parameters\n",
    "hello(\"Potter\", \"Mr.\")"
   ]
  },
  {
   "cell_type": "markdown",
   "id": "1ea2810d",
   "metadata": {},
   "source": [
    "In some cases, we want some arguments to be omitted. Let's say we\n",
    "want to be able to call the hello() function defined above without specifying title. In\n",
    "this case, we will now be given an error:"
   ]
  },
  {
   "cell_type": "code",
   "execution_count": 55,
   "id": "48a2bf2b",
   "metadata": {},
   "outputs": [
    {
     "ename": "TypeError",
     "evalue": "hello() missing 1 required positional argument: 'title'",
     "output_type": "error",
     "traceback": [
      "\u001b[1;31m---------------------------------------------------------------------------\u001b[0m",
      "\u001b[1;31mTypeError\u001b[0m                                 Traceback (most recent call last)",
      "\u001b[1;32m~\\AppData\\Local\\Temp\\ipykernel_5228\\480997256.py\u001b[0m in \u001b[0;36m<module>\u001b[1;34m\u001b[0m\n\u001b[0;32m      1\u001b[0m \u001b[1;31m#attempt to call a function without the second parameter\u001b[0m\u001b[1;33m\u001b[0m\u001b[1;33m\u001b[0m\u001b[0m\n\u001b[1;32m----> 2\u001b[1;33m \u001b[0mhello\u001b[0m\u001b[1;33m(\u001b[0m\u001b[1;34m\"Harry\"\u001b[0m\u001b[1;33m)\u001b[0m\u001b[1;33m\u001b[0m\u001b[1;33m\u001b[0m\u001b[0m\n\u001b[0m",
      "\u001b[1;31mTypeError\u001b[0m: hello() missing 1 required positional argument: 'title'"
     ]
    }
   ],
   "source": [
    "#attempt to call a function without the second parameter\n",
    "hello(\"Harry\")"
   ]
  },
  {
   "cell_type": "markdown",
   "id": "a6e8ca7c",
   "metadata": {},
   "source": [
    "This is not surprising: we said that the hello() function should use the title argument, but we didn't\n",
    "pass it — what value should we use then? To overcome this difficulty, default values are used."
   ]
  },
  {
   "cell_type": "code",
   "execution_count": 56,
   "id": "cc6fe85f",
   "metadata": {},
   "outputs": [
    {
     "name": "stdout",
     "output_type": "stream",
     "text": [
      "Hello  Harry\n"
     ]
    }
   ],
   "source": [
    "#a function that outputs a string (the second parameter is set by default)\n",
    "def hello(name, title=\"\"):\n",
    "    print(\"Hello\", title, name)\n",
    "#calling a function with a single parameter\n",
    "hello(\"Harry\")"
   ]
  },
  {
   "cell_type": "code",
   "execution_count": 57,
   "id": "b8e0679f",
   "metadata": {},
   "outputs": [
    {
     "name": "stdout",
     "output_type": "stream",
     "text": [
      "Hello Mrs. Smith\n"
     ]
    }
   ],
   "source": [
    "#calling a function with two parameters\n",
    "hello(\"Smith\", \"Mrs.\")"
   ]
  },
  {
   "cell_type": "markdown",
   "id": "12de046e",
   "metadata": {},
   "source": [
    "Arguments can be passed by specifying their names. In this case, the order will not be important."
   ]
  },
  {
   "cell_type": "code",
   "execution_count": 58,
   "id": "743516b2",
   "metadata": {},
   "outputs": [
    {
     "name": "stdout",
     "output_type": "stream",
     "text": [
      "Hello Mr. Smith\n",
      "Hello Mr. Smith\n",
      "Hello dear Smith\n"
     ]
    }
   ],
   "source": [
    "#function call with and without argument names\n",
    "hello(\"Smith\", title = \"Mr.\")\n",
    "hello(name = \"Smith\", title= \"Mr.\")\n",
    "hello(title= \"dear\", name = \"Smith\")"
   ]
  },
  {
   "cell_type": "markdown",
   "id": "73d12fd4",
   "metadata": {},
   "source": [
    "There are also functions that take an unlimited number of arguments. For example,\n",
    "this is how the print() function behaves."
   ]
  },
  {
   "cell_type": "code",
   "execution_count": 59,
   "id": "c2a58d1b",
   "metadata": {},
   "outputs": [
    {
     "name": "stdout",
     "output_type": "stream",
     "text": [
      "8 7 5 hello 8\n"
     ]
    }
   ],
   "source": [
    "#the print() function accepts an unlimited number of arguments\n",
    "print(8, 7, 5, 'hello', 8)"
   ]
  },
  {
   "cell_type": "markdown",
   "id": "7e91a28e",
   "metadata": {},
   "source": [
    "How does it work? Something like this:"
   ]
  },
  {
   "cell_type": "code",
   "execution_count": 61,
   "id": "051ade1e",
   "metadata": {},
   "outputs": [],
   "source": [
    "#creating our own print function\n",
    "def my_print(*args):\n",
    "    for x in args:\n",
    "        print(x)"
   ]
  },
  {
   "cell_type": "code",
   "execution_count": 62,
   "id": "be8dc98c",
   "metadata": {},
   "outputs": [
    {
     "name": "stdout",
     "output_type": "stream",
     "text": [
      "6\n",
      "8\n",
      "9\n",
      "hello\n",
      "88\n",
      "55\n"
     ]
    }
   ],
   "source": [
    "my_print(6, 8, 9, 'hello', 88, 55)"
   ]
  },
  {
   "cell_type": "markdown",
   "id": "73ebb2f6",
   "metadata": {},
   "source": [
    "Note the asterisk before args in the function signature. Let's take a closer look at how this code works:"
   ]
  },
  {
   "cell_type": "code",
   "execution_count": 63,
   "id": "53abf11d",
   "metadata": {},
   "outputs": [
    {
     "name": "stdout",
     "output_type": "stream",
     "text": [
      "(1, 2, 3, 'hello')\n"
     ]
    }
   ],
   "source": [
    "#how the asterisk works\n",
    "def test(*args):\n",
    "    print(args)\n",
    "test(1,2,3, 'hello')"
   ]
  },
  {
   "cell_type": "markdown",
   "id": "1985cf38",
   "metadata": {},
   "source": [
    "It appears out that args now contains the so-called tuple consisting of the elements that\n",
    "we passed to the function."
   ]
  },
  {
   "cell_type": "markdown",
   "id": "a762a914",
   "metadata": {},
   "source": [
    "### Digression: tuples"
   ]
  },
  {
   "cell_type": "markdown",
   "id": "f192387c",
   "metadata": {},
   "source": [
    "A tuple is almost the same as a list, only its elements are immutable.\n",
    "It is indicated by parentheses."
   ]
  },
  {
   "cell_type": "code",
   "execution_count": 68,
   "id": "ad5bc185",
   "metadata": {},
   "outputs": [
    {
     "name": "stdout",
     "output_type": "stream",
     "text": [
      "3\n",
      "(2, 3)\n"
     ]
    }
   ],
   "source": [
    "#creating a tuple\n",
    "t = (2, 3, 5, 1)\n",
    "#calling individual tuple elements\n",
    "print(t[1])\n",
    "print(t[0:2])"
   ]
  },
  {
   "cell_type": "code",
   "execution_count": 69,
   "id": "78a3d982",
   "metadata": {},
   "outputs": [
    {
     "name": "stdout",
     "output_type": "stream",
     "text": [
      "2\n",
      "3\n",
      "5\n",
      "1\n"
     ]
    }
   ],
   "source": [
    "#calling all elements of the tuple through the for loop\n",
    "for x in t:\n",
    "    print(x)"
   ]
  },
  {
   "cell_type": "code",
   "execution_count": 71,
   "id": "314b817c",
   "metadata": {},
   "outputs": [
    {
     "ename": "TypeError",
     "evalue": "'tuple' object does not support item assignment",
     "output_type": "error",
     "traceback": [
      "\u001b[1;31m---------------------------------------------------------------------------\u001b[0m",
      "\u001b[1;31mTypeError\u001b[0m                                 Traceback (most recent call last)",
      "\u001b[1;32m~\\AppData\\Local\\Temp\\ipykernel_5228\\3493129077.py\u001b[0m in \u001b[0;36m<module>\u001b[1;34m\u001b[0m\n\u001b[0;32m      1\u001b[0m \u001b[1;31m#we cannot change the elements of the tuple\u001b[0m\u001b[1;33m\u001b[0m\u001b[1;33m\u001b[0m\u001b[0m\n\u001b[1;32m----> 2\u001b[1;33m \u001b[0mt\u001b[0m\u001b[1;33m[\u001b[0m\u001b[1;36m0\u001b[0m\u001b[1;33m]\u001b[0m \u001b[1;33m=\u001b[0m \u001b[1;36m10\u001b[0m\u001b[1;33m\u001b[0m\u001b[1;33m\u001b[0m\u001b[0m\n\u001b[0m",
      "\u001b[1;31mTypeError\u001b[0m: 'tuple' object does not support item assignment"
     ]
    }
   ],
   "source": [
    "#we cannot change the elements of the tuple\n",
    "t[0] = 10"
   ]
  },
  {
   "cell_type": "code",
   "execution_count": 73,
   "id": "e0bff800",
   "metadata": {},
   "outputs": [
    {
     "ename": "AttributeError",
     "evalue": "'tuple' object has no attribute 'append'",
     "output_type": "error",
     "traceback": [
      "\u001b[1;31m---------------------------------------------------------------------------\u001b[0m",
      "\u001b[1;31mAttributeError\u001b[0m                            Traceback (most recent call last)",
      "\u001b[1;32m~\\AppData\\Local\\Temp\\ipykernel_5228\\4255079492.py\u001b[0m in \u001b[0;36m<module>\u001b[1;34m\u001b[0m\n\u001b[0;32m      1\u001b[0m \u001b[1;31m#we can't add elements to a tuple\u001b[0m\u001b[1;33m\u001b[0m\u001b[1;33m\u001b[0m\u001b[0m\n\u001b[1;32m----> 2\u001b[1;33m \u001b[0mt\u001b[0m\u001b[1;33m.\u001b[0m\u001b[0mappend\u001b[0m\u001b[1;33m(\u001b[0m\u001b[1;36m1\u001b[0m\u001b[1;33m)\u001b[0m\u001b[1;33m\u001b[0m\u001b[1;33m\u001b[0m\u001b[0m\n\u001b[0m",
      "\u001b[1;31mAttributeError\u001b[0m: 'tuple' object has no attribute 'append'"
     ]
    }
   ],
   "source": [
    "#we can't add elements to a tuple\n",
    "t.append(1)"
   ]
  },
  {
   "cell_type": "code",
   "execution_count": 75,
   "id": "2084fe16",
   "metadata": {},
   "outputs": [
    {
     "data": {
      "text/plain": [
       "(69, 54, 0, 3)"
      ]
     },
     "execution_count": 75,
     "metadata": {},
     "output_type": "execute_result"
    }
   ],
   "source": [
    "#The fact that you cannot change the tuple does not mean that you cannot redefine the variable t\n",
    "t = (69, 54, 0, 3)\n",
    "t"
   ]
  },
  {
   "cell_type": "code",
   "execution_count": 76,
   "id": "5f966213",
   "metadata": {},
   "outputs": [
    {
     "name": "stdout",
     "output_type": "stream",
     "text": [
      "[1, 2, 3]\n",
      "(1, 2, 3)\n"
     ]
    }
   ],
   "source": [
    "#You can also convert lists to tuples and vice versa\n",
    "print( list( (1, 2, 3) ) )\n",
    "print( tuple( [1, 2, 3] ) )"
   ]
  },
  {
   "cell_type": "markdown",
   "id": "c1592ec8",
   "metadata": {},
   "source": [
    "### Returning to the functions"
   ]
  },
  {
   "cell_type": "markdown",
   "id": "c1e1059f",
   "metadata": {},
   "source": [
    "Thus, the asterisk in the signature seems to put additional brackets around the arguments.\n",
    "For example, the following two calls produce the same results."
   ]
  },
  {
   "cell_type": "code",
   "execution_count": 77,
   "id": "f581f40d",
   "metadata": {},
   "outputs": [
    {
     "name": "stdout",
     "output_type": "stream",
     "text": [
      "(1, 2, 3)\n",
      "(1, 2, 3)\n"
     ]
    }
   ],
   "source": [
    "#the following two calls produce the same results\n",
    "def test1(*args):\n",
    "    print(args)\n",
    "test1(1, 2, 3)\n",
    "def test2(args):\n",
    "    print(args)\n",
    "test2( (1,2,3) )"
   ]
  },
  {
   "cell_type": "markdown",
   "id": "c087feca",
   "metadata": {},
   "source": [
    "You can combine list variables and regular variables (provided that\n",
    "there is only one variable with an asterisk):"
   ]
  },
  {
   "cell_type": "code",
   "execution_count": 79,
   "id": "611a0110",
   "metadata": {},
   "outputs": [
    {
     "name": "stdout",
     "output_type": "stream",
     "text": [
      "7----8----9----hello----"
     ]
    }
   ],
   "source": [
    "def my_print(sep, *args):\n",
    "    for x in args:\n",
    "        print(x, end = sep)\n",
    "my_print('----', 7, 8, 9, 'hello')"
   ]
  }
 ],
 "metadata": {
  "kernelspec": {
   "display_name": "Python 3 (ipykernel)",
   "language": "python",
   "name": "python3"
  },
  "language_info": {
   "codemirror_mode": {
    "name": "ipython",
    "version": 3
   },
   "file_extension": ".py",
   "mimetype": "text/x-python",
   "name": "python",
   "nbconvert_exporter": "python",
   "pygments_lexer": "ipython3",
   "version": "3.9.13"
  }
 },
 "nbformat": 4,
 "nbformat_minor": 5
}
