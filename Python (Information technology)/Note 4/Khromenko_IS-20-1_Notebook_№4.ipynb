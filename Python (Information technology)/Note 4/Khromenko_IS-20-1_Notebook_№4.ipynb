{
 "cells": [
  {
   "cell_type": "markdown",
   "id": "d4611fc9",
   "metadata": {},
   "source": [
    "# Notebook №4. Information systems"
   ]
  },
  {
   "cell_type": "markdown",
   "id": "ed67ba95",
   "metadata": {},
   "source": [
    "## Performed by a student of the IS-20-1 group, Khromenko Danil.\n",
    "<br>"
   ]
  },
  {
   "cell_type": "markdown",
   "id": "c2732bf1",
   "metadata": {},
   "source": [
    "### Example of function definition"
   ]
  },
  {
   "cell_type": "code",
   "execution_count": 1,
   "id": "aeca4d82",
   "metadata": {},
   "outputs": [
    {
     "data": {
      "text/plain": [
       "8.0"
      ]
     },
     "execution_count": 1,
     "metadata": {},
     "output_type": "execute_result"
    }
   ],
   "source": [
    "#addition of two roots\n",
    "from math import sqrt\n",
    "sqrt(25)+sqrt(9)"
   ]
  },
  {
   "cell_type": "markdown",
   "id": "dc37ce08",
   "metadata": {},
   "source": [
    "Functions in programming are similar to functions in mathematics, although they have their own specifics.\n",
    "Let's write some function. For example, consider the factorial. Recall that\n",
    "the factorial of a natural number n is the product of all natural numbers (starting from 1) to n.<br><br>\n",
    "*factorial(n) = 1 × 2 × … × n*"
   ]
  },
  {
   "cell_type": "markdown",
   "id": "d95e927f",
   "metadata": {},
   "source": [
    "Let's first write a program to calculate the factorial of some number. It will\n",
    "look like this:"
   ]
  },
  {
   "cell_type": "code",
   "execution_count": 6,
   "id": "ad7212bc",
   "metadata": {},
   "outputs": [
    {
     "name": "stdout",
     "output_type": "stream",
     "text": [
      "120\n"
     ]
    }
   ],
   "source": [
    "n = 5\n",
    "f = 1\n",
    "#The cycle starts with 2, ends with 6 not inclusive\n",
    "for i in range(2, n+1):\n",
    "    #(f = f * i)\n",
    "    f *= i\n",
    "print(f)\n"
   ]
  },
  {
   "cell_type": "markdown",
   "id": "153ebb3b",
   "metadata": {},
   "source": [
    "In this case, we need to write a function that calculates the factorial. It looks like this:"
   ]
  },
  {
   "cell_type": "code",
   "execution_count": 8,
   "id": "b5702441",
   "metadata": {},
   "outputs": [],
   "source": [
    "#declaring a function with an argument n\n",
    "def factorial(n):\n",
    "    #calculating the function\n",
    "    f = 1\n",
    "    for i in range(2, n+1):\n",
    "        f = f * i\n",
    "    #returning a value from a function\n",
    "    return f"
   ]
  },
  {
   "cell_type": "code",
   "execution_count": 11,
   "id": "9f39f969",
   "metadata": {},
   "outputs": [
    {
     "name": "stdout",
     "output_type": "stream",
     "text": [
      "40320\n",
      "126\n"
     ]
    }
   ],
   "source": [
    "#Now we can call the factorial function by passing a parameter to it\n",
    "print(factorial(8))\n",
    "#And even use it in more complex expressions\n",
    "print(factorial(3) + factorial(5))\n"
   ]
  },
  {
   "cell_type": "markdown",
   "id": "7b7e7e2e",
   "metadata": {},
   "source": [
    "Let's take a closer look at what happens when Python calculates the value of an expression\n",
    "factorial(6). First of all, he looks at the first line of the function definition (this is the so\n",
    "-called signature):<br>\n",
    "<pre>def factorial(n):</pre>\n",
    "Here he sees that the factorial() function has an argument called n. Python remembers\n",
    "that we called factorial(6), that is, the value of the argument should be 6. Thus,\n",
    "next he executes the line (which we did not write)\n",
    "<pre>n = 6</pre>\n",
    "Then executes the remaining lines from the function body:\n",
    "<pre>f = 1\n",
    "for i in range(2, n+1):\n",
    "    f = f * i</pre>\n",
    "Finally he gets to the line\n",
    "<pre>return f</pre>\n",
    "At this point, the variable f has the value 24. The word return means that Python should\n",
    "return to the line in which factorial(6) was called, and replace factorial(6) with 24 there (\n",
    "what is written after return). This completes the function call."
   ]
  },
  {
   "cell_type": "markdown",
   "id": "5c75a63a",
   "metadata": {},
   "source": [
    "### Return values"
   ]
  },
  {
   "cell_type": "code",
   "execution_count": null,
   "id": "cd8c95f6",
   "metadata": {},
   "outputs": [],
   "source": []
  }
 ],
 "metadata": {
  "kernelspec": {
   "display_name": "Python 3 (ipykernel)",
   "language": "python",
   "name": "python3"
  },
  "language_info": {
   "codemirror_mode": {
    "name": "ipython",
    "version": 3
   },
   "file_extension": ".py",
   "mimetype": "text/x-python",
   "name": "python",
   "nbconvert_exporter": "python",
   "pygments_lexer": "ipython3",
   "version": "3.9.13"
  }
 },
 "nbformat": 4,
 "nbformat_minor": 5
}
