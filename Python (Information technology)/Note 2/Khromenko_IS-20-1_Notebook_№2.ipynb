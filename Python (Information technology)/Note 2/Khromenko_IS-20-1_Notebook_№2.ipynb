{
 "cells": [
  {
   "cell_type": "markdown",
   "id": "d4611fc9",
   "metadata": {},
   "source": [
    "# Notebook №2. Information systems"
   ]
  },
  {
   "cell_type": "markdown",
   "id": "ed67ba95",
   "metadata": {},
   "source": [
    "## Performed by a student of the IS-20-1 group, Khromenko Danil.\n",
    "<br>"
   ]
  },
  {
   "cell_type": "markdown",
   "id": "c2732bf1",
   "metadata": {},
   "source": [
    "### Lists and operations with them"
   ]
  },
  {
   "cell_type": "markdown",
   "id": "62d61552",
   "metadata": {},
   "source": [
    "A list is a data structure that contains many elements at once."
   ]
  },
  {
   "cell_type": "code",
   "execution_count": 1,
   "id": "796dbac4",
   "metadata": {},
   "outputs": [
    {
     "data": {
      "text/plain": [
       "[0, 1, 2, 54, 69]"
      ]
     },
     "execution_count": 1,
     "metadata": {},
     "output_type": "execute_result"
    }
   ],
   "source": [
    "#let's create a list of numbers and display it on the screen\n",
    "numbers = [0, 1, 2, 54, 69]\n",
    "numbers"
   ]
  },
  {
   "cell_type": "markdown",
   "id": "22d3f730",
   "metadata": {},
   "source": [
    "The list can store different types of data. For example, strings, integers, floating point numbers.\n",
    "You can access individual elements of the list and work with them as with ordinary variables. To select an element, you need to specify its number (index). Indexing starts from zero."
   ]
  },
  {
   "cell_type": "code",
   "execution_count": 2,
   "id": "382e4c02",
   "metadata": {},
   "outputs": [
    {
     "name": "stdout",
     "output_type": "stream",
     "text": [
      "Hi\n",
      "69.2\n"
     ]
    }
   ],
   "source": [
    "#creating the list of strings\n",
    "strings = [\"Hi\", \"abvgde\", \"zxc\"]\n",
    "#creating the list of different data\n",
    "mixed_list = [\"Hello\", 'R', 54, 69.2]\n",
    "#outputting data from our lists using indexes\n",
    "print(strings[0])\n",
    "print(mixed_list[3])"
   ]
  },
  {
   "cell_type": "markdown",
   "id": "0dec3b62",
   "metadata": {},
   "source": [
    "If there are elements of different types in the list, they do not \"interfere\" with each other in any way. For example, the presence of rows in the list does not turn other elements of this list into rows."
   ]
  },
  {
   "cell_type": "code",
   "execution_count": 3,
   "id": "dfacf7c4",
   "metadata": {},
   "outputs": [
    {
     "name": "stdout",
     "output_type": "stream",
     "text": [
      "['Hello', 'R', 54, 69.2]\n",
      "69\n"
     ]
    }
   ],
   "source": [
    "#outputting tle mixed_list and 3 element of mixed_list + 15\n",
    "print(mixed_list)\n",
    "print(mixed_list[2]+15)"
   ]
  },
  {
   "cell_type": "markdown",
   "id": "955685f9",
   "metadata": {},
   "source": [
    "The list items can be changed in the same way as the values of ordinary variables."
   ]
  },
  {
   "cell_type": "code",
   "execution_count": 4,
   "id": "06d39239",
   "metadata": {},
   "outputs": [
    {
     "name": "stdout",
     "output_type": "stream",
     "text": [
      "[0, 1, 2, 54, 69]\n",
      "[228, 1, 'MEOW', 54, 69]\n"
     ]
    }
   ],
   "source": [
    "#outputting the list of numbers\n",
    "print(numbers)\n",
    "#changing values in the list of numbers\n",
    "numbers[0] = 228\n",
    "numbers[2] = \"MEOW\"\n",
    "#output of the modified list of numbers\n",
    "print(numbers)"
   ]
  },
  {
   "cell_type": "markdown",
   "id": "00e1c24d",
   "metadata": {},
   "source": [
    "Python lists are based on standard C arrays and have their performance properties: in particular, accessing an element by its index has complexity O(1), it is not a massive operation.<br>\n",
    "To find out the length of the list, you can use the \"len\" function."
   ]
  },
  {
   "cell_type": "code",
   "execution_count": 5,
   "id": "614e9cff",
   "metadata": {},
   "outputs": [
    {
     "data": {
      "text/plain": [
       "5"
      ]
     },
     "execution_count": 5,
     "metadata": {},
     "output_type": "execute_result"
    }
   ],
   "source": [
    "#finding the length of the list\n",
    "len(numbers)"
   ]
  },
  {
   "cell_type": "markdown",
   "id": "0fc1101d",
   "metadata": {},
   "source": [
    "Note that this is not the index of the last element, but the number of elements. If you need to get the last element, then its index will be len(numbers)-1. But in Python, it is much easier to access the elements of the list, counting them \"from the end\"."
   ]
  },
  {
   "cell_type": "code",
   "execution_count": 6,
   "id": "9ca0848e",
   "metadata": {},
   "outputs": [
    {
     "name": "stdout",
     "output_type": "stream",
     "text": [
      "69\n",
      "54\n"
     ]
    }
   ],
   "source": [
    "#outputting the numbers in the list of numbers from the end\n",
    "print(numbers[-1])\n",
    "print(numbers[-2])"
   ]
  },
  {
   "cell_type": "code",
   "execution_count": 7,
   "id": "cbf33b44",
   "metadata": {},
   "outputs": [
    {
     "ename": "IndexError",
     "evalue": "list assignment index out of range",
     "output_type": "error",
     "traceback": [
      "\u001b[1;31m---------------------------------------------------------------------------\u001b[0m",
      "\u001b[1;31mIndexError\u001b[0m                                Traceback (most recent call last)",
      "\u001b[1;32m~\\AppData\\Local\\Temp\\ipykernel_8860\\1754461875.py\u001b[0m in \u001b[0;36m<module>\u001b[1;34m\u001b[0m\n\u001b[0;32m      1\u001b[0m \u001b[1;31m#if we try to print an element with a non-existent index, then you will get an error\u001b[0m\u001b[1;33m\u001b[0m\u001b[1;33m\u001b[0m\u001b[0m\n\u001b[1;32m----> 2\u001b[1;33m \u001b[0mnumbers\u001b[0m\u001b[1;33m[\u001b[0m\u001b[1;36m5\u001b[0m\u001b[1;33m]\u001b[0m \u001b[1;33m=\u001b[0m \u001b[1;36m228\u001b[0m\u001b[1;33m\u001b[0m\u001b[1;33m\u001b[0m\u001b[0m\n\u001b[0m",
      "\u001b[1;31mIndexError\u001b[0m: list assignment index out of range"
     ]
    }
   ],
   "source": [
    "#if we try to print an element with a non-existent index, then you will get an error\n",
    "numbers[5] = 228"
   ]
  },
  {
   "cell_type": "code",
   "execution_count": 8,
   "id": "4d865208",
   "metadata": {},
   "outputs": [
    {
     "name": "stdout",
     "output_type": "stream",
     "text": [
      "[111, 222, 333, 4]\n",
      "[111, 222, 333, 4, 777]\n"
     ]
    }
   ],
   "source": [
    "#However, you can add elements to the end using the append method\n",
    "numbers = [111, 222, 333, 4]\n",
    "print(numbers)\n",
    "numbers.append(777)\n",
    "print(numbers)"
   ]
  },
  {
   "cell_type": "markdown",
   "id": "efbf9502",
   "metadata": {},
   "source": [
    "The word \"append\" is a so—called \"method\" — a function \"belonging\" to some object (in this case, a numbers object of the list type), adding an entry to the end of this object. Lists, like other data types, have many methods that can be seen using a dot using Tab.<br>\n",
    "And you can also type help(list) or even help(numbers) (in our case) and get a brief description of these methods. For example, this way you can find out that in addition to append, lists have an extend method."
   ]
  },
  {
   "cell_type": "code",
   "execution_count": 9,
   "id": "1538219a",
   "metadata": {},
   "outputs": [
    {
     "name": "stdout",
     "output_type": "stream",
     "text": [
      "Help on list object:\n",
      "\n",
      "class list(object)\n",
      " |  list(iterable=(), /)\n",
      " |  \n",
      " |  Built-in mutable sequence.\n",
      " |  \n",
      " |  If no argument is given, the constructor creates a new empty list.\n",
      " |  The argument must be an iterable if specified.\n",
      " |  \n",
      " |  Methods defined here:\n",
      " |  \n",
      " |  __add__(self, value, /)\n",
      " |      Return self+value.\n",
      " |  \n",
      " |  __contains__(self, key, /)\n",
      " |      Return key in self.\n",
      " |  \n",
      " |  __delitem__(self, key, /)\n",
      " |      Delete self[key].\n",
      " |  \n",
      " |  __eq__(self, value, /)\n",
      " |      Return self==value.\n",
      " |  \n",
      " |  __ge__(self, value, /)\n",
      " |      Return self>=value.\n",
      " |  \n",
      " |  __getattribute__(self, name, /)\n",
      " |      Return getattr(self, name).\n",
      " |  \n",
      " |  __getitem__(...)\n",
      " |      x.__getitem__(y) <==> x[y]\n",
      " |  \n",
      " |  __gt__(self, value, /)\n",
      " |      Return self>value.\n",
      " |  \n",
      " |  __iadd__(self, value, /)\n",
      " |      Implement self+=value.\n",
      " |  \n",
      " |  __imul__(self, value, /)\n",
      " |      Implement self*=value.\n",
      " |  \n",
      " |  __init__(self, /, *args, **kwargs)\n",
      " |      Initialize self.  See help(type(self)) for accurate signature.\n",
      " |  \n",
      " |  __iter__(self, /)\n",
      " |      Implement iter(self).\n",
      " |  \n",
      " |  __le__(self, value, /)\n",
      " |      Return self<=value.\n",
      " |  \n",
      " |  __len__(self, /)\n",
      " |      Return len(self).\n",
      " |  \n",
      " |  __lt__(self, value, /)\n",
      " |      Return self<value.\n",
      " |  \n",
      " |  __mul__(self, value, /)\n",
      " |      Return self*value.\n",
      " |  \n",
      " |  __ne__(self, value, /)\n",
      " |      Return self!=value.\n",
      " |  \n",
      " |  __repr__(self, /)\n",
      " |      Return repr(self).\n",
      " |  \n",
      " |  __reversed__(self, /)\n",
      " |      Return a reverse iterator over the list.\n",
      " |  \n",
      " |  __rmul__(self, value, /)\n",
      " |      Return value*self.\n",
      " |  \n",
      " |  __setitem__(self, key, value, /)\n",
      " |      Set self[key] to value.\n",
      " |  \n",
      " |  __sizeof__(self, /)\n",
      " |      Return the size of the list in memory, in bytes.\n",
      " |  \n",
      " |  append(self, object, /)\n",
      " |      Append object to the end of the list.\n",
      " |  \n",
      " |  clear(self, /)\n",
      " |      Remove all items from list.\n",
      " |  \n",
      " |  copy(self, /)\n",
      " |      Return a shallow copy of the list.\n",
      " |  \n",
      " |  count(self, value, /)\n",
      " |      Return number of occurrences of value.\n",
      " |  \n",
      " |  extend(self, iterable, /)\n",
      " |      Extend list by appending elements from the iterable.\n",
      " |  \n",
      " |  index(self, value, start=0, stop=9223372036854775807, /)\n",
      " |      Return first index of value.\n",
      " |      \n",
      " |      Raises ValueError if the value is not present.\n",
      " |  \n",
      " |  insert(self, index, object, /)\n",
      " |      Insert object before index.\n",
      " |  \n",
      " |  pop(self, index=-1, /)\n",
      " |      Remove and return item at index (default last).\n",
      " |      \n",
      " |      Raises IndexError if list is empty or index is out of range.\n",
      " |  \n",
      " |  remove(self, value, /)\n",
      " |      Remove first occurrence of value.\n",
      " |      \n",
      " |      Raises ValueError if the value is not present.\n",
      " |  \n",
      " |  reverse(self, /)\n",
      " |      Reverse *IN PLACE*.\n",
      " |  \n",
      " |  sort(self, /, *, key=None, reverse=False)\n",
      " |      Sort the list in ascending order and return None.\n",
      " |      \n",
      " |      The sort is in-place (i.e. the list itself is modified) and stable (i.e. the\n",
      " |      order of two equal elements is maintained).\n",
      " |      \n",
      " |      If a key function is given, apply it once to each list item and sort them,\n",
      " |      ascending or descending, according to their function values.\n",
      " |      \n",
      " |      The reverse flag can be set to sort in descending order.\n",
      " |  \n",
      " |  ----------------------------------------------------------------------\n",
      " |  Class methods defined here:\n",
      " |  \n",
      " |  __class_getitem__(...) from builtins.type\n",
      " |      See PEP 585\n",
      " |  \n",
      " |  ----------------------------------------------------------------------\n",
      " |  Static methods defined here:\n",
      " |  \n",
      " |  __new__(*args, **kwargs) from builtins.type\n",
      " |      Create and return a new object.  See help(type) for accurate signature.\n",
      " |  \n",
      " |  ----------------------------------------------------------------------\n",
      " |  Data and other attributes defined here:\n",
      " |  \n",
      " |  __hash__ = None\n",
      "\n"
     ]
    }
   ],
   "source": [
    "#using help to view methods\n",
    "help(numbers)"
   ]
  },
  {
   "cell_type": "code",
   "execution_count": 10,
   "id": "e9be41f6",
   "metadata": {},
   "outputs": [
    {
     "name": "stdout",
     "output_type": "stream",
     "text": [
      "[111, 222, 333, 4, 777]\n",
      "[111, 222, 333, 4, 777, 228, 229, 300]\n"
     ]
    }
   ],
   "source": [
    "#using extend method to add multiple values\n",
    "print(numbers)\n",
    "numbers.extend([228, 229, 300])\n",
    "print(numbers)"
   ]
  },
  {
   "cell_type": "markdown",
   "id": "67c2f21a",
   "metadata": {},
   "source": [
    "The extend method allows you to assign multiple elements to a list at once. He gets a list for input, which should be attributed (pay attention to the square brackets inside the round ones when calling this method — they create a new list, which is passed to the extend function). The append and extend methods change the list to which they are applied. Sometimes you need to create a new list instead by combining (concatenating!) the other two. This can also be done."
   ]
  },
  {
   "cell_type": "code",
   "execution_count": 11,
   "id": "45a0db30",
   "metadata": {},
   "outputs": [
    {
     "name": "stdout",
     "output_type": "stream",
     "text": [
      "[2, 2, 8, 54, 69]\n"
     ]
    }
   ],
   "source": [
    "#concatenation of two lists\n",
    "first_list = [2, 2, 8]\n",
    "second_list = [54, 69]\n",
    "#The plus sign in this case does not mean element-by-element addition (as you might think), but concatenation.\n",
    "new_list = first_list + second_list\n",
    "print(new_list)"
   ]
  },
  {
   "cell_type": "code",
   "execution_count": 12,
   "id": "0190ba82",
   "metadata": {},
   "outputs": [
    {
     "name": "stdout",
     "output_type": "stream",
     "text": [
      "[2, 2, 8]\n",
      "[54, 69]\n"
     ]
    }
   ],
   "source": [
    "#The first_list and second_list lists have not changed at the same time\n",
    "print(first_list)\n",
    "print(second_list)"
   ]
  },
  {
   "cell_type": "code",
   "execution_count": 13,
   "id": "7bbe6f82",
   "metadata": {},
   "outputs": [
    {
     "name": "stdout",
     "output_type": "stream",
     "text": [
      "[0, 1, 2, 3, 4, 5, 54, 69]\n"
     ]
    }
   ],
   "source": [
    "#You might want to use addition instead of the extend operation\n",
    "#DO NOT do that\n",
    "numbers = [0, 1, 2, 3, 4, 5]\n",
    "numbers = numbers + [54, 69]\n",
    "print(numbers)"
   ]
  },
  {
   "cell_type": "markdown",
   "id": "2938f450",
   "metadata": {},
   "source": [
    "Generally speaking, this code worked, but it should not be done this way: when performing a concatenation operation, a new list is created, then all elements from numbers are copied into it, then elements from the second list are assigned to them, after which the old numbers is forgotten. If there were many items in numbers, copying them to a new list would take a long time. It is much faster to assign elements to a ready-made list."
   ]
  },
  {
   "cell_type": "markdown",
   "id": "d36e1361",
   "metadata": {},
   "source": [
    "### Slices"
   ]
  },
  {
   "cell_type": "markdown",
   "id": "221b4aa2",
   "metadata": {},
   "source": [
    "Sometimes we don't need the whole list, but a piece of it. It can be obtained by specifying not one number in square brackets, but two, separated by a colon."
   ]
  },
  {
   "cell_type": "code",
   "execution_count": 14,
   "id": "4f1066e5",
   "metadata": {},
   "outputs": [
    {
     "name": "stdout",
     "output_type": "stream",
     "text": [
      "[0, 1, 2, 3, 4, 5, 54, 69]\n",
      "[1, 2, 3, 4]\n"
     ]
    }
   ],
   "source": [
    "#output of the entire list and its slice\n",
    "print(numbers)\n",
    "print(numbers[1:5])"
   ]
  },
  {
   "cell_type": "markdown",
   "id": "232ac58e",
   "metadata": {},
   "source": [
    "This is called slice. Pay attention: the left end of the slice is included in the list, but the right end is not. This agreement convenient, for example, because it allows you to count the number of elements in a slice — you need to subtract the left end from the right end (in this case 5-1 = 4)."
   ]
  },
  {
   "cell_type": "code",
   "execution_count": 15,
   "id": "5f850197",
   "metadata": {},
   "outputs": [
    {
     "name": "stdout",
     "output_type": "stream",
     "text": [
      "[4, 5, 54, 69]\n",
      "[0, 1, 2, 3]\n"
     ]
    }
   ],
   "source": [
    "#If the left element is not specified, then it is considered the beginning of the list, and if the right one is the end.\n",
    "print(numbers[4:])\n",
    "print(numbers[:4])"
   ]
  },
  {
   "cell_type": "markdown",
   "id": "3580723d",
   "metadata": {},
   "source": [
    "The following is always true: a list of numbers is the same as numbers[:k]+numbers[k:] , where k is any index."
   ]
  },
  {
   "cell_type": "code",
   "execution_count": 16,
   "id": "866fe05c",
   "metadata": {},
   "outputs": [
    {
     "name": "stdout",
     "output_type": "stream",
     "text": [
      "[1, 2]\n",
      "[0, 55, 77, 3, 4, 5, 54, 69]\n"
     ]
    }
   ],
   "source": [
    "#Slices can be used for assignment\n",
    "print(numbers[1:3])\n",
    "numbers[1:3]= [55, 77]\n",
    "print(numbers)"
   ]
  },
  {
   "cell_type": "markdown",
   "id": "c41304bb",
   "metadata": {},
   "source": [
    "It is not necessary that the list we assign to the slice has the same length as the slice. You can assign a longer list (then the original list will expand), or you can assign a shorter one (then it will narrow). You can use slices to insert multiple items inside the list. (For a single element, this can be done using the insert method.)"
   ]
  },
  {
   "cell_type": "code",
   "execution_count": 17,
   "id": "6fe1017c",
   "metadata": {},
   "outputs": [
    {
     "name": "stdout",
     "output_type": "stream",
     "text": [
      "[]\n",
      "[1, 111, 222, 333, 2, 3]\n"
     ]
    }
   ],
   "source": [
    "#inserting multiple values into a list\n",
    "numbers = [1, 2, 3]\n",
    "print(numbers[1:1])\n",
    "numbers[1:1] = [111, 222, 333]\n",
    "print(numbers)"
   ]
  },
  {
   "cell_type": "code",
   "execution_count": 18,
   "id": "16794ab1",
   "metadata": {},
   "outputs": [
    {
     "name": "stdout",
     "output_type": "stream",
     "text": [
      "[1, 111, 222, 333, 2, 3]\n",
      "[1, 111, 9, 222, 333, 2, 3]\n"
     ]
    }
   ],
   "source": [
    "#one element can be inserted using the insert method\n",
    "print(numbers)\n",
    "numbers.insert(2, 9)\n",
    "print(numbers)"
   ]
  },
  {
   "cell_type": "markdown",
   "id": "413a1053",
   "metadata": {},
   "source": [
    "To insert some elements inside the list, you need to free up space for it by moving all subsequent elements forward. Python will do this automatically, but it will take time. Therefore, if possible, this should be avoided, especially if you work with large data arrays. If you really need to write something to the beginning and end of the list, look at the two-way queue (deque) from the collections module."
   ]
  },
  {
   "cell_type": "markdown",
   "id": "52ed0057",
   "metadata": {},
   "source": [
    "You can delete list items or slices using the del command."
   ]
  },
  {
   "cell_type": "code",
   "execution_count": 19,
   "id": "e800316f",
   "metadata": {},
   "outputs": [
    {
     "name": "stdout",
     "output_type": "stream",
     "text": [
      "[1, 111, 9, 222, 333, 2, 3]\n",
      "[1, 111, 9, 222, 2, 3]\n",
      "[9, 222, 2, 3]\n"
     ]
    }
   ],
   "source": [
    "#deleting items\n",
    "print(numbers)\n",
    "del(numbers[4]) #deleting 333\n",
    "print(numbers)\n",
    "del(numbers[0:2]) #deleting 1 & 111\n",
    "print(numbers)"
   ]
  },
  {
   "cell_type": "markdown",
   "id": "7698f46d",
   "metadata": {},
   "source": [
    "### Assigning and copying lists"
   ]
  },
  {
   "cell_type": "code",
   "execution_count": 20,
   "id": "123ac1f6",
   "metadata": {},
   "outputs": [
    {
     "name": "stdout",
     "output_type": "stream",
     "text": [
      "[5, 8, 9, 'Hello']\n",
      "[5, 8, 9, 'Hello']\n"
     ]
    }
   ],
   "source": [
    "#Consider the following situation\n",
    "#let's create the first list\n",
    "first_list = [5, 8, 9, 'Hello']\n",
    "#assign the first to the second list\n",
    "second_list = first_list\n",
    "#output of two lists\n",
    "print(first_list)\n",
    "print(second_list)"
   ]
  },
  {
   "cell_type": "code",
   "execution_count": 21,
   "id": "0d816efd",
   "metadata": {},
   "outputs": [
    {
     "name": "stdout",
     "output_type": "stream",
     "text": [
      "[69, 8, 9, 'Hello']\n",
      "[69, 8, 9, 'Hello']\n"
     ]
    }
   ],
   "source": [
    "#let's change the first element of the second list\n",
    "second_list[0] = 69\n",
    "#let's display the second list\n",
    "print(second_list)\n",
    "#let's display the first (supposedly unchanged) list\n",
    "print(first_list)"
   ]
  },
  {
   "cell_type": "markdown",
   "id": "a3225110",
   "metadata": {},
   "source": [
    "first_list stores not the list itself, but a pointer (link) to it. When we assign the value of first_list to the new variable second_list, we do not copy the list, we copy only the pointer. That is, second_list just became a different name for the same list as firt_list. Therefore, changing the second_list elements will change the first_list, and vice versa."
   ]
  },
  {
   "cell_type": "code",
   "execution_count": 22,
   "id": "2196a7c2",
   "metadata": {},
   "outputs": [
    {
     "name": "stdout",
     "output_type": "stream",
     "text": [
      "[1, 2, 3, 4, 5]\n",
      "[5469, 2, 3, 4, 5]\n",
      "[1, 2, 3, 4, 5]\n"
     ]
    }
   ],
   "source": [
    "#If we want to create a really new list, that is, copy an existing one, we need to use the copy() method.\n",
    "first_list = [1, 2, 3, 4, 5]\n",
    "second_list = first_list.copy()\n",
    "print(second_list)\n",
    "second_list[0] = 5469\n",
    "print(second_list)\n",
    "print(first_list)"
   ]
  },
  {
   "cell_type": "code",
   "execution_count": 23,
   "id": "097918f3",
   "metadata": {},
   "outputs": [
    {
     "name": "stdout",
     "output_type": "stream",
     "text": [
      "[1, 2, 3, 4, 5]\n",
      "[5469, 2, 3, 4, 5]\n",
      "[1, 2, 3, 4, 5]\n"
     ]
    }
   ],
   "source": [
    "#you can also use another copy method used earlier in python 2\n",
    "first_list = [1, 2, 3, 4, 5]\n",
    "second_list = first_list[:]\n",
    "print(second_list)\n",
    "second_list[0] = 5469\n",
    "print(second_list)\n",
    "print(first_list)"
   ]
  },
  {
   "cell_type": "markdown",
   "id": "86a7ca94",
   "metadata": {},
   "source": [
    "### Loop for"
   ]
  },
  {
   "cell_type": "code",
   "execution_count": 1,
   "id": "bc4e5fe9",
   "metadata": {
    "scrolled": true
   },
   "outputs": [
    {
     "name": "stdout",
     "output_type": "stream",
     "text": [
      "2\n",
      "4\n",
      "6\n",
      "8\n",
      "The end of cycle\n",
      "[1, 3, 5, 7]\n"
     ]
    }
   ],
   "source": [
    "#the indentation marks the body of the loop, which in this case includes two commands\n",
    "numbers = [1, 3, 5, 7]\n",
    "for x in numbers:\n",
    "    y = x + 1\n",
    "    print(y)\n",
    "print(\"The end of cycle\")\n",
    "print(numbers)"
   ]
  },
  {
   "cell_type": "code",
   "execution_count": 25,
   "id": "1740eb5f",
   "metadata": {},
   "outputs": [
    {
     "name": "stdout",
     "output_type": "stream",
     "text": [
      "Hello, i = 0\n",
      "Hello, i = 1\n",
      "Hello, i = 2\n",
      "Hello, i = 3\n",
      "Hello, i = 4\n"
     ]
    }
   ],
   "source": [
    "#Sometimes we don't have any specific list, but just need to execute some code several times,\n",
    "#and it's not known in advance how many.\n",
    "#The range() object is used to solve this problem.\n",
    "for i in range(5):\n",
    "    print(\"Hello, i =\", i)"
   ]
  },
  {
   "cell_type": "markdown",
   "id": "52c17c85",
   "metadata": {},
   "source": [
    "Range(n) behaves like a list containing integers from 0 to n-1. There are exactly n elements in it. You can also use range in two arguments: specify the beginning and end of the interval: range(3,9). You can even turn a range into a real list using the list command."
   ]
  },
  {
   "cell_type": "code",
   "execution_count": 26,
   "id": "e1b88bee",
   "metadata": {},
   "outputs": [
    {
     "data": {
      "text/plain": [
       "[0, 1, 2, 3, 4]"
      ]
     },
     "execution_count": 26,
     "metadata": {},
     "output_type": "execute_result"
    }
   ],
   "source": [
    "#creating a list using range\n",
    "list(range(5))"
   ]
  },
  {
   "cell_type": "code",
   "execution_count": 27,
   "id": "a8b74cb4",
   "metadata": {},
   "outputs": [
    {
     "data": {
      "text/plain": [
       "[3, 4, 5, 6, 7, 8]"
      ]
     },
     "execution_count": 27,
     "metadata": {},
     "output_type": "execute_result"
    }
   ],
   "source": [
    "#creating a list using the range interval\n",
    "list(range(3,9))"
   ]
  },
  {
   "cell_type": "markdown",
   "id": "24a0cee5",
   "metadata": {},
   "source": [
    "### Tutormagic"
   ]
  },
  {
   "cell_type": "markdown",
   "id": "9d60bd6a",
   "metadata": {},
   "source": [
    "To understand what is happening in the code in more detail, you can see what is happening to our code line by line. To do this, you can use the Python Tutor service (http://pythontutor.com), with which you can visualize the execution of the code."
   ]
  },
  {
   "cell_type": "code",
   "execution_count": 28,
   "id": "9fdc20e2",
   "metadata": {},
   "outputs": [],
   "source": [
    "%load_ext tutormagic\n",
    "#this thing allows you to insert a visualization with pythontutor directly into this notebook\n",
    "#to use it, you need to install the tutormagic package\n",
    "#CMD: pip install tutormagic"
   ]
  },
  {
   "cell_type": "markdown",
   "id": "8c4a5ef7",
   "metadata": {},
   "source": [
    "**now we can visualize the execution of the code**"
   ]
  },
  {
   "cell_type": "code",
   "execution_count": 29,
   "id": "a2ecc045",
   "metadata": {},
   "outputs": [
    {
     "data": {
      "text/html": [
       "\n",
       "        <iframe\n",
       "            width=\"100%\"\n",
       "            height=\"350\"\n",
       "            src=\"http://pythontutor.com/iframe-embed.html#code=first_list%20%3D%20%5B5%2C%208%2C%209%2C%20%27Hello%27%5D%0Asecond_list%20%3D%20first_list%0Asecond_list%5B0%5D%20%3D%2069%0Aprint%28second_list%29%0Aprint%28first_list%29%0A&origin=opt-frontend.js&cumulative=false&heapPrimitives=false&textReferences=false&curInstr=0&&verticalStack=false&py=3&rawInputLstJSON=%5B%5D&codeDivWidth=50%25&codeDivHeight=100%25\"\n",
       "            frameborder=\"0\"\n",
       "            allowfullscreen\n",
       "            \n",
       "        ></iframe>\n",
       "        "
      ],
      "text/plain": [
       "<IPython.lib.display.IFrame at 0x29bda3ecc10>"
      ]
     },
     "metadata": {},
     "output_type": "display_data"
    }
   ],
   "source": [
    "%%tutor --lang python3\n",
    "first_list = [5, 8, 9, 'Hello']\n",
    "second_list = first_list\n",
    "second_list[0] = 69\n",
    "print(second_list)\n",
    "print(first_list)"
   ]
  },
  {
   "cell_type": "code",
   "execution_count": 30,
   "id": "73c5779d",
   "metadata": {},
   "outputs": [
    {
     "data": {
      "text/html": [
       "\n",
       "        <iframe\n",
       "            width=\"100%\"\n",
       "            height=\"350\"\n",
       "            src=\"http://pythontutor.com/iframe-embed.html#code=first_list%20%3D%20%5B1%2C%202%2C%203%2C%204%2C%205%5D%0Asecond_list%20%3D%20first_list.copy%28%29%0Aprint%28second_list%29%0Asecond_list%5B0%5D%20%3D%205469%0Aprint%28second_list%29%0Aprint%28first_list%29%0A&origin=opt-frontend.js&cumulative=false&heapPrimitives=false&textReferences=false&curInstr=0&&verticalStack=false&py=3&rawInputLstJSON=%5B%5D&codeDivWidth=50%25&codeDivHeight=100%25\"\n",
       "            frameborder=\"0\"\n",
       "            allowfullscreen\n",
       "            \n",
       "        ></iframe>\n",
       "        "
      ],
      "text/plain": [
       "<IPython.lib.display.IFrame at 0x29bd9fc6100>"
      ]
     },
     "metadata": {},
     "output_type": "display_data"
    }
   ],
   "source": [
    "%%tutor --lang python3\n",
    "first_list = [1, 2, 3, 4, 5]\n",
    "second_list = first_list.copy()\n",
    "print(second_list)\n",
    "second_list[0] = 5469\n",
    "print(second_list)\n",
    "print(first_list)"
   ]
  },
  {
   "cell_type": "code",
   "execution_count": 31,
   "id": "99213c57",
   "metadata": {},
   "outputs": [
    {
     "data": {
      "text/html": [
       "\n",
       "        <iframe\n",
       "            width=\"100%\"\n",
       "            height=\"350\"\n",
       "            src=\"http://pythontutor.com/iframe-embed.html#code=numbers%20%3D%20%5B1%2C%203%2C%205%2C%207%5D%0Afor%20x%20in%20numbers%3A%0A%20%20%20%20y%20%3D%20x%20%2B%201%0A%20%20%20%20print%28y%29%0Aprint%28%22The%20end%20of%20cycle%22%29%0Aprint%28numbers%29%0A&origin=opt-frontend.js&cumulative=false&heapPrimitives=false&textReferences=false&curInstr=0&&verticalStack=false&py=3&rawInputLstJSON=%5B%5D&codeDivWidth=50%25&codeDivHeight=100%25\"\n",
       "            frameborder=\"0\"\n",
       "            allowfullscreen\n",
       "            \n",
       "        ></iframe>\n",
       "        "
      ],
      "text/plain": [
       "<IPython.lib.display.IFrame at 0x29bda4f7670>"
      ]
     },
     "metadata": {},
     "output_type": "display_data"
    }
   ],
   "source": [
    "%%tutor --lang python3\n",
    "numbers = [1, 3, 5, 7]\n",
    "for x in numbers:\n",
    "    y = x + 1\n",
    "    print(y)\n",
    "print(\"The end of cycle\")\n",
    "print(numbers)"
   ]
  }
 ],
 "metadata": {
  "kernelspec": {
   "display_name": "Python 3 (ipykernel)",
   "language": "python",
   "name": "python3"
  },
  "language_info": {
   "codemirror_mode": {
    "name": "ipython",
    "version": 3
   },
   "file_extension": ".py",
   "mimetype": "text/x-python",
   "name": "python",
   "nbconvert_exporter": "python",
   "pygments_lexer": "ipython3",
   "version": "3.9.13"
  }
 },
 "nbformat": 4,
 "nbformat_minor": 5
}
