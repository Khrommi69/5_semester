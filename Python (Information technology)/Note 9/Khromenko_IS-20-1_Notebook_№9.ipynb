{
 "cells": [
  {
   "cell_type": "markdown",
   "id": "d4611fc9",
   "metadata": {},
   "source": [
    "# Notebook №9. Information systems"
   ]
  },
  {
   "cell_type": "markdown",
   "id": "ed67ba95",
   "metadata": {},
   "source": [
    "by a student of the IS-20-1 group, Khromenko Danil.\n",
    "<br>"
   ]
  },
  {
   "cell_type": "markdown",
   "id": "90c3bf83",
   "metadata": {},
   "source": [
    "## Working with the Web Resource API using XML"
   ]
  },
  {
   "cell_type": "code",
   "execution_count": 1,
   "id": "08f3e776",
   "metadata": {},
   "outputs": [],
   "source": [
    "from bs4 import BeautifulSoup"
   ]
  },
  {
   "cell_type": "markdown",
   "id": "89afe912",
   "metadata": {},
   "source": [
    "### API and XML"
   ]
  },
  {
   "cell_type": "markdown",
   "id": "0db37670",
   "metadata": {},
   "source": [
    "Analyzing web pages and extracting information from them, we are trying to write a program that would act like a person. It can be difficult. Fortunately, more and more often various sites offer information that can be easily processed not only by a person, but also by another program. This is called the API — application program interface. A normal interface is a way for a person to interact with a program, and an API is a way for one program to interact with another. For example, your Python script with a remote web server.\n",
    "\n",
    "HTML is used to store web pages that people read. To store arbitrary structured data exchanged between programs, other languages are used — in particular, the XML language, similar to HTML. It would be more accurate to say that XML is a *metalanguage*, that is, a way of describing languages. Unlike HTML, the set of tags in an XML document can be arbitrary (and is determined by the developer of a specific XML dialect).\n",
    "\n",
    "For example, if we wanted to describe in XML some student group, it might look like this:\n",
    "<pre>\n",
    "&lt;group&gt;\n",
    "    &lt;number&gt;IS/b-20-1-o&lt;/number&gt;\n",
    "    &lt;student&gt;\n",
    "        &lt;firstname&gt;Danil&lt;/firstname&gt;\n",
    "        &lt;lastname&gt;Khromenko&lt;/lastname&gt;\n",
    "    &lt;/student&gt;\n",
    "    &lt;student&gt;\n",
    "        &lt;firstname&gt;Maxim&lt;/firstname&gt;\n",
    "        &lt;lastname&gt;Chirkov&lt;/lastname&gt;\n",
    "    &lt;/student&gt;\n",
    "&lt;/group&gt;\n",
    "</pre>"
   ]
  },
  {
   "cell_type": "markdown",
   "id": "2395adf5",
   "metadata": {},
   "source": [
    "To process XML files, you can use the same Beautiful Soup package that we have already used to work with HTML. The only difference is that you need to specify an additional parameter features=\"xml\" when calling the BeautifulSoup function — so that it does not search in the document HTML tags.\n",
    "\n",
    "If the features=\"xml\" parameter leads to an error, then you need to install the lxml package. To do this, open the Anaconda Prompt window and run the pip install lxml command."
   ]
  },
  {
   "cell_type": "code",
   "execution_count": 2,
   "id": "68b403a9",
   "metadata": {},
   "outputs": [],
   "source": [
    "group = \"\"\"\n",
    "<group>\n",
    "    <number>IS/b-20-1-o</number>\n",
    "    <student>\n",
    "        <firstname>Danil</firstname>\n",
    "        <lastname>Khromenko</lastname>\n",
    "    </student>\n",
    "    <student>\n",
    "        <firstname>Maxim</firstname>\n",
    "        <lastname>Chirkov</lastname>\n",
    "    </student>\n",
    "</group>\n",
    "\"\"\""
   ]
  },
  {
   "cell_type": "code",
   "execution_count": 3,
   "id": "57725f71",
   "metadata": {},
   "outputs": [
    {
     "name": "stdout",
     "output_type": "stream",
     "text": [
      "<?xml version=\"1.0\" encoding=\"utf-8\"?>\n",
      "<group>\n",
      " <number>\n",
      "  IS/b-20-1-o\n",
      " </number>\n",
      " <student>\n",
      "  <firstname>\n",
      "   Danil\n",
      "  </firstname>\n",
      "  <lastname>\n",
      "   Khromenko\n",
      "  </lastname>\n",
      " </student>\n",
      " <student>\n",
      "  <firstname>\n",
      "   Maxim\n",
      "  </firstname>\n",
      "  <lastname>\n",
      "   Chirkov\n",
      "  </lastname>\n",
      " </student>\n",
      "</group>\n"
     ]
    }
   ],
   "source": [
    "obj = BeautifulSoup(group, features=\"xml\")\n",
    "print(obj.prettify())"
   ]
  },
  {
   "cell_type": "code",
   "execution_count": 4,
   "id": "54a2df9d",
   "metadata": {},
   "outputs": [
    {
     "data": {
      "text/plain": [
       "'IS/b-20-1-o'"
      ]
     },
     "execution_count": 4,
     "metadata": {},
     "output_type": "execute_result"
    }
   ],
   "source": [
    "#This is how we can find the group number in our XML document:\n",
    "obj.group.number.string"
   ]
  },
  {
   "cell_type": "markdown",
   "id": "a9a859dd",
   "metadata": {},
   "source": [
    "This means \"find the group tag in the obj object, find the number tag in it and output as a string what it contains."
   ]
  },
  {
   "cell_type": "code",
   "execution_count": 5,
   "id": "f4be4afb",
   "metadata": {},
   "outputs": [
    {
     "name": "stdout",
     "output_type": "stream",
     "text": [
      "Khromenko Danil\n",
      "Chirkov Maxim\n"
     ]
    }
   ],
   "source": [
    "#And this is how you can list all the students:\n",
    "for student in obj.group.findAll('student'):\n",
    "    print(student.lastname.string, student.firstname.string)"
   ]
  },
  {
   "cell_type": "markdown",
   "id": "3fb11f3b",
   "metadata": {},
   "source": [
    "### We get a list of articles from the category in Wikipedia"
   ]
  },
  {
   "cell_type": "markdown",
   "id": "396f798b",
   "metadata": {},
   "source": [
    "Let's say we needed to get a list of all articles from some category in Wikipedia. We\n",
    "could open this category in the browser and continue to use the methods\n",
    "discussed above. However, Wikipedia has a convenient API. To learn how to work with it,\n",
    "you will have to get acquainted with the documentation (https://www.mediawiki.org/wiki/API:Main_page) (this will be the case with\n",
    "any API), but it seems complicated only the first time."
   ]
  },
  {
   "cell_type": "markdown",
   "id": "1ccc9852",
   "metadata": {},
   "source": [
    "So, let's get started. Interaction with the server using the API occurs by sending\n",
    "specially generated requests and receiving a response in one of the machine-readable\n",
    "formats. We will be interested in the XML format, although there are others (later we will get acquainted with\n",
    "JSONN). But we can send such a request:\n",
    "\n",
    "https://en.wikipedia.org/w/api.php?action=query&list=categorymembers&cmtitle=Category:Physics&cmsort=timestamp&cmdir=desc&format=xmlfm"
   ]
  },
  {
   "cell_type": "markdown",
   "id": "15dcb933",
   "metadata": {},
   "source": [
    "String https://en.wikipedia.org/w/api.php (before the question mark) is the API entry point. Everything that\n",
    "comes after the question mark is, in fact, a request. It is something like a dictionary and\n",
    "consists of \"key=value\" pairs separated by an ampersand & . Some characters have\n",
    "to be encoded in a special way."
   ]
  },
  {
   "cell_type": "markdown",
   "id": "5daf9304",
   "metadata": {},
   "source": [
    "For example, the address above says that we want to make a query ( action=query), list\n",
    "the elements of the category list=categorymembers, as the category that interests us is indicated\n",
    "Category:Physics ( cmtitle=Category:Physics ) and some other parameters are specified. If\n",
    "you click on this link, something like this will open:\n",
    "<pre>\n",
    "&lt;?xml version=\"1.0\"?&gt;\n",
    "&lt;api batchcomplete=\"\"&gt;\n",
    "  &lt;continue cmcontinue=\"2019-03-22 18:00:37|1653925\" continue=\"-||\" /&gt;\n",
    "  &lt;query&gt;\n",
    "    &lt;categorymembers&gt;\n",
    "      &lt;cm pageid=\"72263662\" ns=\"0\" title=\"X-ray Reconstruction of Moving Morphology\" /&gt;\n",
    "      &lt;cm pageid=\"71976587\" ns=\"14\" title=\"Category:Physics events\" /&gt;\n",
    "      &lt;cm pageid=\"23479\" ns=\"0\" title=\"Physicalism\" /&gt;\n",
    "      &lt;cm pageid=\"71771866\" ns=\"0\" title=\"Six Ideas that Shaped Physics\" /&gt;\n",
    "      &lt;cm pageid=\"70983414\" ns=\"14\" title=\"Category:Physics by country\" /&gt;\n",
    "      &lt;cm pageid=\"10844347\" ns=\"14\" title=\"Category:Physical systems\" /&gt;\n",
    "      &lt;cm pageid=\"1310583\" ns=\"14\" title=\"Category:History of physics\" /&gt;\n",
    "      &lt;cm pageid=\"63332556\" ns=\"14\" title=\"Category:Works about physics\" /&gt;\n",
    "      &lt;cm pageid=\"69843652\" ns=\"14\" title=\"Category:Physical modeling\" /&gt;\n",
    "      &lt;cm pageid=\"49740128\" ns=\"14\" title=\"Category:Subfields of physics\" /&gt;\n",
    "    &lt;/categorymembers&gt;\n",
    "  &lt;/query&gt;\n",
    "&lt;/api&gt;\n",
    "</pre>"
   ]
  },
  {
   "cell_type": "markdown",
   "id": "812c8923",
   "metadata": {},
   "source": [
    "We see different tags here, and we see that we are interested in the &lt;cm&gt; tags that are inside the tag\n",
    "&lt;categorymembers&gt;.\n",
    "\n",
    "Let's make the appropriate request using Python. To do this , we will need the already\n",
    "familiar requests module."
   ]
  },
  {
   "cell_type": "code",
   "execution_count": 6,
   "id": "e889e095",
   "metadata": {},
   "outputs": [],
   "source": [
    "import requests"
   ]
  },
  {
   "cell_type": "code",
   "execution_count": 7,
   "id": "050f3003",
   "metadata": {},
   "outputs": [],
   "source": [
    "#Let's make the appropriate request using Python\n",
    "url = \"https://en.wikipedia.org/w/api.php\"\n",
    "params = {\n",
    "    'action':'query',\n",
    "    'list':'categorymembers',\n",
    "    'cmtitle': 'Category:Physics',\n",
    "    'format': 'xml'\n",
    "}\n",
    "g = requests.get(url, params=params)"
   ]
  },
  {
   "cell_type": "markdown",
   "id": "dfbca8ea",
   "metadata": {},
   "source": [
    "As you can see, we pass the list of parameters in the form of a regular dictionary."
   ]
  },
  {
   "cell_type": "code",
   "execution_count": 8,
   "id": "8f0049c3",
   "metadata": {},
   "outputs": [
    {
     "data": {
      "text/plain": [
       "True"
      ]
     },
     "execution_count": 8,
     "metadata": {},
     "output_type": "execute_result"
    }
   ],
   "source": [
    "#Let's see what happened\n",
    "g.ok"
   ]
  },
  {
   "cell_type": "code",
   "execution_count": 9,
   "id": "f333391a",
   "metadata": {},
   "outputs": [],
   "source": [
    "#It's all good. Now we use Beautiful Soup to process this XML\n",
    "data = BeautifulSoup(g.text, features='xml')"
   ]
  },
  {
   "cell_type": "code",
   "execution_count": 10,
   "id": "1e1a63e5",
   "metadata": {},
   "outputs": [
    {
     "name": "stdout",
     "output_type": "stream",
     "text": [
      "<?xml version=\"1.0\" encoding=\"utf-8\"?>\n",
      "<api batchcomplete=\"\">\n",
      " <continue cmcontinue=\"subcat|32543244504e030648385a4e3a2e4e0432543244504e011901dcc0dc11|71976587\" continue=\"-||\"/>\n",
      " <query>\n",
      "  <categorymembers>\n",
      "   <cm ns=\"0\" pageid=\"22939\" title=\"Physics\"/>\n",
      "   <cm ns=\"100\" pageid=\"1653925\" title=\"Portal:Physics\"/>\n",
      "   <cm ns=\"0\" pageid=\"23479\" title=\"Physicalism\"/>\n",
      "   <cm ns=\"0\" pageid=\"71771866\" title=\"Six Ideas that Shaped Physics\"/>\n",
      "   <cm ns=\"0\" pageid=\"72263662\" title=\"X-ray Reconstruction of Moving Morphology\"/>\n",
      "   <cm ns=\"14\" pageid=\"36477012\" title=\"Category:Concepts in physics\"/>\n",
      "   <cm ns=\"14\" pageid=\"49740128\" title=\"Category:Subfields of physics\"/>\n",
      "   <cm ns=\"14\" pageid=\"694942\" title=\"Category:Physicists\"/>\n",
      "   <cm ns=\"14\" pageid=\"5625591\" title=\"Category:Physics awards\"/>\n",
      "   <cm ns=\"14\" pageid=\"70983414\" title=\"Category:Physics by country\"/>\n",
      "  </categorymembers>\n",
      " </query>\n",
      "</api>\n"
     ]
    }
   ],
   "source": [
    "print(data.prettify())"
   ]
  },
  {
   "cell_type": "code",
   "execution_count": 11,
   "id": "8cb28e54",
   "metadata": {},
   "outputs": [
    {
     "name": "stdout",
     "output_type": "stream",
     "text": [
      "Physics\n",
      "Portal:Physics\n",
      "Physicalism\n",
      "Six Ideas that Shaped Physics\n",
      "X-ray Reconstruction of Moving Morphology\n",
      "Category:Concepts in physics\n",
      "Category:Subfields of physics\n",
      "Category:Physicists\n",
      "Category:Physics awards\n",
      "Category:Physics by country\n"
     ]
    }
   ],
   "source": [
    "#Find all occurrences of the <cm> tag and output their title attribute:\n",
    "for cm in data.api.query.categorymembers(\"cm\"):\n",
    "    print(cm['title'])"
   ]
  },
  {
   "cell_type": "code",
   "execution_count": 12,
   "id": "95fc9f7a",
   "metadata": {},
   "outputs": [
    {
     "name": "stdout",
     "output_type": "stream",
     "text": [
      "Physics\n",
      "Portal:Physics\n",
      "Physicalism\n",
      "Six Ideas that Shaped Physics\n",
      "X-ray Reconstruction of Moving Morphology\n",
      "Category:Concepts in physics\n",
      "Category:Subfields of physics\n",
      "Category:Physicists\n",
      "Category:Physics awards\n",
      "Category:Physics by country\n"
     ]
    }
   ],
   "source": [
    "#It was possible to simplify the search for <cm> without specifying the \"full path\" to them:\n",
    "for cm in data(\"cm\"):\n",
    "    print(cm['title'])"
   ]
  },
  {
   "cell_type": "markdown",
   "id": "b8a0b52b",
   "metadata": {},
   "source": [
    "By default, the server returned us a list of 10 items. If we want more, we need\n",
    "to use the continue element — this is a kind of hyperlink to the next 10 elements."
   ]
  },
  {
   "cell_type": "code",
   "execution_count": 13,
   "id": "c287a831",
   "metadata": {},
   "outputs": [
    {
     "data": {
      "text/plain": [
       "'subcat|32543244504e030648385a4e3a2e4e0432543244504e011901dcc0dc11|71976587'"
      ]
     },
     "execution_count": 13,
     "metadata": {},
     "output_type": "execute_result"
    }
   ],
   "source": [
    "data.find(\"continue\")['cmcontinue']"
   ]
  },
  {
   "cell_type": "markdown",
   "id": "99f06b1f",
   "metadata": {},
   "source": [
    "We had to use the find() method instead of just writing data.continue,\n",
    "because continue in Python has a special meaning.\n",
    "\n",
    "Now let's add cmcontinue to our request and execute it again:"
   ]
  },
  {
   "cell_type": "code",
   "execution_count": 14,
   "id": "f5bad742",
   "metadata": {},
   "outputs": [
    {
     "name": "stdout",
     "output_type": "stream",
     "text": [
      "Category:Physics events\n",
      "Category:History of physics\n",
      "Category:Physics-related lists\n",
      "Category:Physics literature\n",
      "Category:Physical modeling\n",
      "Category:Physics organizations\n",
      "Category:Physical systems\n",
      "Category:Works about physics\n",
      "Category:Physics stubs\n"
     ]
    }
   ],
   "source": [
    "#we output the following 10 elements\n",
    "params['cmcontinue'] = data.api(\"continue\")[0]['cmcontinue']\n",
    "g = requests.get(url, params=params)\n",
    "data = BeautifulSoup(g.text, features='xml')\n",
    "for cm in data.api.query.categorymembers(\"cm\"):\n",
    "    print(cm['title'])"
   ]
  },
  {
   "cell_type": "markdown",
   "id": "b7262b41",
   "metadata": {},
   "source": [
    "We got the following 10 items from the category. Continuing in this way, you can\n",
    "even pump it out completely (although it will take a lot of time).\n",
    "\n",
    "Similarly, work with a variety of other APIs available on different\n",
    "sites is implemented. Somewhere the API is completely open (as in Wikipedia), somewhere you will need\n",
    "to register and get an application id and some key to access the API, somewhere\n",
    "you will even be asked to pay (for example, an automatic Google search costs something like $ 5 per 100\n",
    "requests). There are APIs that only allow you to read information, and there are also those that\n",
    "allow you to edit it. For example, you can write a script that will automatically save\n",
    "some information in Google Spreadsheets. Whenever you use the API, you will have\n",
    "to study its documentation, but in any case it is easier than processing HTML code. Sometimes\n",
    "it is possible to simplify API access by using special libraries."
   ]
  }
 ],
 "metadata": {
  "kernelspec": {
   "display_name": "Python 3 (ipykernel)",
   "language": "python",
   "name": "python3"
  },
  "language_info": {
   "codemirror_mode": {
    "name": "ipython",
    "version": 3
   },
   "file_extension": ".py",
   "mimetype": "text/x-python",
   "name": "python",
   "nbconvert_exporter": "python",
   "pygments_lexer": "ipython3",
   "version": "3.9.13"
  }
 },
 "nbformat": 4,
 "nbformat_minor": 5
}
