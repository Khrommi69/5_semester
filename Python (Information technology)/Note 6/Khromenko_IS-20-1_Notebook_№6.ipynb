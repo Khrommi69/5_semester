{
 "cells": [
  {
   "cell_type": "markdown",
   "id": "d4611fc9",
   "metadata": {},
   "source": [
    "# Notebook №6. Information systems"
   ]
  },
  {
   "cell_type": "markdown",
   "id": "ed67ba95",
   "metadata": {},
   "source": [
    "by a student of the IS-20-1 group, Khromenko Danil.\n",
    "<br>"
   ]
  },
  {
   "cell_type": "markdown",
   "id": "03c12ea8",
   "metadata": {},
   "source": [
    "## Python programming for data collection and analysis"
   ]
  },
  {
   "cell_type": "markdown",
   "id": "0ca3e8d9",
   "metadata": {},
   "source": [
    "### Sorting. Formatting strings"
   ]
  },
  {
   "cell_type": "markdown",
   "id": "310dc824",
   "metadata": {},
   "source": [
    "****kwargs**"
   ]
  },
  {
   "cell_type": "markdown",
   "id": "576eadeb",
   "metadata": {},
   "source": [
    "Let's talk about one method of passing arguments to a function using dictionaries. Recall two\n",
    "ways of passing arguments:"
   ]
  },
  {
   "cell_type": "code",
   "execution_count": 1,
   "id": "3349dd21",
   "metadata": {},
   "outputs": [],
   "source": [
    "#definition of the function that outputs x and y\n",
    "def myfunc(x=0, y=1):\n",
    "     print(\"x =\", x)\n",
    "     print(\"y =\", y)"
   ]
  },
  {
   "cell_type": "code",
   "execution_count": 2,
   "id": "79cd6be5",
   "metadata": {},
   "outputs": [
    {
     "name": "stdout",
     "output_type": "stream",
     "text": [
      "x = 12\n",
      "y = 19\n"
     ]
    }
   ],
   "source": [
    "#the first method of passing arguments\n",
    "myfunc(12,19)"
   ]
  },
  {
   "cell_type": "code",
   "execution_count": 3,
   "id": "067988cf",
   "metadata": {},
   "outputs": [
    {
     "name": "stdout",
     "output_type": "stream",
     "text": [
      "x = 5\n",
      "y = 2\n"
     ]
    }
   ],
   "source": [
    "#the second method of passing arguments\n",
    "myfunc(y=2, x=5)"
   ]
  },
  {
   "cell_type": "markdown",
   "id": "b4569edf",
   "metadata": {},
   "source": [
    "As the second example shows, arguments can be passed by specifying their names. Let's say we want\n",
    "to write a function that accepts an indefinite number of named arguments (we\n",
    "don't even know in advance which ones). This can be done as follows:"
   ]
  },
  {
   "cell_type": "code",
   "execution_count": 4,
   "id": "02fd5854",
   "metadata": {},
   "outputs": [],
   "source": [
    "#a function that accepts an indefinite number of named arguments\n",
    "def new_func(**kwargs):\n",
    "    print(kwargs)"
   ]
  },
  {
   "cell_type": "code",
   "execution_count": 5,
   "id": "4e8e4a02",
   "metadata": {},
   "outputs": [
    {
     "name": "stdout",
     "output_type": "stream",
     "text": [
      "{'x': 1, 'y': 54, 'z': 69, 's': 'Some string'}\n"
     ]
    }
   ],
   "source": [
    "#calling a function with random arguments\n",
    "new_func(x=1, y=54, z=69, s = \"Some string\")"
   ]
  },
  {
   "cell_type": "markdown",
   "id": "491ed354",
   "metadata": {},
   "source": [
    "Two asterisks in the definition of the new_func() function say the following: \"all named parameters\n",
    "passed to this function should be placed in the kwargs dictionary.\" As you can see, this is exactly how it\n",
    "works: for example, the parameter x=1 turned into an entry 'x': 1 in the kwargs dictionary. However, this\n",
    "happens only with \"ownerless\" parameters: if the function had a separate parameter x, it\n",
    "would not have been included in kvargs."
   ]
  },
  {
   "cell_type": "code",
   "execution_count": 6,
   "id": "8799cb50",
   "metadata": {},
   "outputs": [
    {
     "name": "stdout",
     "output_type": "stream",
     "text": [
      "{'y': 54, 'z': 69}\n"
     ]
    }
   ],
   "source": [
    "#a function with a specific argument x and kwargs\n",
    "def other_func(x, **kwargs):\n",
    "     print(kwargs)\n",
    "other_func(x=1, y=54, z=69)"
   ]
  },
  {
   "cell_type": "markdown",
   "id": "cf39c8d0",
   "metadata": {},
   "source": [
    "### Sorting"
   ]
  },
  {
   "cell_type": "markdown",
   "id": "d3ace714",
   "metadata": {},
   "source": [
    "Sorting — that is, arranging the list items in a certain order -\n",
    "is a common programming task. There are two main tools for sorting lists in Python. The first is the sort() method, which performs sorting in place, that is, inside\n",
    "the list itself."
   ]
  },
  {
   "cell_type": "code",
   "execution_count": 7,
   "id": "48ce5a6e",
   "metadata": {},
   "outputs": [],
   "source": [
    "#creating a list of numbers\n",
    "my_list = [9, 69, 2, 54, 7, 12, 8]"
   ]
  },
  {
   "cell_type": "code",
   "execution_count": 8,
   "id": "db0d2c40",
   "metadata": {},
   "outputs": [
    {
     "data": {
      "text/plain": [
       "[2, 7, 8, 9, 12, 54, 69]"
      ]
     },
     "execution_count": 8,
     "metadata": {},
     "output_type": "execute_result"
    }
   ],
   "source": [
    "#sorting and list output\n",
    "my_list.sort()\n",
    "my_list"
   ]
  },
  {
   "cell_type": "markdown",
   "id": "964716d9",
   "metadata": {},
   "source": [
    "The sort() method changes the source list (and therefore, by the way, can only work with lists —\n",
    "tuples do not have such a method). If you want to create a new list instead, you should\n",
    "use the sorted() function."
   ]
  },
  {
   "cell_type": "code",
   "execution_count": 9,
   "id": "2af8a50f",
   "metadata": {},
   "outputs": [
    {
     "data": {
      "text/plain": [
       "[2, 7, 8, 9, 12, 54, 69]"
      ]
     },
     "execution_count": 9,
     "metadata": {},
     "output_type": "execute_result"
    }
   ],
   "source": [
    "#creating a list of numbers\n",
    "my_list = [9, 69, 2, 54, 7, 12, 8]\n",
    "#creating a new sorted list and displaying it\n",
    "sorted_list = sorted(my_list)\n",
    "sorted_list"
   ]
  },
  {
   "cell_type": "code",
   "execution_count": 10,
   "id": "0d1e6fac",
   "metadata": {},
   "outputs": [
    {
     "data": {
      "text/plain": [
       "[9, 69, 2, 54, 7, 12, 8]"
      ]
     },
     "execution_count": 10,
     "metadata": {},
     "output_type": "execute_result"
    }
   ],
   "source": [
    "#So we created a new list. The old one remained unchanged.\n",
    "my_list"
   ]
  },
  {
   "cell_type": "markdown",
   "id": "3ca093ad",
   "metadata": {},
   "source": [
    "The sorted() function can be applied not only to lists, but also to immutable sequences.\n",
    "— for example, to tuples. The output is always a list."
   ]
  },
  {
   "cell_type": "code",
   "execution_count": 11,
   "id": "cc56c6ba",
   "metadata": {},
   "outputs": [
    {
     "name": "stdout",
     "output_type": "stream",
     "text": [
      "[1, 2, 6, 7]\n"
     ]
    }
   ],
   "source": [
    "#sorting tuples by the sorted method\n",
    "my_tuple = (7, 1, 2, 6)\n",
    "print (sorted(my_tuple))"
   ]
  },
  {
   "cell_type": "markdown",
   "id": "79814c47",
   "metadata": {},
   "source": [
    "### Sorting rows"
   ]
  },
  {
   "cell_type": "markdown",
   "id": "1e25554b",
   "metadata": {},
   "source": [
    "You can sort lists consisting not only of numbers, but also of more complex objects — only\n",
    "they would be able to compare them with each other. For example, strings can be compared with each other — they\n",
    "are ordered in lexicographic order, that is, \"alphabetically\" and the way they would go in a dictionary\n",
    "(meaning a regular paper dictionary, not a Python data type)."
   ]
  },
  {
   "cell_type": "code",
   "execution_count": 12,
   "id": "672d4f26",
   "metadata": {},
   "outputs": [
    {
     "name": "stdout",
     "output_type": "stream",
     "text": [
      "True\n",
      "True\n",
      "True\n"
     ]
    }
   ],
   "source": [
    "#string comparison\n",
    "print(\"abcd\" < \"b\")\n",
    "print(\"abcd\" < \"addd\")\n",
    "print(\"a\" < \"aa\")"
   ]
  },
  {
   "cell_type": "code",
   "execution_count": 13,
   "id": "940208e5",
   "metadata": {},
   "outputs": [
    {
     "data": {
      "text/plain": [
       "['Alice', 'Bill', 'Bob', 'Weigu']"
      ]
     },
     "execution_count": 13,
     "metadata": {},
     "output_type": "execute_result"
    }
   ],
   "source": [
    "#This is how sorting a list of strings looks like:\n",
    "str_list = [\"Bob\", \"Alice\", \"Bill\", \"Weigu\"]\n",
    "str_list.sort()\n",
    "str_list"
   ]
  },
  {
   "cell_type": "markdown",
   "id": "baa07e82",
   "metadata": {},
   "source": [
    "### Sorting and loops"
   ]
  },
  {
   "cell_type": "markdown",
   "id": "21fd9a37",
   "metadata": {},
   "source": [
    "You can use the sorted() function together with the for operator to process\n",
    "the list items in a certain order. For example, we have a dictionary and we want to output its\n",
    "elements in ascending order of the key value."
   ]
  },
  {
   "cell_type": "code",
   "execution_count": 14,
   "id": "7aa38fec",
   "metadata": {},
   "outputs": [
    {
     "name": "stdout",
     "output_type": "stream",
     "text": [
      "Alice 5\n",
      "Bill 2\n",
      "Bob 3\n",
      "Weigu 4\n"
     ]
    }
   ],
   "source": [
    "#creating a dictionary\n",
    "gradebook = {'Bob': 3, 'Alice': 5, 'Weigu': 4, 'Bill': 2}\n",
    "#output of a dictionary sorted by key\n",
    "for k in sorted(gradebook):\n",
    "    print(k, gradebook[k])"
   ]
  },
  {
   "cell_type": "markdown",
   "id": "3f361f00",
   "metadata": {},
   "source": [
    "### More complex sorting examples"
   ]
  },
  {
   "cell_type": "markdown",
   "id": "5b7e8063",
   "metadata": {},
   "source": [
    "You can sort the list in reverse order (descending). To do this, use\n",
    "the reverse parameter."
   ]
  },
  {
   "cell_type": "code",
   "execution_count": 15,
   "id": "3ba0d25d",
   "metadata": {},
   "outputs": [
    {
     "data": {
      "text/plain": [
       "[8, 7, 4, 1]"
      ]
     },
     "execution_count": 15,
     "metadata": {},
     "output_type": "execute_result"
    }
   ],
   "source": [
    "#sorting the list in descending order\n",
    "sorted([4, 8, 1, 7], reverse=True)"
   ]
  },
  {
   "cell_type": "markdown",
   "id": "20eab343",
   "metadata": {},
   "source": [
    "You can sort not only numbers and strings, but also more complex objects. For example, consider\n",
    "such a table (implemented as a list of tuples), in which the names of students and their\n",
    "grades for several papers are recorded."
   ]
  },
  {
   "cell_type": "code",
   "execution_count": 16,
   "id": "d1c559db",
   "metadata": {},
   "outputs": [],
   "source": [
    "#list of tuples - name, grades\n",
    "names = [(\"Bob\", 8, 4, 9),\n",
    "        (\"Alice\", 7, 8, 9),\n",
    "        (\"Weigu\", 7, 5, 3),\n",
    "        (\"Dan\", 6, 4, 3)]"
   ]
  },
  {
   "cell_type": "code",
   "execution_count": 17,
   "id": "2ee75614",
   "metadata": {},
   "outputs": [
    {
     "data": {
      "text/plain": [
       "[('Alice', 7, 8, 9), ('Bob', 8, 4, 9), ('Dan', 6, 4, 3), ('Weigu', 7, 5, 3)]"
      ]
     },
     "execution_count": 17,
     "metadata": {},
     "output_type": "execute_result"
    }
   ],
   "source": [
    "#sorting a list of tuples\n",
    "names.sort()\n",
    "names"
   ]
  },
  {
   "cell_type": "markdown",
   "id": "48708896",
   "metadata": {},
   "source": [
    "Judging by the result, it is logical to assume that the sorting was performed by the first element - the student's name. Indeed, tuples are compared in much the same way as strings,\n",
    "lexicographically. First, the first elements are compared. If the first element matches, then the second elements are compared, etc."
   ]
  },
  {
   "cell_type": "code",
   "execution_count": 18,
   "id": "f55c767b",
   "metadata": {},
   "outputs": [
    {
     "name": "stdout",
     "output_type": "stream",
     "text": [
      "True\n",
      "False\n"
     ]
    }
   ],
   "source": [
    "#comparison of tuples\n",
    "print(('a', 8) < ('b', 7))\n",
    "print(('a', 8) < ('a', 7))"
   ]
  },
  {
   "cell_type": "markdown",
   "id": "c84c1dec",
   "metadata": {},
   "source": [
    "And what if we wanted to sort the tuples in the names list not by the first element,\n",
    "but by the second or some other? To do this, use the key parameter, which specifies\n",
    "the sorting key. Before we do this, we need to say a few words about how one\n",
    "function can be passed to another function as a parameter."
   ]
  },
  {
   "cell_type": "markdown",
   "id": "cb4660ac",
   "metadata": {},
   "source": [
    "### Digression: functions as arguments of functions"
   ]
  },
  {
   "cell_type": "code",
   "execution_count": 19,
   "id": "232d3136",
   "metadata": {},
   "outputs": [],
   "source": [
    "#a function that takes another function as an argument\n",
    "def superfunc(f):\n",
    "    return f(2)"
   ]
  },
  {
   "cell_type": "markdown",
   "id": "ffa1dc07",
   "metadata": {},
   "source": [
    "As an argument, it takes some function f, calls this function, passes it the\n",
    "number 2 as an argument, and returns the result that f returned."
   ]
  },
  {
   "cell_type": "code",
   "execution_count": 20,
   "id": "1cbce323",
   "metadata": {},
   "outputs": [
    {
     "data": {
      "text/plain": [
       "1.4142135623730951"
      ]
     },
     "execution_count": 20,
     "metadata": {},
     "output_type": "execute_result"
    }
   ],
   "source": [
    "#calling the superfunk function with the root function in argument\n",
    "from math import sqrt\n",
    "superfunc(sqrt)"
   ]
  },
  {
   "cell_type": "markdown",
   "id": "e9f593c7",
   "metadata": {},
   "source": [
    "We imported the sqrt() function from the math module, and then passed the sqrt function to the superfunk()\n",
    "function as a parameter. Please note: there are no parentheses when passing after the sqrt function: this is because we do not call it, but pass it to another function. The superfunk function took\n",
    "our sqrt function and called it, passing it the number 2 as a parameter. That is, I calculated\n",
    "the root of two.\n",
    "\n",
    "You can imagine that sqrt is a recipe written on a piece of paper. We pass it in the form\n",
    "of such a piece of paper to the superfunk function and it uses it somehow. Let's pass another piece of paper — she\n",
    "uses it."
   ]
  },
  {
   "cell_type": "code",
   "execution_count": 21,
   "id": "d9c4bb9b",
   "metadata": {},
   "outputs": [
    {
     "name": "stdout",
     "output_type": "stream",
     "text": [
      "2\n"
     ]
    }
   ],
   "source": [
    "#passing another argument to a function\n",
    "superfunc(print)"
   ]
  },
  {
   "cell_type": "code",
   "execution_count": 22,
   "id": "4b74eedc",
   "metadata": {},
   "outputs": [
    {
     "data": {
      "text/plain": [
       "3"
      ]
     },
     "execution_count": 22,
     "metadata": {},
     "output_type": "execute_result"
    }
   ],
   "source": [
    "#passing another argument to a function\n",
    "def plusone(x):\n",
    "    return x + 1\n",
    "superfunc(plusone)"
   ]
  },
  {
   "cell_type": "markdown",
   "id": "a41fc2fe",
   "metadata": {},
   "source": [
    "If we try to pass something else to the superfunc function - for example, a string or a number —\n",
    "nothing will work (it expects exactly the function)."
   ]
  },
  {
   "cell_type": "code",
   "execution_count": 23,
   "id": "91ff086a",
   "metadata": {},
   "outputs": [
    {
     "ename": "TypeError",
     "evalue": "'str' object is not callable",
     "output_type": "error",
     "traceback": [
      "\u001b[1;31m---------------------------------------------------------------------------\u001b[0m",
      "\u001b[1;31mTypeError\u001b[0m                                 Traceback (most recent call last)",
      "\u001b[1;32m~\\AppData\\Local\\Temp\\ipykernel_9572\\2760945466.py\u001b[0m in \u001b[0;36m<module>\u001b[1;34m\u001b[0m\n\u001b[0;32m      1\u001b[0m \u001b[1;31m#argument passing error (function is expected as an argument)\u001b[0m\u001b[1;33m\u001b[0m\u001b[1;33m\u001b[0m\u001b[0m\n\u001b[1;32m----> 2\u001b[1;33m \u001b[0msuperfunc\u001b[0m\u001b[1;33m(\u001b[0m\u001b[1;34m\"sqrt\"\u001b[0m\u001b[1;33m)\u001b[0m\u001b[1;33m\u001b[0m\u001b[1;33m\u001b[0m\u001b[0m\n\u001b[0m",
      "\u001b[1;32m~\\AppData\\Local\\Temp\\ipykernel_9572\\1890431584.py\u001b[0m in \u001b[0;36msuperfunc\u001b[1;34m(f)\u001b[0m\n\u001b[0;32m      1\u001b[0m \u001b[1;31m#a function that takes another function as an argument\u001b[0m\u001b[1;33m\u001b[0m\u001b[1;33m\u001b[0m\u001b[0m\n\u001b[0;32m      2\u001b[0m \u001b[1;32mdef\u001b[0m \u001b[0msuperfunc\u001b[0m\u001b[1;33m(\u001b[0m\u001b[0mf\u001b[0m\u001b[1;33m)\u001b[0m\u001b[1;33m:\u001b[0m\u001b[1;33m\u001b[0m\u001b[1;33m\u001b[0m\u001b[0m\n\u001b[1;32m----> 3\u001b[1;33m     \u001b[1;32mreturn\u001b[0m \u001b[0mf\u001b[0m\u001b[1;33m(\u001b[0m\u001b[1;36m2\u001b[0m\u001b[1;33m)\u001b[0m\u001b[1;33m\u001b[0m\u001b[1;33m\u001b[0m\u001b[0m\n\u001b[0m",
      "\u001b[1;31mTypeError\u001b[0m: 'str' object is not callable"
     ]
    }
   ],
   "source": [
    "#argument passing error (function is expected as an argument)\n",
    "superfunc(\"sqrt\")"
   ]
  },
  {
   "cell_type": "markdown",
   "id": "e12a5c60",
   "metadata": {},
   "source": [
    "### Sorting Keys"
   ]
  },
  {
   "cell_type": "markdown",
   "id": "29a5767d",
   "metadata": {},
   "source": [
    "Let's return to the problem of sorting a table presented as a list of tuples. To\n",
    "sort such a list by the second element, you must first create a function that\n",
    "will return the second element of the tuple (or list) passed to it."
   ]
  },
  {
   "cell_type": "code",
   "execution_count": 24,
   "id": "6fc1da00",
   "metadata": {},
   "outputs": [],
   "source": [
    "#the function returns the second element of the list, tuple, etc.\n",
    "def get_second_element(x):\n",
    "    return x[1]"
   ]
  },
  {
   "cell_type": "code",
   "execution_count": 25,
   "id": "ca5a29af",
   "metadata": {},
   "outputs": [
    {
     "data": {
      "text/plain": [
       "8"
      ]
     },
     "execution_count": 25,
     "metadata": {},
     "output_type": "execute_result"
    }
   ],
   "source": [
    "#executing the get_secong_element function\n",
    "get_second_element([7, 8, 4, 2])"
   ]
  },
  {
   "cell_type": "markdown",
   "id": "eabc68a2",
   "metadata": {},
   "source": [
    "Now we pass this function as a key parameter to the sort() method (the sorted() function will also\n",
    "work):"
   ]
  },
  {
   "cell_type": "code",
   "execution_count": 26,
   "id": "8cb4645c",
   "metadata": {},
   "outputs": [
    {
     "data": {
      "text/plain": [
       "[('Dan', 6, 4, 3), ('Alice', 7, 8, 9), ('Weigu', 7, 5, 3), ('Bob', 8, 4, 9)]"
      ]
     },
     "execution_count": 26,
     "metadata": {},
     "output_type": "execute_result"
    }
   ],
   "source": [
    "#sorting a list of tuples by the second element\n",
    "names.sort(key=get_second_element)\n",
    "names"
   ]
  },
  {
   "cell_type": "markdown",
   "id": "3ef63370",
   "metadata": {},
   "source": [
    "It can be seen that now the rows were ordered by the second column (the first estimate): Dan has\n",
    "the lowest (6), Bob has the highest (8), and Alice and Weigu have the same (7)."
   ]
  },
  {
   "cell_type": "markdown",
   "id": "eea1adad",
   "metadata": {},
   "source": [
    "A natural question arises: and how are the lines corresponding to Alice and\n",
    "Weigu? Answer: in the order in which they were in the original list. This is convenient if you\n",
    "want to sort first by one parameter, and then by another: just sort\n",
    "sequentially, first by the second parameter, and then by the first."
   ]
  },
  {
   "cell_type": "markdown",
   "id": "72dda707",
   "metadata": {},
   "source": [
    "In order not to define a get_second_element type function every time, you can use a ready-made one:\n",
    "to do this, you need to import a special itemgetter function:"
   ]
  },
  {
   "cell_type": "code",
   "execution_count": 27,
   "id": "afa9ff02",
   "metadata": {},
   "outputs": [
    {
     "data": {
      "text/plain": [
       "[('Dan', 6, 4, 3), ('Bob', 8, 4, 9), ('Weigu', 7, 5, 3), ('Alice', 7, 8, 9)]"
      ]
     },
     "execution_count": 27,
     "metadata": {},
     "output_type": "execute_result"
    }
   ],
   "source": [
    "from operator import itemgetter\n",
    "#ordered by the third column\n",
    "sorted(names, key=itemgetter(2))"
   ]
  },
  {
   "cell_type": "code",
   "execution_count": 28,
   "id": "8ddee72a",
   "metadata": {},
   "outputs": [
    {
     "data": {
      "text/plain": [
       "[('Dan', 6, 4, 3), ('Weigu', 7, 5, 3), ('Alice', 7, 8, 9), ('Bob', 8, 4, 9)]"
      ]
     },
     "execution_count": 28,
     "metadata": {},
     "output_type": "execute_result"
    }
   ],
   "source": [
    "#ordered by the fourth column\n",
    "sorted(names, key=itemgetter(3))"
   ]
  },
  {
   "cell_type": "markdown",
   "id": "ce6b0541",
   "metadata": {},
   "source": [
    "Let's say we want to sort by the third column, and if the third column gives the same\n",
    "score, then alphabetically. This can be done as follows: first we will arrange alphabetically, and then — by\n",
    "the third column."
   ]
  },
  {
   "cell_type": "code",
   "execution_count": 29,
   "id": "9598607e",
   "metadata": {},
   "outputs": [
    {
     "name": "stdout",
     "output_type": "stream",
     "text": [
      "[('Dan', 6, 4, 3), ('Alice', 7, 8, 9), ('Weigu', 7, 5, 3), ('Bob', 8, 4, 9)]\n",
      "[('Alice', 7, 8, 9), ('Bob', 8, 4, 9), ('Dan', 6, 4, 3), ('Weigu', 7, 5, 3)]\n",
      "[('Bob', 8, 4, 9), ('Dan', 6, 4, 3), ('Weigu', 7, 5, 3), ('Alice', 7, 8, 9)]\n"
     ]
    }
   ],
   "source": [
    "#first, let's sort alphabetically, and then — by the third column.\n",
    "print(names)\n",
    "names.sort(key=itemgetter(0))\n",
    "print(names)\n",
    "names.sort(key=itemgetter(2))\n",
    "print(names)"
   ]
  },
  {
   "cell_type": "markdown",
   "id": "d0e0167b",
   "metadata": {},
   "source": [
    "### Formatting strings"
   ]
  },
  {
   "cell_type": "markdown",
   "id": "43120cb0",
   "metadata": {},
   "source": [
    "It is often necessary to insert the value of some variables into some line. An example that we\n",
    "have already met."
   ]
  },
  {
   "cell_type": "code",
   "execution_count": 30,
   "id": "dc7e5ce5",
   "metadata": {},
   "outputs": [
    {
     "name": "stdout",
     "output_type": "stream",
     "text": [
      "Student Alice has grade 5\n"
     ]
    }
   ],
   "source": [
    "#inserting variables into a string\n",
    "name = \"Alice\"\n",
    "grade = 5\n",
    "print(\"Student\", name,\"has grade\", grade)"
   ]
  },
  {
   "cell_type": "markdown",
   "id": "0295d746",
   "metadata": {},
   "source": [
    "Using print(), you can print such a string, but if we wanted to pass it to some other function, then we would have to come up with something else. And this other has already been invented!"
   ]
  },
  {
   "cell_type": "markdown",
   "id": "48bc7916",
   "metadata": {},
   "source": [
    "There are two common ways to substitute the value of variables into a string (this is often\n",
    "called interpolation, although it has nothing to do with the mathematical\n",
    "operation of the same name). The first method is more classic."
   ]
  },
  {
   "cell_type": "code",
   "execution_count": 31,
   "id": "7b9a5e03",
   "metadata": {},
   "outputs": [
    {
     "name": "stdout",
     "output_type": "stream",
     "text": [
      "Student Alice has grade 5\n"
     ]
    }
   ],
   "source": [
    "#substituting the values of variables into a string\n",
    "new_str = \"Student %s has grade %i\" % (name, grade)\n",
    "print(new_str)"
   ]
  },
  {
   "cell_type": "markdown",
   "id": "916d2e14",
   "metadata": {},
   "source": [
    "The % operator is used here, which performs the following operation for strings: takes the string to the left\n",
    "of it, finds all the \"placeholders\" there — in this case, these are %s and %i, and then\n",
    "takes the variables listed to the right of it (it can be one variable or a tuple\n",
    "of several variables, as in this case) and substitutes them sequentially — the first\n",
    "variable in place of the first placeholder, the second in place of the second, etc.\n",
    "\n",
    "The letters in placeholders denote the type of variable: in this case, %s is a string, and %i is an integer."
   ]
  },
  {
   "cell_type": "code",
   "execution_count": 32,
   "id": "2e01f892",
   "metadata": {},
   "outputs": [
    {
     "name": "stdout",
     "output_type": "stream",
     "text": [
      "The number is 2\n",
      "The number is 2.000000\n",
      "The number is 2.14\n",
      "The number is 0003\n"
     ]
    }
   ],
   "source": [
    "#a few more examples of substituting the values of variables into a string\n",
    "print(\"The number is %i\" % 2.3)\n",
    "#f means float\n",
    "print(\"The number is %f\" % 2)\n",
    "#two characters after the dot\n",
    "print(\"The number is %.2f\" % 2.1393)\n",
    " #add up to four characters with zeros\n",
    "print(\"The number is %04i\" % 3)"
   ]
  },
  {
   "cell_type": "markdown",
   "id": "d3900bac",
   "metadata": {},
   "source": [
    "When using the % operator, you need to be careful: it takes precedence over\n",
    "arithmetic operations, so you may get an unexpected result if you don't\n",
    "put parentheses."
   ]
  },
  {
   "cell_type": "code",
   "execution_count": 33,
   "id": "25f85c2e",
   "metadata": {},
   "outputs": [
    {
     "name": "stdout",
     "output_type": "stream",
     "text": [
      "a = 3a = 3a = 3\n"
     ]
    }
   ],
   "source": [
    "#logically incorrect execution of operations\n",
    "print(\"a = %i\" % 3*3)"
   ]
  },
  {
   "cell_type": "markdown",
   "id": "50b5990a",
   "metadata": {},
   "source": [
    "The following happened here: first, the code \"a = %i\" %3, and then the result was multiplied\n",
    "by 3 (which for lines is equivalent to a triple repetition)."
   ]
  },
  {
   "cell_type": "code",
   "execution_count": 34,
   "id": "aa6d6abe",
   "metadata": {},
   "outputs": [
    {
     "name": "stdout",
     "output_type": "stream",
     "text": [
      "a = 9\n"
     ]
    }
   ],
   "source": [
    "#If you wanted to substitute the result of executing 3*3, then you had to do this\n",
    "print(\"a = %i\" % (3*3))"
   ]
  },
  {
   "cell_type": "markdown",
   "id": "0aa359a2",
   "metadata": {},
   "source": [
    "The second way of formatting (\"new\") is to use the format() method."
   ]
  },
  {
   "cell_type": "code",
   "execution_count": 35,
   "id": "1a2f912b",
   "metadata": {},
   "outputs": [
    {
     "data": {
      "text/plain": [
       "'hello, 7, this is 9, again 7, test'"
      ]
     },
     "execution_count": 35,
     "metadata": {},
     "output_type": "execute_result"
    }
   ],
   "source": [
    "#using the format() method.\n",
    "\"hello, {0}, this is {1}, again {0}, {var}\".format(7, 9, var=\"test\")"
   ]
  },
  {
   "cell_type": "markdown",
   "id": "d9a974b2",
   "metadata": {},
   "source": [
    "There is no need to explicitly specify data types (a string representation\n",
    "of the variable is substituted). The same value can be used several times (they can be accessed\n",
    "by numbers and names. However, you can not explicitly specify the numbers — then the variables will\n",
    "be substituted in turn."
   ]
  },
  {
   "cell_type": "markdown",
   "id": "ceaad0bc",
   "metadata": {},
   "source": [
    "#using the format() method.\n",
    "\"Fist var: {}, the second one: {}\".format(8, 1)"
   ]
  },
  {
   "cell_type": "markdown",
   "id": "dafe26a5",
   "metadata": {},
   "source": [
    "### Tricks with real numbers"
   ]
  },
  {
   "cell_type": "code",
   "execution_count": 36,
   "id": "c06c57e9",
   "metadata": {},
   "outputs": [
    {
     "name": "stdout",
     "output_type": "stream",
     "text": [
      "0.300000\n"
     ]
    }
   ],
   "source": [
    "#trivial addition of real numbers\n",
    "print(\"%f\" % (0.1+0.2))"
   ]
  },
  {
   "cell_type": "code",
   "execution_count": 37,
   "id": "f8d19186",
   "metadata": {},
   "outputs": [
    {
     "name": "stdout",
     "output_type": "stream",
     "text": [
      "0.300000000000000044\n"
     ]
    }
   ],
   "source": [
    "#but let's increase the accuracy\n",
    "print(\"%.18f\" % (0.1+0.2))"
   ]
  },
  {
   "cell_type": "markdown",
   "id": "d57a654d",
   "metadata": {},
   "source": [
    "When we asked to output the result with an accuracy of 18 decimal places, incomprehensible significant digits at the end came from somewhere. This is due to the fact that computers use\n",
    "a binary number system, and in it numbers like 0.1 are written as an infinite\n",
    "periodic fraction and cannot be represented as a finite fraction. During arithmetic\n",
    "operations, rounding errors occur, which lead to such effects.\n",
    "\n",
    "Sometimes these effects become dangerous. Do you think 0.1 + 0.2 is 0.3?"
   ]
  },
  {
   "cell_type": "code",
   "execution_count": 38,
   "id": "14e27ac6",
   "metadata": {},
   "outputs": [
    {
     "data": {
      "text/plain": [
       "False"
      ]
     },
     "execution_count": 38,
     "metadata": {},
     "output_type": "execute_result"
    }
   ],
   "source": [
    "#Your computer has a different opinion on this\n",
    "0.1 + 0.2 == 0.3\n"
   ]
  },
  {
   "cell_type": "markdown",
   "id": "7ba81e0e",
   "metadata": {},
   "source": [
    "However, do not despair: you can use ordinary fractions or a special\n",
    "decimal module to work with decimals."
   ]
  },
  {
   "cell_type": "code",
   "execution_count": 39,
   "id": "e2b89b62",
   "metadata": {},
   "outputs": [
    {
     "data": {
      "text/plain": [
       "Fraction(3, 10)"
      ]
     },
     "execution_count": 39,
     "metadata": {},
     "output_type": "execute_result"
    }
   ],
   "source": [
    "from fractions import Fraction\n",
    "#use of ordinary fractions\n",
    "Fraction(1, 10) + Fraction(2, 10)"
   ]
  },
  {
   "cell_type": "code",
   "execution_count": 40,
   "id": "adb27299",
   "metadata": {},
   "outputs": [
    {
     "data": {
      "text/plain": [
       "Fraction(5, 6)"
      ]
     },
     "execution_count": 40,
     "metadata": {},
     "output_type": "execute_result"
    }
   ],
   "source": [
    "#use of ordinary fractions\n",
    "Fraction(1, 3) + Fraction(1,2)"
   ]
  },
  {
   "cell_type": "code",
   "execution_count": 41,
   "id": "eabcc3f5",
   "metadata": {},
   "outputs": [
    {
     "data": {
      "text/plain": [
       "Decimal('0.3')"
      ]
     },
     "execution_count": 41,
     "metadata": {},
     "output_type": "execute_result"
    }
   ],
   "source": [
    "from decimal import Decimal\n",
    "#using a special decimal module to work with decimals\n",
    "Decimal(\"0.1\")+Decimal(\"0.2\")"
   ]
  },
  {
   "cell_type": "code",
   "execution_count": 42,
   "id": "bb8145d0",
   "metadata": {},
   "outputs": [
    {
     "data": {
      "text/plain": [
       "True"
      ]
     },
     "execution_count": 42,
     "metadata": {},
     "output_type": "execute_result"
    }
   ],
   "source": [
    "#using a special decimal module to work with decimals\n",
    "Decimal(\"0.1\") + Decimal(\"0.2\") == Decimal(\"0.3\")"
   ]
  }
 ],
 "metadata": {
  "kernelspec": {
   "display_name": "Python 3 (ipykernel)",
   "language": "python",
   "name": "python3"
  },
  "language_info": {
   "codemirror_mode": {
    "name": "ipython",
    "version": 3
   },
   "file_extension": ".py",
   "mimetype": "text/x-python",
   "name": "python",
   "nbconvert_exporter": "python",
   "pygments_lexer": "ipython3",
   "version": "3.9.13"
  }
 },
 "nbformat": 4,
 "nbformat_minor": 5
}
