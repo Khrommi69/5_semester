{
 "cells": [
  {
   "cell_type": "markdown",
   "id": "d4611fc9",
   "metadata": {},
   "source": [
    "# Notebook №6. Information systems"
   ]
  },
  {
   "cell_type": "markdown",
   "id": "ed67ba95",
   "metadata": {},
   "source": [
    "by a student of the IS-20-1 group, Khromenko Danil.\n",
    "<br>"
   ]
  },
  {
   "cell_type": "markdown",
   "id": "03c12ea8",
   "metadata": {},
   "source": [
    "## Python programming for data collection and analysis"
   ]
  },
  {
   "cell_type": "markdown",
   "id": "0ca3e8d9",
   "metadata": {},
   "source": [
    "### Sorting. Formatting strings"
   ]
  },
  {
   "cell_type": "markdown",
   "id": "310dc824",
   "metadata": {},
   "source": [
    "****kwargs**"
   ]
  },
  {
   "cell_type": "markdown",
   "id": "576eadeb",
   "metadata": {},
   "source": [
    "Let's talk about one method of passing arguments to a function using dictionaries. Recall two\n",
    "ways of passing arguments:"
   ]
  },
  {
   "cell_type": "code",
   "execution_count": 1,
   "id": "3349dd21",
   "metadata": {},
   "outputs": [],
   "source": [
    "#definition of the function that outputs x and y\n",
    "def myfunc(x=0, y=1):\n",
    "     print(\"x =\", x)\n",
    "     print(\"y =\", y)"
   ]
  },
  {
   "cell_type": "code",
   "execution_count": 2,
   "id": "79cd6be5",
   "metadata": {},
   "outputs": [
    {
     "name": "stdout",
     "output_type": "stream",
     "text": [
      "x = 12\n",
      "y = 19\n"
     ]
    }
   ],
   "source": [
    "#the first method of passing arguments\n",
    "myfunc(12,19)"
   ]
  },
  {
   "cell_type": "code",
   "execution_count": 3,
   "id": "067988cf",
   "metadata": {},
   "outputs": [
    {
     "name": "stdout",
     "output_type": "stream",
     "text": [
      "x = 5\n",
      "y = 2\n"
     ]
    }
   ],
   "source": [
    "#the second method of passing arguments\n",
    "myfunc(y=2, x=5)"
   ]
  },
  {
   "cell_type": "code",
   "execution_count": null,
   "id": "65d8daba",
   "metadata": {},
   "outputs": [],
   "source": []
  }
 ],
 "metadata": {
  "kernelspec": {
   "display_name": "Python 3 (ipykernel)",
   "language": "python",
   "name": "python3"
  },
  "language_info": {
   "codemirror_mode": {
    "name": "ipython",
    "version": 3
   },
   "file_extension": ".py",
   "mimetype": "text/x-python",
   "name": "python",
   "nbconvert_exporter": "python",
   "pygments_lexer": "ipython3",
   "version": "3.9.13"
  }
 },
 "nbformat": 4,
 "nbformat_minor": 5
}
