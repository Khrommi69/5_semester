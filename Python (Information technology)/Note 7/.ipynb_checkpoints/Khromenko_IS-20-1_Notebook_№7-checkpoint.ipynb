{
 "cells": [
  {
   "cell_type": "markdown",
   "id": "d4611fc9",
   "metadata": {},
   "source": [
    "# Notebook №7. Information systems"
   ]
  },
  {
   "cell_type": "markdown",
   "id": "ed67ba95",
   "metadata": {},
   "source": [
    "by a student of the IS-20-1 group, Khromenko Danil.\n",
    "<br>"
   ]
  },
  {
   "cell_type": "markdown",
   "id": "03c12ea8",
   "metadata": {},
   "source": [
    "### Features of working with mutable data types"
   ]
  },
  {
   "cell_type": "markdown",
   "id": "8e4a2357",
   "metadata": {},
   "source": [
    "To begin with, I would like to discuss some subtleties when working with lists, dictionaries and other mutable data types. Consider a simple example of a function call."
   ]
  },
  {
   "cell_type": "code",
   "execution_count": 4,
   "id": "27afb973",
   "metadata": {},
   "outputs": [],
   "source": [
    "#simple function definition\n",
    "#this function increments its argument by one and returns what happened\n",
    "def my_func(x):\n",
    "    x = x + 1\n",
    "    return x"
   ]
  },
  {
   "cell_type": "code",
   "execution_count": 5,
   "id": "915fcb50",
   "metadata": {},
   "outputs": [
    {
     "name": "stdout",
     "output_type": "stream",
     "text": [
      "Function returns 6\n",
      "y = 5\n"
     ]
    }
   ],
   "source": [
    "#behavior of a variable before during and after calling a function with this variable\n",
    "y = 5\n",
    "print(\"Function returns\", my_func(y))\n",
    "print(\"y =\", y)"
   ]
  },
  {
   "cell_type": "markdown",
   "id": "332469fd",
   "metadata": {},
   "source": [
    "Nothing unexpected. The function did not change the variable y and should not have done so. Let's now try to do something similar with the list."
   ]
  },
  {
   "cell_type": "code",
   "execution_count": 6,
   "id": "17313473",
   "metadata": {},
   "outputs": [],
   "source": [
    "#simple definition of a function for working with a list\n",
    "def other_func(my_list):\n",
    "    #adding a unit to the end of the list\n",
    "    my_list.append(1)\n",
    "    return my_list"
   ]
  },
  {
   "cell_type": "code",
   "execution_count": 7,
   "id": "9a1e7a57",
   "metadata": {},
   "outputs": [
    {
     "name": "stdout",
     "output_type": "stream",
     "text": [
      "this_list before function: [6, 9, 33]\n",
      "function returns: [6, 9, 33, 1]\n",
      "this_list after function: [6, 9, 33, 1]\n"
     ]
    }
   ],
   "source": [
    "#creating a list\n",
    "this_list = [6, 9, 33]\n",
    "#list before working with the function\n",
    "print(\"this_list before function:\", this_list)\n",
    "#the result of the function with a list\n",
    "print(\"function returns:\", other_func(this_list))\n",
    "#list after working with the function\n",
    "print(\"this_list after function:\", this_list)"
   ]
  },
  {
   "cell_type": "markdown",
   "id": "ba3e86f2",
   "metadata": {},
   "source": [
    "Oh. Something strange happened. The other_func function modified the list that was passed to it, although it was created outside of this function and was not defined as global inside the function (and in general, work was done with another variable inside the function).\n",
    "\n",
    "Why did this happen? To understand this issue, the easiest way is to look at the visualization."
   ]
  },
  {
   "cell_type": "code",
   "execution_count": 8,
   "id": "54ffac7e",
   "metadata": {},
   "outputs": [
    {
     "ename": "ModuleNotFoundError",
     "evalue": "No module named 'tutormagic'",
     "output_type": "error",
     "traceback": [
      "\u001b[1;31m---------------------------------------------------------------------------\u001b[0m",
      "\u001b[1;31mModuleNotFoundError\u001b[0m                       Traceback (most recent call last)",
      "\u001b[1;32m~\\AppData\\Local\\Temp\\ipykernel_8304\\992864131.py\u001b[0m in \u001b[0;36m<module>\u001b[1;34m\u001b[0m\n\u001b[1;32m----> 1\u001b[1;33m \u001b[0mget_ipython\u001b[0m\u001b[1;33m(\u001b[0m\u001b[1;33m)\u001b[0m\u001b[1;33m.\u001b[0m\u001b[0mrun_line_magic\u001b[0m\u001b[1;33m(\u001b[0m\u001b[1;34m'load_ext'\u001b[0m\u001b[1;33m,\u001b[0m \u001b[1;34m'tutormagic'\u001b[0m\u001b[1;33m)\u001b[0m\u001b[1;33m\u001b[0m\u001b[1;33m\u001b[0m\u001b[0m\n\u001b[0m",
      "\u001b[1;32m~\\anaconda3\\lib\\site-packages\\IPython\\core\\interactiveshell.py\u001b[0m in \u001b[0;36mrun_line_magic\u001b[1;34m(self, magic_name, line, _stack_depth)\u001b[0m\n\u001b[0;32m   2362\u001b[0m                 \u001b[0mkwargs\u001b[0m\u001b[1;33m[\u001b[0m\u001b[1;34m'local_ns'\u001b[0m\u001b[1;33m]\u001b[0m \u001b[1;33m=\u001b[0m \u001b[0mself\u001b[0m\u001b[1;33m.\u001b[0m\u001b[0mget_local_scope\u001b[0m\u001b[1;33m(\u001b[0m\u001b[0mstack_depth\u001b[0m\u001b[1;33m)\u001b[0m\u001b[1;33m\u001b[0m\u001b[1;33m\u001b[0m\u001b[0m\n\u001b[0;32m   2363\u001b[0m             \u001b[1;32mwith\u001b[0m \u001b[0mself\u001b[0m\u001b[1;33m.\u001b[0m\u001b[0mbuiltin_trap\u001b[0m\u001b[1;33m:\u001b[0m\u001b[1;33m\u001b[0m\u001b[1;33m\u001b[0m\u001b[0m\n\u001b[1;32m-> 2364\u001b[1;33m                 \u001b[0mresult\u001b[0m \u001b[1;33m=\u001b[0m \u001b[0mfn\u001b[0m\u001b[1;33m(\u001b[0m\u001b[1;33m*\u001b[0m\u001b[0margs\u001b[0m\u001b[1;33m,\u001b[0m \u001b[1;33m**\u001b[0m\u001b[0mkwargs\u001b[0m\u001b[1;33m)\u001b[0m\u001b[1;33m\u001b[0m\u001b[1;33m\u001b[0m\u001b[0m\n\u001b[0m\u001b[0;32m   2365\u001b[0m             \u001b[1;32mreturn\u001b[0m \u001b[0mresult\u001b[0m\u001b[1;33m\u001b[0m\u001b[1;33m\u001b[0m\u001b[0m\n\u001b[0;32m   2366\u001b[0m \u001b[1;33m\u001b[0m\u001b[0m\n",
      "\u001b[1;32m~\\anaconda3\\lib\\site-packages\\decorator.py\u001b[0m in \u001b[0;36mfun\u001b[1;34m(*args, **kw)\u001b[0m\n\u001b[0;32m    230\u001b[0m             \u001b[1;32mif\u001b[0m \u001b[1;32mnot\u001b[0m \u001b[0mkwsyntax\u001b[0m\u001b[1;33m:\u001b[0m\u001b[1;33m\u001b[0m\u001b[1;33m\u001b[0m\u001b[0m\n\u001b[0;32m    231\u001b[0m                 \u001b[0margs\u001b[0m\u001b[1;33m,\u001b[0m \u001b[0mkw\u001b[0m \u001b[1;33m=\u001b[0m \u001b[0mfix\u001b[0m\u001b[1;33m(\u001b[0m\u001b[0margs\u001b[0m\u001b[1;33m,\u001b[0m \u001b[0mkw\u001b[0m\u001b[1;33m,\u001b[0m \u001b[0msig\u001b[0m\u001b[1;33m)\u001b[0m\u001b[1;33m\u001b[0m\u001b[1;33m\u001b[0m\u001b[0m\n\u001b[1;32m--> 232\u001b[1;33m             \u001b[1;32mreturn\u001b[0m \u001b[0mcaller\u001b[0m\u001b[1;33m(\u001b[0m\u001b[0mfunc\u001b[0m\u001b[1;33m,\u001b[0m \u001b[1;33m*\u001b[0m\u001b[1;33m(\u001b[0m\u001b[0mextras\u001b[0m \u001b[1;33m+\u001b[0m \u001b[0margs\u001b[0m\u001b[1;33m)\u001b[0m\u001b[1;33m,\u001b[0m \u001b[1;33m**\u001b[0m\u001b[0mkw\u001b[0m\u001b[1;33m)\u001b[0m\u001b[1;33m\u001b[0m\u001b[1;33m\u001b[0m\u001b[0m\n\u001b[0m\u001b[0;32m    233\u001b[0m     \u001b[0mfun\u001b[0m\u001b[1;33m.\u001b[0m\u001b[0m__name__\u001b[0m \u001b[1;33m=\u001b[0m \u001b[0mfunc\u001b[0m\u001b[1;33m.\u001b[0m\u001b[0m__name__\u001b[0m\u001b[1;33m\u001b[0m\u001b[1;33m\u001b[0m\u001b[0m\n\u001b[0;32m    234\u001b[0m     \u001b[0mfun\u001b[0m\u001b[1;33m.\u001b[0m\u001b[0m__doc__\u001b[0m \u001b[1;33m=\u001b[0m \u001b[0mfunc\u001b[0m\u001b[1;33m.\u001b[0m\u001b[0m__doc__\u001b[0m\u001b[1;33m\u001b[0m\u001b[1;33m\u001b[0m\u001b[0m\n",
      "\u001b[1;32m~\\anaconda3\\lib\\site-packages\\IPython\\core\\magic.py\u001b[0m in \u001b[0;36m<lambda>\u001b[1;34m(f, *a, **k)\u001b[0m\n\u001b[0;32m    185\u001b[0m     \u001b[1;31m# but it's overkill for just that one bit of state.\u001b[0m\u001b[1;33m\u001b[0m\u001b[1;33m\u001b[0m\u001b[0m\n\u001b[0;32m    186\u001b[0m     \u001b[1;32mdef\u001b[0m \u001b[0mmagic_deco\u001b[0m\u001b[1;33m(\u001b[0m\u001b[0marg\u001b[0m\u001b[1;33m)\u001b[0m\u001b[1;33m:\u001b[0m\u001b[1;33m\u001b[0m\u001b[1;33m\u001b[0m\u001b[0m\n\u001b[1;32m--> 187\u001b[1;33m         \u001b[0mcall\u001b[0m \u001b[1;33m=\u001b[0m \u001b[1;32mlambda\u001b[0m \u001b[0mf\u001b[0m\u001b[1;33m,\u001b[0m \u001b[1;33m*\u001b[0m\u001b[0ma\u001b[0m\u001b[1;33m,\u001b[0m \u001b[1;33m**\u001b[0m\u001b[0mk\u001b[0m\u001b[1;33m:\u001b[0m \u001b[0mf\u001b[0m\u001b[1;33m(\u001b[0m\u001b[1;33m*\u001b[0m\u001b[0ma\u001b[0m\u001b[1;33m,\u001b[0m \u001b[1;33m**\u001b[0m\u001b[0mk\u001b[0m\u001b[1;33m)\u001b[0m\u001b[1;33m\u001b[0m\u001b[1;33m\u001b[0m\u001b[0m\n\u001b[0m\u001b[0;32m    188\u001b[0m \u001b[1;33m\u001b[0m\u001b[0m\n\u001b[0;32m    189\u001b[0m         \u001b[1;32mif\u001b[0m \u001b[0mcallable\u001b[0m\u001b[1;33m(\u001b[0m\u001b[0marg\u001b[0m\u001b[1;33m)\u001b[0m\u001b[1;33m:\u001b[0m\u001b[1;33m\u001b[0m\u001b[1;33m\u001b[0m\u001b[0m\n",
      "\u001b[1;32m~\\anaconda3\\lib\\site-packages\\IPython\\core\\magics\\extension.py\u001b[0m in \u001b[0;36mload_ext\u001b[1;34m(self, module_str)\u001b[0m\n\u001b[0;32m     31\u001b[0m         \u001b[1;32mif\u001b[0m \u001b[1;32mnot\u001b[0m \u001b[0mmodule_str\u001b[0m\u001b[1;33m:\u001b[0m\u001b[1;33m\u001b[0m\u001b[1;33m\u001b[0m\u001b[0m\n\u001b[0;32m     32\u001b[0m             \u001b[1;32mraise\u001b[0m \u001b[0mUsageError\u001b[0m\u001b[1;33m(\u001b[0m\u001b[1;34m'Missing module name.'\u001b[0m\u001b[1;33m)\u001b[0m\u001b[1;33m\u001b[0m\u001b[1;33m\u001b[0m\u001b[0m\n\u001b[1;32m---> 33\u001b[1;33m         \u001b[0mres\u001b[0m \u001b[1;33m=\u001b[0m \u001b[0mself\u001b[0m\u001b[1;33m.\u001b[0m\u001b[0mshell\u001b[0m\u001b[1;33m.\u001b[0m\u001b[0mextension_manager\u001b[0m\u001b[1;33m.\u001b[0m\u001b[0mload_extension\u001b[0m\u001b[1;33m(\u001b[0m\u001b[0mmodule_str\u001b[0m\u001b[1;33m)\u001b[0m\u001b[1;33m\u001b[0m\u001b[1;33m\u001b[0m\u001b[0m\n\u001b[0m\u001b[0;32m     34\u001b[0m \u001b[1;33m\u001b[0m\u001b[0m\n\u001b[0;32m     35\u001b[0m         \u001b[1;32mif\u001b[0m \u001b[0mres\u001b[0m \u001b[1;33m==\u001b[0m \u001b[1;34m'already loaded'\u001b[0m\u001b[1;33m:\u001b[0m\u001b[1;33m\u001b[0m\u001b[1;33m\u001b[0m\u001b[0m\n",
      "\u001b[1;32m~\\anaconda3\\lib\\site-packages\\IPython\\core\\extensions.py\u001b[0m in \u001b[0;36mload_extension\u001b[1;34m(self, module_str)\u001b[0m\n\u001b[0;32m     78\u001b[0m             \u001b[1;32mif\u001b[0m \u001b[0mmodule_str\u001b[0m \u001b[1;32mnot\u001b[0m \u001b[1;32min\u001b[0m \u001b[0msys\u001b[0m\u001b[1;33m.\u001b[0m\u001b[0mmodules\u001b[0m\u001b[1;33m:\u001b[0m\u001b[1;33m\u001b[0m\u001b[1;33m\u001b[0m\u001b[0m\n\u001b[0;32m     79\u001b[0m                 \u001b[1;32mwith\u001b[0m \u001b[0mprepended_to_syspath\u001b[0m\u001b[1;33m(\u001b[0m\u001b[0mself\u001b[0m\u001b[1;33m.\u001b[0m\u001b[0mipython_extension_dir\u001b[0m\u001b[1;33m)\u001b[0m\u001b[1;33m:\u001b[0m\u001b[1;33m\u001b[0m\u001b[1;33m\u001b[0m\u001b[0m\n\u001b[1;32m---> 80\u001b[1;33m                     \u001b[0mmod\u001b[0m \u001b[1;33m=\u001b[0m \u001b[0mimport_module\u001b[0m\u001b[1;33m(\u001b[0m\u001b[0mmodule_str\u001b[0m\u001b[1;33m)\u001b[0m\u001b[1;33m\u001b[0m\u001b[1;33m\u001b[0m\u001b[0m\n\u001b[0m\u001b[0;32m     81\u001b[0m                     \u001b[1;32mif\u001b[0m \u001b[0mmod\u001b[0m\u001b[1;33m.\u001b[0m\u001b[0m__file__\u001b[0m\u001b[1;33m.\u001b[0m\u001b[0mstartswith\u001b[0m\u001b[1;33m(\u001b[0m\u001b[0mself\u001b[0m\u001b[1;33m.\u001b[0m\u001b[0mipython_extension_dir\u001b[0m\u001b[1;33m)\u001b[0m\u001b[1;33m:\u001b[0m\u001b[1;33m\u001b[0m\u001b[1;33m\u001b[0m\u001b[0m\n\u001b[0;32m     82\u001b[0m                         print((\"Loading extensions from {dir} is deprecated. \"\n",
      "\u001b[1;32m~\\anaconda3\\lib\\importlib\\__init__.py\u001b[0m in \u001b[0;36mimport_module\u001b[1;34m(name, package)\u001b[0m\n\u001b[0;32m    125\u001b[0m                 \u001b[1;32mbreak\u001b[0m\u001b[1;33m\u001b[0m\u001b[1;33m\u001b[0m\u001b[0m\n\u001b[0;32m    126\u001b[0m             \u001b[0mlevel\u001b[0m \u001b[1;33m+=\u001b[0m \u001b[1;36m1\u001b[0m\u001b[1;33m\u001b[0m\u001b[1;33m\u001b[0m\u001b[0m\n\u001b[1;32m--> 127\u001b[1;33m     \u001b[1;32mreturn\u001b[0m \u001b[0m_bootstrap\u001b[0m\u001b[1;33m.\u001b[0m\u001b[0m_gcd_import\u001b[0m\u001b[1;33m(\u001b[0m\u001b[0mname\u001b[0m\u001b[1;33m[\u001b[0m\u001b[0mlevel\u001b[0m\u001b[1;33m:\u001b[0m\u001b[1;33m]\u001b[0m\u001b[1;33m,\u001b[0m \u001b[0mpackage\u001b[0m\u001b[1;33m,\u001b[0m \u001b[0mlevel\u001b[0m\u001b[1;33m)\u001b[0m\u001b[1;33m\u001b[0m\u001b[1;33m\u001b[0m\u001b[0m\n\u001b[0m\u001b[0;32m    128\u001b[0m \u001b[1;33m\u001b[0m\u001b[0m\n\u001b[0;32m    129\u001b[0m \u001b[1;33m\u001b[0m\u001b[0m\n",
      "\u001b[1;32m~\\anaconda3\\lib\\importlib\\_bootstrap.py\u001b[0m in \u001b[0;36m_gcd_import\u001b[1;34m(name, package, level)\u001b[0m\n",
      "\u001b[1;32m~\\anaconda3\\lib\\importlib\\_bootstrap.py\u001b[0m in \u001b[0;36m_find_and_load\u001b[1;34m(name, import_)\u001b[0m\n",
      "\u001b[1;32m~\\anaconda3\\lib\\importlib\\_bootstrap.py\u001b[0m in \u001b[0;36m_find_and_load_unlocked\u001b[1;34m(name, import_)\u001b[0m\n",
      "\u001b[1;31mModuleNotFoundError\u001b[0m: No module named 'tutormagic'"
     ]
    }
   ],
   "source": [
    "%load_ext tutormagic"
   ]
  },
  {
   "cell_type": "code",
   "execution_count": 9,
   "id": "3fa2ffca",
   "metadata": {},
   "outputs": [
    {
     "name": "stderr",
     "output_type": "stream",
     "text": [
      "UsageError: Cell magic `%%tutor` not found.\n"
     ]
    }
   ],
   "source": [
    "%%tutor --lang python3\n",
    "#visualization of the previous code\n",
    "def other_func(my_list):\n",
    "    my_list.append(1)\n",
    "    return my_list\n",
    "this_list = [6, 9, 33]\n",
    "other_func(this_list)"
   ]
  },
  {
   "cell_type": "markdown",
   "id": "ca21a1ae",
   "metadata": {},
   "source": [
    "### Two sorts"
   ]
  },
  {
   "cell_type": "markdown",
   "id": "5a06d39f",
   "metadata": {},
   "source": [
    "Let's look at two more examples that show the difference between these two scenarios — they will again involve lists. Let's perform two visualizations and find out what the difference is."
   ]
  },
  {
   "cell_type": "code",
   "execution_count": 10,
   "id": "baf497be",
   "metadata": {},
   "outputs": [
    {
     "name": "stderr",
     "output_type": "stream",
     "text": [
      "UsageError: Cell magic `%%tutor` not found.\n"
     ]
    }
   ],
   "source": [
    "%%tutor --lang python3\n",
    "#sorting with \"sorted\"\n",
    "def return_sorted(my_list):\n",
    "    my_list = sorted(my_list)\n",
    "    return my_list\n",
    "this_list = [33, 1, 55]\n",
    "print(\"this_list before function:\", this_list)\n",
    "print(\"function returned:\", return_sorted(this_list))\n",
    "print(\"this_list after function:\", this_list)"
   ]
  },
  {
   "cell_type": "code",
   "execution_count": 11,
   "id": "6e17fdf9",
   "metadata": {},
   "outputs": [
    {
     "name": "stderr",
     "output_type": "stream",
     "text": [
      "UsageError: Cell magic `%%tutor` not found.\n"
     ]
    }
   ],
   "source": [
    "%%tutor --lang python3\n",
    "#sorting with \".sort\"\n",
    "def sort_and_return(my_list):\n",
    "    my_list.sort()\n",
    "    return my_list\n",
    "this_list = [33, 1, 55]\n",
    "print(\"this_list before function:\", this_list)\n",
    "print(\"function returned:\", sort_and_return(this_list))\n",
    "print(\"this_list after function:\", this_list)"
   ]
  },
  {
   "cell_type": "markdown",
   "id": "3315e3c6",
   "metadata": {},
   "source": [
    "So, what's the difference?\n",
    "\n",
    "The return_sorted() and sort_and_return() functions do about the same job: they take a list as input, sort it, and return it. At the moment when the function is entered (Step 5), the situation in both fragments is identical: there is a variable outside the function this_list , inside the function there is a variable my_list , they both point to the same list. The key difference occurs in the next step. The return_sorted() function uses the sorted() function to create a new list. Then it assigns ( = ) the result of the sorted() execution the my_list variable . This leads to the fact that a variable with this name begins to refer to a new object (Step 7), and the old one (which is still referenced by this_list) remains intact. sort_and_return() works quite differently — it uses the sort() method, which sorts the list in place, inside itself. In this case, a new object is not created, the assignment operation is not used and the variable my_list continues to refer to the same list as before. It just turns out to be sorted.\n",
    "\n",
    "Note the similarity of return_sorted() and my_func() from the example above: in both cases, the assignment operator is used. The difference is that it was impossible to do anything else with a numeric variable, since numbers are immutable, and in the case of a list, the developer has a choice: you can create a new object and assign it to an old variable, or you can change an existing object without creating a new one."
   ]
  },
  {
   "cell_type": "markdown",
   "id": "495da020",
   "metadata": {},
   "source": [
    "### Creating a copy"
   ]
  },
  {
   "cell_type": "markdown",
   "id": "b3bacf24",
   "metadata": {},
   "source": [
    "Suppose now that we want to write a function that accepts a list as input,\n",
    "returns the same list, but with one added element, and does not change the original list itself.\n",
    "This can be done, for example, like this:"
   ]
  },
  {
   "cell_type": "code",
   "execution_count": 9,
   "id": "78831215",
   "metadata": {},
   "outputs": [],
   "source": [
    "#the function adds an item to the list without changing the original one.\n",
    "def return_append(L, a):\n",
    "    new_L = L.copy()\n",
    "    new_L.append(a)\n",
    "    return new_L"
   ]
  },
  {
   "cell_type": "code",
   "execution_count": 10,
   "id": "c8197f22",
   "metadata": {},
   "outputs": [
    {
     "name": "stdout",
     "output_type": "stream",
     "text": [
      "outer_list before funciton [7, 54, 69]\n",
      "function returned [7, 54, 69, 55]\n",
      "outer_list after function [7, 54, 69]\n"
     ]
    }
   ],
   "source": [
    "#creating a list\n",
    "outer_list = [7, 54, 69]\n",
    "#list before working with the function\n",
    "print(\"outer_list before funciton\", outer_list)\n",
    "#the result of the function with a list\n",
    "print(\"function returned\", return_append(outer_list, 55))\n",
    "#list after working with the function\n",
    "print(\"outer_list after function\", outer_list)"
   ]
  },
  {
   "cell_type": "markdown",
   "id": "4dca19b3",
   "metadata": {},
   "source": [
    "Here the main trick is to use L.copy() — recall that this method creates a copy\n",
    "of an existing list. Then we perform the assignment operation again (that is, now new_Line\n",
    "is the name for a copy of the list L, and not for the list L itself) and we can do anything with this new\n",
    "list new_L. The old list will not change."
   ]
  },
  {
   "cell_type": "markdown",
   "id": "a5da9553",
   "metadata": {},
   "source": [
    "### Not just function calls"
   ]
  },
  {
   "cell_type": "markdown",
   "id": "c1ca7c12",
   "metadata": {},
   "source": [
    "Problems similar to those discussed above arise not only when calling functions. Let's start with\n",
    "a simple example with a loop."
   ]
  },
  {
   "cell_type": "code",
   "execution_count": 11,
   "id": "4ec5bdbe",
   "metadata": {},
   "outputs": [
    {
     "name": "stdout",
     "output_type": "stream",
     "text": [
      "[7, 9, 11]\n"
     ]
    }
   ],
   "source": [
    "some_list = [7, 9, 11]\n",
    "#attempt to change the list in a loop\n",
    "for x in some_list:\n",
    "    x = x + 1\n",
    "print(some_list)"
   ]
  },
  {
   "cell_type": "markdown",
   "id": "3d2ebaf0",
   "metadata": {},
   "source": [
    "The list of some_list has not changed, and this is not surprising. But let's now look\n",
    "at a slightly more complicated situation with a list of lists."
   ]
  },
  {
   "cell_type": "code",
   "execution_count": 12,
   "id": "964da7e2",
   "metadata": {},
   "outputs": [
    {
     "name": "stdout",
     "output_type": "stream",
     "text": [
      "[[1, 5, 77], [7, 9, 77]]\n"
     ]
    }
   ],
   "source": [
    "table = [[1, 5], [7, 9]]\n",
    "for row in table:\n",
    "    row.append(77)\n",
    "print(table)"
   ]
  },
  {
   "cell_type": "markdown",
   "id": "e71317c3",
   "metadata": {},
   "source": [
    "And again, \"oh.\" What happened? Let's look at the visualizer."
   ]
  },
  {
   "cell_type": "code",
   "execution_count": 13,
   "id": "aef5083a",
   "metadata": {},
   "outputs": [
    {
     "data": {
      "text/html": [
       "\n",
       "        <iframe\n",
       "            width=\"100%\"\n",
       "            height=\"350\"\n",
       "            src=\"http://pythontutor.com/iframe-embed.html#code=table%20%3D%20%5B%5B1%2C%205%5D%2C%20%5B7%2C%209%5D%5D%0Afor%20row%20in%20table%3A%0A%20%20%20%20row.append%2877%29%0Aprint%28table%29%0A&origin=opt-frontend.js&cumulative=false&heapPrimitives=false&textReferences=false&curInstr=0&&verticalStack=false&py=3&rawInputLstJSON=%5B%5D&codeDivWidth=50%25&codeDivHeight=100%25\"\n",
       "            frameborder=\"0\"\n",
       "            allowfullscreen\n",
       "            \n",
       "        ></iframe>\n",
       "        "
      ],
      "text/plain": [
       "<IPython.lib.display.IFrame at 0x1ce8922ba30>"
      ]
     },
     "metadata": {},
     "output_type": "display_data"
    }
   ],
   "source": [
    "%%tutor --lang python3\n",
    "table = [[1, 5], [7, 9]]\n",
    "for row in table:\n",
    "    row.append(77)\n",
    "print(table)"
   ]
  },
  {
   "cell_type": "markdown",
   "id": "73658afc",
   "metadata": {},
   "source": [
    "When executing the first step of the loop (Step 3), the first element of the table list is written to the row variable. However, this element itself is a list — or rather, a link to the list. In the next step (Step 4), item 77 is added to this list. Then row becomes a reference to the second element of the table list . Element 77 is also added to it.\n",
    "\n",
    "Pay attention to the parallel with the previous plot: here, too, a call to the list method is involved,\n",
    "which changes this list in place."
   ]
  },
  {
   "cell_type": "markdown",
   "id": "7990c48f",
   "metadata": {},
   "source": [
    "### Puzzle"
   ]
  },
  {
   "cell_type": "markdown",
   "id": "296866bb",
   "metadata": {},
   "source": [
    "Let's run the following code and try to explain it."
   ]
  },
  {
   "cell_type": "code",
   "execution_count": 14,
   "id": "bb6315c1",
   "metadata": {},
   "outputs": [
    {
     "name": "stdout",
     "output_type": "stream",
     "text": [
      "[[1], [1], [1], [1], [1]]\n"
     ]
    }
   ],
   "source": [
    "#a list is created containing another list, and then 4 more lists (*5) are created and point to the first list\n",
    "A = [[]]*5\n",
    "#the unit is added to the first list of the list\n",
    "#do not forget that sublists 1-4 refer to the null list\n",
    "A[0].append(1)\n",
    "#list output\n",
    "print(A)"
   ]
  },
  {
   "cell_type": "markdown",
   "id": "416694d8",
   "metadata": {},
   "source": [
    "### Changing an iterated object in a loop"
   ]
  },
  {
   "cell_type": "markdown",
   "id": "9cc77adf",
   "metadata": {},
   "source": [
    "In the example above, we changed the contents of the \"internal\" lists, but the table list itself remained\n",
    "unchanged: the number of elements did not change in it and the elements remained links to the same\n",
    "row lists as before. Is it possible to change the list itself during iterations? It turns out you can.\n",
    "Although in most cases it is better not to do this. Before considering the example, let's recall\n",
    "how the pop() method works for a list:"
   ]
  },
  {
   "cell_type": "code",
   "execution_count": 15,
   "id": "2f126469",
   "metadata": {},
   "outputs": [
    {
     "name": "stdout",
     "output_type": "stream",
     "text": [
      "8\n",
      "[6, 9, 44]\n"
     ]
    }
   ],
   "source": [
    "#pop() removes the last item from the list and returns the same\n",
    "L = [6, 9, 44, 8]\n",
    "print(L.pop())\n",
    "print(L)"
   ]
  },
  {
   "cell_type": "code",
   "execution_count": 16,
   "id": "10a1cd9c",
   "metadata": {},
   "outputs": [
    {
     "name": "stdout",
     "output_type": "stream",
     "text": [
      "Pop element 10\n",
      "7\n",
      "Pop element 9\n",
      "8\n",
      "[7, 8]\n"
     ]
    }
   ],
   "source": [
    "#pop() list processing using a loop\n",
    "L = [7, 8, 9, 10]\n",
    "for x in L:\n",
    "    print(\"Pop element\", L.pop())\n",
    "    print(x)\n",
    "print(L)"
   ]
  },
  {
   "cell_type": "markdown",
   "id": "79c7d587",
   "metadata": {},
   "source": [
    "The loop is executed twice: by the time the loop finishes processing element 8, elements 9 and\n",
    "10 from the list will already be deleted, there will be no unprocessed elements in the list and the cycle\n",
    "will stop.\n",
    "\n",
    "You can guess what will happen only by studying the code very carefully. This means that the code is not\n",
    "very good: looking at good code, you can understand what it will do.\n",
    "    \n",
    "The situation is different with dictionaries."
   ]
  },
  {
   "cell_type": "code",
   "execution_count": 17,
   "id": "544b31a4",
   "metadata": {},
   "outputs": [
    {
     "name": "stdout",
     "output_type": "stream",
     "text": [
      "1 2\n"
     ]
    },
    {
     "ename": "RuntimeError",
     "evalue": "dictionary changed size during iteration",
     "output_type": "error",
     "traceback": [
      "\u001b[1;31m---------------------------------------------------------------------------\u001b[0m",
      "\u001b[1;31mRuntimeError\u001b[0m                              Traceback (most recent call last)",
      "\u001b[1;32m~\\AppData\\Local\\Temp\\ipykernel_8680\\87866476.py\u001b[0m in \u001b[0;36m<module>\u001b[1;34m\u001b[0m\n\u001b[0;32m      1\u001b[0m \u001b[1;31m#dictionary processing using the pop() method and a loop\u001b[0m\u001b[1;33m\u001b[0m\u001b[1;33m\u001b[0m\u001b[0m\n\u001b[0;32m      2\u001b[0m \u001b[0md\u001b[0m \u001b[1;33m=\u001b[0m \u001b[1;33m{\u001b[0m\u001b[1;36m1\u001b[0m\u001b[1;33m:\u001b[0m\u001b[1;36m2\u001b[0m\u001b[1;33m,\u001b[0m \u001b[1;36m3\u001b[0m\u001b[1;33m:\u001b[0m\u001b[1;36m4\u001b[0m\u001b[1;33m}\u001b[0m\u001b[1;33m\u001b[0m\u001b[1;33m\u001b[0m\u001b[0m\n\u001b[1;32m----> 3\u001b[1;33m \u001b[1;32mfor\u001b[0m \u001b[0mk\u001b[0m\u001b[1;33m,\u001b[0m \u001b[0mv\u001b[0m \u001b[1;32min\u001b[0m \u001b[0md\u001b[0m\u001b[1;33m.\u001b[0m\u001b[0mitems\u001b[0m\u001b[1;33m(\u001b[0m\u001b[1;33m)\u001b[0m\u001b[1;33m:\u001b[0m\u001b[1;33m\u001b[0m\u001b[1;33m\u001b[0m\u001b[0m\n\u001b[0m\u001b[0;32m      4\u001b[0m     \u001b[1;31m#An error occurs due to deleting a key from the list during its iteration\u001b[0m\u001b[1;33m\u001b[0m\u001b[1;33m\u001b[0m\u001b[0m\n\u001b[0;32m      5\u001b[0m     \u001b[1;32mdel\u001b[0m \u001b[0md\u001b[0m\u001b[1;33m[\u001b[0m\u001b[1;36m3\u001b[0m\u001b[1;33m]\u001b[0m\u001b[1;33m\u001b[0m\u001b[1;33m\u001b[0m\u001b[0m\n",
      "\u001b[1;31mRuntimeError\u001b[0m: dictionary changed size during iteration"
     ]
    }
   ],
   "source": [
    "#dictionary processing using the pop() method and a loop\n",
    "d = {1:2, 3:4}\n",
    "for k, v in d.items():\n",
    "    #An error occurs due to deleting a key from the list during its iteration\n",
    "    del d[3]\n",
    "    print(k, v)"
   ]
  },
  {
   "cell_type": "markdown",
   "id": "7b7f0630",
   "metadata": {},
   "source": [
    "Here the del d[3] command removes the element with key 3 from the dictionary. Since the iteration order\n",
    "of dictionary elements is not defined, no one knows how to correctly continue iterations after the dictionary size\n",
    "has been changed. Therefore, such an operation is prohibited."
   ]
  },
  {
   "cell_type": "markdown",
   "id": "da949650",
   "metadata": {},
   "source": [
    "However, this does not mean that it is forbidden to change the dictionary value when executing a loop. For example,\n",
    "we want to add the number 1 to all the values."
   ]
  },
  {
   "cell_type": "code",
   "execution_count": 18,
   "id": "6f2dc984",
   "metadata": {},
   "outputs": [
    {
     "name": "stdout",
     "output_type": "stream",
     "text": [
      "{1: 2, 3: 4}\n"
     ]
    }
   ],
   "source": [
    "#The following naive method is not expected to work\n",
    "d={1:2, 3:4}\n",
    "for k, v in d.items():\n",
    "    v = v + 1\n",
    "print(d)"
   ]
  },
  {
   "cell_type": "code",
   "execution_count": 19,
   "id": "57a72b78",
   "metadata": {},
   "outputs": [
    {
     "name": "stdout",
     "output_type": "stream",
     "text": [
      "{1: 3, 3: 5}\n"
     ]
    }
   ],
   "source": [
    "#In fact, this task should be solved like this\n",
    "d = {1:2, 3:4}\n",
    "for k in d:\n",
    "    d[k] = d[k] + 1\n",
    "print(d)"
   ]
  },
  {
   "cell_type": "markdown",
   "id": "3b34ab8d",
   "metadata": {},
   "source": [
    "### Sets"
   ]
  },
  {
   "cell_type": "markdown",
   "id": "42d50124",
   "metadata": {},
   "source": [
    "Another basic data type in Python is a set. It corresponds to the mathematical\n",
    "concept of a set — that is, a set of some elements. Each element may or may not be included in the\n",
    "set."
   ]
  },
  {
   "cell_type": "markdown",
   "id": "df4e6b6f",
   "metadata": {},
   "source": [
    "*If you are currently a student of our Python course, then you belong to a lot of listeners. You cannot be a \"double course listener\": each element can be included in the set only once.*"
   ]
  },
  {
   "cell_type": "code",
   "execution_count": 20,
   "id": "ee6d91a7",
   "metadata": {},
   "outputs": [],
   "source": [
    "#creating a set\n",
    "my_set = {6, 9, 11, 11, 9, 'hello'}"
   ]
  },
  {
   "cell_type": "code",
   "execution_count": 21,
   "id": "cb3ec715",
   "metadata": {},
   "outputs": [
    {
     "data": {
      "text/plain": [
       "{11, 6, 9, 'hello'}"
      ]
     },
     "execution_count": 21,
     "metadata": {},
     "output_type": "execute_result"
    }
   ],
   "source": [
    "#output of the set\n",
    "my_set"
   ]
  },
  {
   "cell_type": "markdown",
   "id": "0aa110d8",
   "metadata": {},
   "source": [
    "As can be seen from this simple example, the elements of the set are also not ordered."
   ]
  },
  {
   "cell_type": "code",
   "execution_count": 22,
   "id": "fc2c8c47",
   "metadata": {},
   "outputs": [
    {
     "data": {
      "text/plain": [
       "True"
      ]
     },
     "execution_count": 22,
     "metadata": {},
     "output_type": "execute_result"
    }
   ],
   "source": [
    "{6, 9, 11, 11, 9, 'hello'} == {9, 'hello', 11, 6}"
   ]
  },
  {
   "cell_type": "code",
   "execution_count": 23,
   "id": "0605e6cf",
   "metadata": {},
   "outputs": [
    {
     "data": {
      "text/plain": [
       "False"
      ]
     },
     "execution_count": 23,
     "metadata": {},
     "output_type": "execute_result"
    }
   ],
   "source": [
    "{6, 9, 11, 11, 9, 'hello'} == {9, 'hello', 6}"
   ]
  },
  {
   "cell_type": "code",
   "execution_count": 24,
   "id": "f66bd94a",
   "metadata": {},
   "outputs": [
    {
     "data": {
      "text/plain": [
       "True"
      ]
     },
     "execution_count": 24,
     "metadata": {},
     "output_type": "execute_result"
    }
   ],
   "source": [
    "{6, 9, 11, 11, 9, 'hello'} == {9, 'hello', 11, 6, 6, 6, 6, 6, 6}"
   ]
  },
  {
   "cell_type": "code",
   "execution_count": 25,
   "id": "1c5b7579",
   "metadata": {},
   "outputs": [
    {
     "name": "stdout",
     "output_type": "stream",
     "text": [
      "True\n",
      "False\n"
     ]
    }
   ],
   "source": [
    "#This is how you can check whether an element lies in the set\n",
    "print (9 in my_set)\n",
    "print (10 in my_set)"
   ]
  },
  {
   "cell_type": "markdown",
   "id": "8673530b",
   "metadata": {},
   "source": [
    "Of course, the in operator does not work only for sets. For example, 4 in [2, 4, 8, 10] will return\n",
    "True . However, for lists, this operation is slow — or rather, massive: the larger\n",
    "the list, the more comparison operations need to be performed to understand whether a\n",
    "particular element lies in it. In the case of sets, the time for checking practically does not increase with the increase\n",
    "in the number of elements of the set."
   ]
  },
  {
   "cell_type": "markdown",
   "id": "ba106b35",
   "metadata": {},
   "source": [
    "You can do different operations with sets — we are familiar with them in math courses.\n",
    "For example, the union and intersection of two sets gives a new set."
   ]
  },
  {
   "cell_type": "code",
   "execution_count": 26,
   "id": "30b5deda",
   "metadata": {},
   "outputs": [
    {
     "data": {
      "text/plain": [
       "{6, 7, 8, 9, 11}"
      ]
     },
     "execution_count": 26,
     "metadata": {},
     "output_type": "execute_result"
    }
   ],
   "source": [
    "#combining two sets\n",
    "{6, 8, 9} | {6, 11, 7}"
   ]
  },
  {
   "cell_type": "code",
   "execution_count": 27,
   "id": "8faff35a",
   "metadata": {},
   "outputs": [
    {
     "data": {
      "text/plain": [
       "{6}"
      ]
     },
     "execution_count": 27,
     "metadata": {},
     "output_type": "execute_result"
    }
   ],
   "source": [
    "#intersection of two sets\n",
    "{6, 8, 9} & {6, 11, 7}"
   ]
  },
  {
   "cell_type": "markdown",
   "id": "ddd07e31",
   "metadata": {},
   "source": [
    "*Note again: the order of the elements in the set is not defined. If you need\n",
    "to output the elements of a set in some predefined order, then you can\n",
    "turn it into a sorted list using the sorted() function.*"
   ]
  },
  {
   "cell_type": "code",
   "execution_count": 28,
   "id": "c0ba6ff3",
   "metadata": {},
   "outputs": [
    {
     "name": "stdout",
     "output_type": "stream",
     "text": [
      "{'Guest', 'Test', 'World', 'Hello', 'Zzzzz', 'Q', 'Zz', 'Aaaaa'}\n",
      "['Aaaaa', 'Guest', 'Hello', 'Q', 'Test', 'World', 'Zz', 'Zzzzz']\n"
     ]
    }
   ],
   "source": [
    "#creating a set\n",
    "s = {\"Hello\", \"World\", \"Aaaaa\", \"Test\", \"Guest\", \"Aaaaa\", \"Zzzzz\",\"Zz\",\"Q\"}\n",
    "#output of the set\n",
    "print(s)\n",
    "#tis is no longer a set, but a list: pay attention to the square brackets\n",
    "print(sorted(s))"
   ]
  },
  {
   "cell_type": "markdown",
   "id": "e8646e9f",
   "metadata": {},
   "source": [
    "### Example of using sets"
   ]
  },
  {
   "cell_type": "markdown",
   "id": "362f93ef",
   "metadata": {},
   "source": [
    "let's say we ask the user to enter a command, but we want to give him the opportunity to enter the\n",
    "same command in different ways. For example, to stop a program, the user can type\n",
    "the word stop or STOP or Stop or just the letter s or S. You can handle this case\n",
    "with multiple conditions connected by or:"
   ]
  },
  {
   "cell_type": "code",
   "execution_count": 29,
   "id": "ede92101",
   "metadata": {},
   "outputs": [
    {
     "name": "stdout",
     "output_type": "stream",
     "text": [
      "Okay, stopping\n"
     ]
    }
   ],
   "source": [
    "s = 'stop'\n",
    "#processing a variable with multiple conditions\n",
    "if s == 'stop' or s == 'Stop' or s == 'STOP' or s == 'S' or s == 's':\n",
    "    print(\"Okay, stopping\")"
   ]
  },
  {
   "cell_type": "markdown",
   "id": "e07f415b",
   "metadata": {},
   "source": [
    "And you can create a set for all possible variations of the stop command and check whether our team is included in this set:"
   ]
  },
  {
   "cell_type": "code",
   "execution_count": 30,
   "id": "5e002ca1",
   "metadata": {},
   "outputs": [
    {
     "name": "stdout",
     "output_type": "stream",
     "text": [
      "Okay, stopping\n"
     ]
    }
   ],
   "source": [
    "s = 'stop'\n",
    "#processing a variable using a set\n",
    "STOPS = {'stop', 'Stop', 'STOP', 'S', 's'}\n",
    "if s in STOPS:\n",
    "    print(\"Okay, stopping\")"
   ]
  },
  {
   "cell_type": "markdown",
   "id": "2676b719",
   "metadata": {},
   "source": [
    "However, in this place, probably, instead of a set, it would be possible to use just a list."
   ]
  },
  {
   "cell_type": "markdown",
   "id": "80460f68",
   "metadata": {},
   "source": [
    "### A little more about the lines"
   ]
  },
  {
   "cell_type": "markdown",
   "id": "a8b38724",
   "metadata": {},
   "source": [
    "I've been meaning to tell you about methods for working with strings for a long time. In general, there\n",
    "are many of these methods and I will not tell you about everything, but we will discuss some of them now."
   ]
  },
  {
   "cell_type": "code",
   "execution_count": 31,
   "id": "c523b95c",
   "metadata": {},
   "outputs": [
    {
     "name": "stdout",
     "output_type": "stream",
     "text": [
      "Hi world, Hi\n",
      "hello world, hello\n"
     ]
    }
   ],
   "source": [
    "s = \"hello world, hello\"\n",
    "#replacing one substring with another\n",
    "new_s = s.replace(\"hello\", \"Hi\")\n",
    "print(new_s)\n",
    "print(s)"
   ]
  },
  {
   "cell_type": "markdown",
   "id": "2f3d5a1e",
   "metadata": {},
   "source": [
    "This is how, for example, you can replace a substring in a string. Note: a string is\n",
    "an immutable data type, therefore, unlike list methods of the append() type, string methods\n",
    "never change the string itself (this is not possible at all), but instead create a new string and\n",
    "return the result.\n",
    "\n",
    "If you wanted to replace only the first few occurrences (for example, only the first word\n",
    "hello, but not the second one), you could add a third argument to the replace method — it shows\n",
    "how many times you need to replace."
   ]
  },
  {
   "cell_type": "code",
   "execution_count": 32,
   "id": "a2c040f6",
   "metadata": {},
   "outputs": [
    {
     "data": {
      "text/plain": [
       "'Hi world, hello'"
      ]
     },
     "execution_count": 32,
     "metadata": {},
     "output_type": "execute_result"
    }
   ],
   "source": [
    "#in the original line, replace \"hello\" with \"Hi\" 1 time\n",
    "\"hello world, hello\".replace(\"hello\", \"Hi\", 1)"
   ]
  },
  {
   "cell_type": "code",
   "execution_count": 33,
   "id": "46a42c80",
   "metadata": {},
   "outputs": [
    {
     "data": {
      "text/plain": [
       "6"
      ]
     },
     "execution_count": 33,
     "metadata": {},
     "output_type": "execute_result"
    }
   ],
   "source": [
    "#This is how you can find a substring in a string:\n",
    "#index() returns the index of the first character of the substring\n",
    "s.index(\"world\")"
   ]
  },
  {
   "cell_type": "code",
   "execution_count": 34,
   "id": "aaabeaf8",
   "metadata": {},
   "outputs": [
    {
     "data": {
      "text/plain": [
       "6"
      ]
     },
     "execution_count": 34,
     "metadata": {},
     "output_type": "execute_result"
    }
   ],
   "source": [
    "#find() returns the index of the first character of the substring\n",
    "s.find(\"world\")"
   ]
  },
  {
   "cell_type": "markdown",
   "id": "37dd072e",
   "metadata": {},
   "source": [
    "Both methods return the index of the first character of the substring. The difference is that if\n",
    "index() cannot find a substring at all, it throws an error (exception), and if\n",
    "find() encounters a similar problem, it will return the number -1 as an index."
   ]
  },
  {
   "cell_type": "code",
   "execution_count": 35,
   "id": "96016b67",
   "metadata": {},
   "outputs": [
    {
     "data": {
      "text/plain": [
       "True"
      ]
     },
     "execution_count": 35,
     "metadata": {},
     "output_type": "execute_result"
    }
   ],
   "source": [
    "#By the way, you can also check whether a substring is included in a string like this\n",
    "\"world\" in s"
   ]
  },
  {
   "cell_type": "code",
   "execution_count": 36,
   "id": "602c392d",
   "metadata": {},
   "outputs": [
    {
     "data": {
      "text/plain": [
       "3"
      ]
     },
     "execution_count": 36,
     "metadata": {},
     "output_type": "execute_result"
    }
   ],
   "source": [
    "#And this is how you can calculate how many substrings occur in a string\n",
    "s.count(\"o\")"
   ]
  },
  {
   "cell_type": "markdown",
   "id": "5056632c",
   "metadata": {},
   "source": [
    "### File input-output"
   ]
  },
  {
   "cell_type": "markdown",
   "id": "fdee9d69",
   "metadata": {},
   "source": [
    "We are starting to work with files. Now we will discuss only reading and writing. There is a separate story about how to\n",
    "run files for execution — there is a subprocess method for this, we\n",
    "will get to it someday. (Maybe.) Also, to begin with, we will talk about text files or\n",
    "similar to text (for example, Python code or a CSV file will be text). There are also\n",
    "binary files that are useless to read with \"eyes\" — there will be a separate story about some of them."
   ]
  },
  {
   "cell_type": "code",
   "execution_count": 37,
   "id": "58f897fa",
   "metadata": {},
   "outputs": [
    {
     "name": "stdout",
     "output_type": "stream",
     "text": [
      "HALOU!!!\n",
      "my\n",
      "name is\n",
      "Danil.\n",
      "*_*\n"
     ]
    }
   ],
   "source": [
    "#Let's say we want to read a file\n",
    "#opening a text file \"text.txt \"\n",
    "f = open(\"func.txt\")\n",
    "#reading text from a file\n",
    "s = f.read()\n",
    "#closing a file after working with it\n",
    "f.close()\n",
    "#output of what we read in the file\n",
    "print(s)"
   ]
  },
  {
   "cell_type": "markdown",
   "id": "8b334e67",
   "metadata": {},
   "source": [
    "What happened here? First, we opened a file for reading func.txt , lying in our current working directory."
   ]
  },
  {
   "cell_type": "code",
   "execution_count": 38,
   "id": "cb68437e",
   "metadata": {},
   "outputs": [
    {
     "data": {
      "text/plain": [
       "'C:\\\\Users\\\\danil'"
      ]
     },
     "execution_count": 38,
     "metadata": {},
     "output_type": "execute_result"
    }
   ],
   "source": [
    "#To find out which directory is working, you can do the following:\n",
    "import os\n",
    "os.getcwd()"
   ]
  },
  {
   "cell_type": "markdown",
   "id": "a20503ef",
   "metadata": {},
   "source": [
    "The open() function returned an object of the file type — a variable that can be used to\n",
    "work with the file. Then we read the contents of the file into the string s, and then closed the file.\n",
    "Closing files is very useful: if you forget to close a file, another application will not be able to\n",
    "open it (for example, to write something to it).\n",
    "\n",
    "The read() function reads the entire file into one large string variable. This is not always\n",
    "convenient (considering that strings in Python are immutable and because of this, working with them is not always\n",
    "effective), so there are various other scenarios for working with files. For example, you can read\n",
    "the contents of a file into a list by splitting it into lines."
   ]
  },
  {
   "cell_type": "code",
   "execution_count": 39,
   "id": "cbc49d5f",
   "metadata": {},
   "outputs": [],
   "source": [
    "f = open(\"func.txt\")\n",
    "#reading the file line by line into the lines list\n",
    "lines = f.readlines()\n",
    "f.close()"
   ]
  },
  {
   "cell_type": "code",
   "execution_count": 40,
   "id": "76876b70",
   "metadata": {},
   "outputs": [
    {
     "name": "stdout",
     "output_type": "stream",
     "text": [
      "['HALOU!!!\\n', 'my\\n', 'name is\\n', 'Danil.\\n', '*_*']\n"
     ]
    }
   ],
   "source": [
    "print(lines)"
   ]
  },
  {
   "cell_type": "markdown",
   "id": "9e6a8e88",
   "metadata": {},
   "source": [
    "Note that each of the lines is wrapped with a newline character \\n — they were present in\n",
    "the file and we honestly counted them from it. This is how you can output a file by lines, numbering them:"
   ]
  },
  {
   "cell_type": "code",
   "execution_count": 41,
   "id": "4ea7493c",
   "metadata": {},
   "outputs": [
    {
     "name": "stdout",
     "output_type": "stream",
     "text": [
      "1 HALOU!!!\n",
      "2 my\n",
      "3 name is\n",
      "4 Danil.\n",
      "5 *_*"
     ]
    }
   ],
   "source": [
    "#file output by lines, numbering them\n",
    "for i, line in enumerate(lines, 1):\n",
    "    print(i, line, end=\"\")"
   ]
  },
  {
   "cell_type": "code",
   "execution_count": 42,
   "id": "2bae5df5",
   "metadata": {},
   "outputs": [
    {
     "name": "stdout",
     "output_type": "stream",
     "text": [
      "1 HALOU!!!\n",
      "2 my\n",
      "3 name is\n",
      "4 Danil.\n",
      "5 *_*"
     ]
    }
   ],
   "source": [
    "#Another way to do this is not to create a separate list, but to iterate a file object right away.\n",
    "f = open(\"func.txt\")\n",
    "for i, line in enumerate(f, 1):\n",
    "    print(i, line, end=\"\")\n",
    "f.close()"
   ]
  },
  {
   "cell_type": "markdown",
   "id": "06c3f657",
   "metadata": {},
   "source": [
    "This method is more preferable if the file is large. In this case, it may be impossible to read it into\n",
    "memory as a whole, and it is quite possible to process it one line at a time.\n",
    "\n",
    "There are, however, some tricks here. Consider, for example, the following code:"
   ]
  },
  {
   "cell_type": "code",
   "execution_count": 43,
   "id": "48d9773c",
   "metadata": {},
   "outputs": [
    {
     "name": "stdout",
     "output_type": "stream",
     "text": [
      "HALOU!!!\n",
      "my\n",
      "name is\n",
      "Danil.\n",
      "*_*----The next one----\n"
     ]
    }
   ],
   "source": [
    "f = open(\"func.txt\")\n",
    "for line in f:\n",
    "    print(line, end=\"\")\n",
    "print(\"----The next one----\")\n",
    "for line in f:\n",
    "    print(line, end=\"\")\n",
    "f.close()"
   ]
  },
  {
   "cell_type": "markdown",
   "id": "2b02ba6f",
   "metadata": {},
   "source": [
    "What happened here? Why didn't the second cycle run at all (nothing is output after the line\n",
    "----The next one---- )? Very simple: the variable f, although it pretends to be a list of strings, when\n",
    "we iterate it, in fact it is not. In fact, when opening a file, we\n",
    "remember the position at which we read this file. Initially, it points to the very beginning\n",
    "of the file, but it shifts with each iteration. When we read the whole file, further attempts\n",
    "to read something from it will lead to nothing: the pointer of the current position has moved to the very end\n",
    "and the file has ended."
   ]
  },
  {
   "cell_type": "code",
   "execution_count": 44,
   "id": "f19904bc",
   "metadata": {},
   "outputs": [
    {
     "name": "stdout",
     "output_type": "stream",
     "text": [
      "HALOU!!!\n",
      "my\n",
      "name is\n",
      "Danil.\n",
      "*_*----The next one----\n",
      "HALOU!!!\n",
      "my\n",
      "name is\n",
      "Danil.\n",
      "*_*"
     ]
    }
   ],
   "source": [
    "#However, it is possible to go back to the beginning: to do this, you need to use the seek() method\n",
    "f = open(\"func.txt\")\n",
    "for line in f:\n",
    "    print(line, end=\"\")\n",
    "print(\"----The next one----\")\n",
    "#return the pointer of the current file reading position to the beginning of the file\n",
    "f.seek(0)\n",
    "for line in f:\n",
    "    print(line, end=\"\")\n",
    "f.close()"
   ]
  },
  {
   "cell_type": "markdown",
   "id": "17838a23",
   "metadata": {},
   "source": [
    "### Writing to files"
   ]
  },
  {
   "cell_type": "markdown",
   "id": "de19532c",
   "metadata": {},
   "source": [
    "To create a file and write something to it, you need to open it for recording. This is done by\n",
    "passing the second argument to the open function — here you need to write the line \"w\" (from write)."
   ]
  },
  {
   "cell_type": "markdown",
   "id": "c5888515",
   "metadata": {},
   "source": [
    "**Attention!** If the file you are trying to open for writing already exists, it\n",
    "**will be deleted without any warning.**"
   ]
  },
  {
   "cell_type": "code",
   "execution_count": 45,
   "id": "9f6a0d58",
   "metadata": {},
   "outputs": [],
   "source": [
    "#You can write information to a file that is open for writing, for example, using the method write()\n",
    "#open a file for recording\n",
    "f = open(\"other.txt\", \"w\")\n",
    "#write to a file \"Hello\\n\"\n",
    "f.write(\"Hello\\n\")\n",
    "#close the file for writing\n",
    "f.close()"
   ]
  },
  {
   "cell_type": "code",
   "execution_count": 46,
   "id": "3431278e",
   "metadata": {},
   "outputs": [
    {
     "name": "stderr",
     "output_type": "stream",
     "text": [
      "C:\\Users\\danil\\AppData\\Local\\Temp\\ipykernel_8680\\3251814025.py:2: ResourceWarning: unclosed file <_io.TextIOWrapper name='other.txt' mode='r' encoding='cp1251'>\n",
      "  open(\"other.txt\").read()\n",
      "ResourceWarning: Enable tracemalloc to get the object allocation traceback\n"
     ]
    },
    {
     "data": {
      "text/plain": [
       "'Hello\\n'"
      ]
     },
     "execution_count": 46,
     "metadata": {},
     "output_type": "execute_result"
    }
   ],
   "source": [
    "#Let's check what happened:\n",
    "open(\"other.txt\").read()\n",
    "#the system warns that we have not closed the file explicitly, but this is not necessary here"
   ]
  },
  {
   "cell_type": "markdown",
   "id": "8843dd8a",
   "metadata": {},
   "source": [
    "We can see what we really wrote to the file other.txt the line Hello\\n . Note that here we are\n",
    "they opened the file for writing, but did not assign the file object to any variable, but immediately\n",
    "called the read() method from it. In this case, the file will be closed automatically some\n",
    "time after executing this command. (The system issues a warning that we have not\n",
    "explicitly closed the file — in some cases this may lead to some problems.)"
   ]
  }
 ],
 "metadata": {
  "kernelspec": {
   "display_name": "Python 3 (ipykernel)",
   "language": "python",
   "name": "python3"
  },
  "language_info": {
   "codemirror_mode": {
    "name": "ipython",
    "version": 3
   },
   "file_extension": ".py",
   "mimetype": "text/x-python",
   "name": "python",
   "nbconvert_exporter": "python",
   "pygments_lexer": "ipython3",
   "version": "3.9.13"
  }
 },
 "nbformat": 4,
 "nbformat_minor": 5
}
