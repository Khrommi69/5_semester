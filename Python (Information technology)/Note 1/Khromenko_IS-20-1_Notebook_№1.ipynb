{
  "metadata": {
    "kernelspec": {
      "name": "python",
      "display_name": "Python (Pyodide)",
      "language": "python"
    },
    "language_info": {
      "codemirror_mode": {
        "name": "python",
        "version": 3
      },
      "file_extension": ".py",
      "mimetype": "text/x-python",
      "name": "python",
      "nbconvert_exporter": "python",
      "pygments_lexer": "ipython3",
      "version": "3.8"
    }
  },
  "nbformat_minor": 5,
  "nbformat": 4,
  "cells": [
    {
      "cell_type": "markdown",
      "source": "# Notebook №1. Information systems",
      "metadata": {},
      "id": "937a3795-398a-4ce6-9b21-5cd560ab72a7"
    },
    {
      "cell_type": "markdown",
      "source": "## Performed by a student of the IS-20-1 group, Khromenko Danil.\n<br>",
      "metadata": {},
      "id": "f8a93875-8180-4ef7-972f-fb9ac50868ce"
    },
    {
      "cell_type": "markdown",
      "source": "### Python Philosophy. «The Zen of Python».",
      "metadata": {},
      "id": "76393776-d4e7-4cc6-8373-57c7d3a79bbb"
    },
    {
      "cell_type": "code",
      "source": "import this",
      "metadata": {
        "trusted": true
      },
      "execution_count": 1,
      "outputs": [
        {
          "name": "stdout",
          "text": "The Zen of Python, by Tim Peters\n\nBeautiful is better than ugly.\nExplicit is better than implicit.\nSimple is better than complex.\nComplex is better than complicated.\nFlat is better than nested.\nSparse is better than dense.\nReadability counts.\nSpecial cases aren't special enough to break the rules.\nAlthough practicality beats purity.\nErrors should never pass silently.\nUnless explicitly silenced.\nIn the face of ambiguity, refuse the temptation to guess.\nThere should be one-- and preferably only one --obvious way to do it.\nAlthough that way may not be obvious at first unless you're Dutch.\nNow is better than never.\nAlthough never is often better than *right* now.\nIf the implementation is hard to explain, it's a bad idea.\nIf the implementation is easy to explain, it may be a good idea.\nNamespaces are one honking great idea -- let's do more of those!\n",
          "output_type": "stream"
        }
      ],
      "id": "4eb6a642-44a1-44c1-b4f8-6c44034ba770"
    },
    {
      "cell_type": "markdown",
      "source": "### Python as a calculator",
      "metadata": {},
      "id": "cea13d25-d66b-4815-99a2-0075daa29eed"
    },
    {
      "cell_type": "code",
      "source": "#simple multiplication (28)\n4*7",
      "metadata": {
        "trusted": true
      },
      "execution_count": 2,
      "outputs": [
        {
          "execution_count": 2,
          "output_type": "execute_result",
          "data": {
            "text/plain": "28"
          },
          "metadata": {}
        }
      ],
      "id": "91633a26-edfd-46e6-9682-831417e652b6"
    },
    {
      "cell_type": "code",
      "source": "#simple mathematical expression (21)\n3*(2+5)",
      "metadata": {
        "trusted": true
      },
      "execution_count": 3,
      "outputs": [
        {
          "execution_count": 3,
          "output_type": "execute_result",
          "data": {
            "text/plain": "21"
          },
          "metadata": {}
        }
      ],
      "id": "c5698f02-80e2-4e0d-8cb4-101ca5a0ff04"
    },
    {
      "cell_type": "code",
      "source": "#Bitwise XOR - \"^\"\n5^3",
      "metadata": {
        "trusted": true
      },
      "execution_count": 4,
      "outputs": [
        {
          "execution_count": 4,
          "output_type": "execute_result",
          "data": {
            "text/plain": "6"
          },
          "metadata": {}
        }
      ],
      "id": "5cd8a616-147d-4add-9415-403afb97026d"
    },
    {
      "cell_type": "code",
      "source": "#exponentiation (125)\n5**3",
      "metadata": {
        "trusted": true
      },
      "execution_count": 5,
      "outputs": [
        {
          "execution_count": 5,
          "output_type": "execute_result",
          "data": {
            "text/plain": "125"
          },
          "metadata": {}
        }
      ],
      "id": "0d6745fc-3b4d-4ac0-91fd-fb7e0bef9dbe"
    },
    {
      "cell_type": "code",
      "source": "#simple division (4.0)\n12/3",
      "metadata": {
        "trusted": true
      },
      "execution_count": 6,
      "outputs": [
        {
          "execution_count": 6,
          "output_type": "execute_result",
          "data": {
            "text/plain": "4.0"
          },
          "metadata": {}
        }
      ],
      "id": "8601cdfb-8331-4d4c-8d84-71dbcde97177"
    },
    {
      "cell_type": "code",
      "source": "#division without remainder (4)\n12//3",
      "metadata": {
        "trusted": true
      },
      "execution_count": 7,
      "outputs": [
        {
          "execution_count": 7,
          "output_type": "execute_result",
          "data": {
            "text/plain": "4"
          },
          "metadata": {}
        }
      ],
      "id": "d3a950c0-8020-490e-b8c6-148b618143e6"
    },
    {
      "cell_type": "code",
      "source": "#square root extraction (4)\nsqrt(16)",
      "metadata": {
        "trusted": true
      },
      "execution_count": 8,
      "outputs": [
        {
          "ename": "<class 'NameError'>",
          "evalue": "name 'sqrt' is not defined",
          "traceback": [
            "\u001b[0;31m---------------------------------------------------------------------------\u001b[0m",
            "\u001b[0;31mNameError\u001b[0m                                 Traceback (most recent call last)",
            "Cell \u001b[0;32mIn [8], line 2\u001b[0m\n\u001b[1;32m      1\u001b[0m \u001b[38;5;66;03m#square root extraction (4)\u001b[39;00m\n\u001b[0;32m----> 2\u001b[0m \u001b[43msqrt\u001b[49m(\u001b[38;5;241m16\u001b[39m)\n",
            "\u001b[0;31mNameError\u001b[0m: name 'sqrt' is not defined"
          ],
          "output_type": "error"
        }
      ],
      "id": "d772c7f6-68d2-4fbd-b19b-b7098776118a"
    },
    {
      "cell_type": "markdown",
      "source": "To extract the root, you need to import the standard `math` module.",
      "metadata": {},
      "id": "e22701d6-739f-44d0-8f25-fa527051cff6"
    },
    {
      "cell_type": "code",
      "source": "#importing a standard math module\nimport math\n#square root extraction (4.0)\nmath.sqrt(16)",
      "metadata": {
        "trusted": true
      },
      "execution_count": 9,
      "outputs": [
        {
          "execution_count": 9,
          "output_type": "execute_result",
          "data": {
            "text/plain": "4.0"
          },
          "metadata": {}
        }
      ],
      "id": "f0f12562-701b-440f-a7d2-8f4396b8a552"
    },
    {
      "cell_type": "markdown",
      "source": "Also, after entering the module name and the dot, you can press \"Tab\" and the available functions will appear:\n\n![image.png](attachment:d79c1d9e-5d03-4fd3-92b8-0d28f758482c.png)",
      "metadata": {},
      "attachments": {
        "d79c1d9e-5d03-4fd3-92b8-0d28f758482c.png": {
          "image/png": "[encoded data removed]"
        }
      },
      "id": "3fbbf9b4-9484-4beb-a10a-5f7dad906d5a"
    },
    {
      "cell_type": "code",
      "source": "#calculation of sine (0.0)\nmath.sin(0)",
      "metadata": {
        "trusted": true
      },
      "execution_count": 10,
      "outputs": [
        {
          "execution_count": 10,
          "output_type": "execute_result",
          "data": {
            "text/plain": "0.0"
          },
          "metadata": {}
        }
      ],
      "id": "a02d50da-f2b0-438c-8341-55eeadcf6e42"
    },
    {
      "cell_type": "markdown",
      "source": "The above syntax may be inconvenient if you often have to call some mathematical functions. In order not to write the word \"math\" every time, you can import specific functions from the module.",
      "metadata": {},
      "id": "a2f37e1b-b6f1-4d86-8f37-a245dc50c20b"
    },
    {
      "cell_type": "code",
      "source": "#importing the \"sqrt\" function from the \"math\" module\nfrom math import sqrt",
      "metadata": {
        "trusted": true
      },
      "execution_count": 11,
      "outputs": [],
      "id": "b3f94d24-8561-400b-a9b7-62b946f0d213"
    },
    {
      "cell_type": "code",
      "source": "#square root extraction (5.0)\nsqrt(25)",
      "metadata": {
        "trusted": true
      },
      "execution_count": 13,
      "outputs": [
        {
          "execution_count": 13,
          "output_type": "execute_result",
          "data": {
            "text/plain": "5.0"
          },
          "metadata": {}
        }
      ],
      "id": "e42fd8cc-22bf-4601-ba71-15a3ecc89919"
    },
    {
      "cell_type": "markdown",
      "source": "### Real numbers and errors",
      "metadata": {},
      "id": "f8317470-7582-4eb2-9757-21e6f2c359d3"
    },
    {
      "cell_type": "code",
      "source": "#importing the \"pi\" & \"sin\" from the \"math\" module\nfrom math import pi, sin\n#expected 0\nsin(pi)",
      "metadata": {
        "trusted": true
      },
      "execution_count": 14,
      "outputs": [
        {
          "execution_count": 14,
          "output_type": "execute_result",
          "data": {
            "text/plain": "1.2246467991473532e-16"
          },
          "metadata": {}
        }
      ],
      "id": "fea44e5e-0894-4eda-9100-c7f153a60790"
    },
    {
      "cell_type": "markdown",
      "source": "The result is in exponential notation. It is convenient if you need to be able to write very large or very small numbers. <br>\nThis happened because the computer does calculations with some limited accuracy.",
      "metadata": {},
      "id": "055287b8-cb81-4e23-bef6-fbdfe3a45a2e"
    },
    {
      "cell_type": "markdown",
      "source": "### Variables",
      "metadata": {},
      "id": "e0486b15-adc5-4383-82b5-241057fce8ff"
    },
    {
      "cell_type": "markdown",
      "source": "In Python, you don't need to declare a variable specifically somehow — just assign a value to it, and you can use it.",
      "metadata": {},
      "id": "5516528d-08ef-4abd-8da5-de1e9e87dd54"
    },
    {
      "cell_type": "code",
      "source": "#declaration and output of a variable\nx = 69\nx",
      "metadata": {
        "trusted": true
      },
      "execution_count": 21,
      "outputs": [
        {
          "execution_count": 21,
          "output_type": "execute_result",
          "data": {
            "text/plain": "69"
          },
          "metadata": {}
        }
      ],
      "id": "3785a58e-cde5-415e-b61d-f1e2d20d431d"
    },
    {
      "cell_type": "code",
      "source": "#change x\nx = x-15",
      "metadata": {
        "trusted": true
      },
      "execution_count": 22,
      "outputs": [],
      "id": "bfca984f-2404-4cc2-827b-631a64ed69c6"
    },
    {
      "cell_type": "code",
      "source": "#output x\nx",
      "metadata": {
        "trusted": true
      },
      "execution_count": 23,
      "outputs": [
        {
          "execution_count": 23,
          "output_type": "execute_result",
          "data": {
            "text/plain": "54"
          },
          "metadata": {}
        }
      ],
      "id": "be1d4630-afc5-44ca-a42a-5968daf81112"
    },
    {
      "cell_type": "markdown",
      "source": "### Data entry",
      "metadata": {},
      "id": "7d724eea-1982-4c8e-b855-d0667705777a"
    },
    {
      "cell_type": "code",
      "source": "#entering a name\nname = input(\"Input your name: \")",
      "metadata": {
        "trusted": true
      },
      "execution_count": 27,
      "outputs": [
        {
          "output_type": "stream",
          "name": "stdin",
          "text": "Input your name:  Danil\n"
        }
      ],
      "id": "27ca0462-73a6-42a1-a9a5-272db60fbbe7"
    },
    {
      "cell_type": "code",
      "source": "#name output\nprint(\"Hello, \", name, \"!\")",
      "metadata": {
        "trusted": true
      },
      "execution_count": 28,
      "outputs": [
        {
          "name": "stdout",
          "text": "Hello,  <Future finished result='Danil'> !\n",
          "output_type": "stream"
        }
      ],
      "id": "a9f185d1-24ad-414e-b612-6ab894114d2d"
    },
    {
      "cell_type": "code",
      "source": "#trying input num 54 and output 108\nx = input(\"Input some number: \")",
      "metadata": {
        "tags": [],
        "trusted": true
      },
      "execution_count": 39,
      "outputs": [
        {
          "output_type": "stream",
          "name": "stdin",
          "text": "Input some number:  54\n"
        }
      ],
      "id": "c61b0a1a-03ca-4be3-9070-467800b755ab"
    },
    {
      "cell_type": "code",
      "source": "print(x*2)",
      "metadata": {
        "trusted": true
      },
      "execution_count": 40,
      "outputs": [
        {
          "ename": "<class 'TypeError'>",
          "evalue": "unsupported operand type(s) for *: 'Future' and 'int'",
          "traceback": [
            "\u001b[0;31m---------------------------------------------------------------------------\u001b[0m",
            "\u001b[0;31mTypeError\u001b[0m                                 Traceback (most recent call last)",
            "Cell \u001b[0;32mIn [40], line 1\u001b[0m\n\u001b[0;32m----> 1\u001b[0m \u001b[38;5;28mprint\u001b[39m(\u001b[43mx\u001b[49m\u001b[38;5;241;43m*\u001b[39;49m\u001b[38;5;241;43m2\u001b[39;49m)\n",
            "\u001b[0;31mTypeError\u001b[0m: unsupported operand type(s) for *: 'Future' and 'int'"
          ],
          "output_type": "error"
        }
      ],
      "id": "3414f394-b135-455a-b2e3-09c8f0378c9b"
    },
    {
      "cell_type": "markdown",
      "source": "Since input always returns a string, an error occurred when multiplying the string by a number.",
      "metadata": {},
      "id": "533d9353-fec1-4eb2-87d3-c58238f97f7b"
    },
    {
      "cell_type": "code",
      "source": "#Proof that '54' is a string\nx",
      "metadata": {
        "trusted": true
      },
      "execution_count": 51,
      "outputs": [
        {
          "execution_count": 51,
          "output_type": "execute_result",
          "data": {
            "text/plain": "<Future finished result='54'>"
          },
          "metadata": {}
        }
      ],
      "id": "140e2515-36cb-47f3-a0bb-cd923ec7fd36"
    },
    {
      "cell_type": "markdown",
      "source": "To use '54' as a number, you need to cast a string type to an integer: int(x)",
      "metadata": {},
      "id": "9df63062-af03-466c-a057-b95d7ac198ee"
    },
    {
      "cell_type": "code",
      "source": "#Proof that '54' is a string (attempt 2)\nx2 = int(input(\"Введите какое-нибудь число: \"))\nprint(x2*2)",
      "metadata": {
        "trusted": true
      },
      "execution_count": 61,
      "outputs": [
        {
          "ename": "<class 'TypeError'>",
          "evalue": "int() argument must be a string, a bytes-like object or a real number, not 'Future'",
          "traceback": [
            "\u001b[0;31m---------------------------------------------------------------------------\u001b[0m",
            "\u001b[0;31mTypeError\u001b[0m                                 Traceback (most recent call last)",
            "Cell \u001b[0;32mIn [61], line 2\u001b[0m\n\u001b[1;32m      1\u001b[0m \u001b[38;5;66;03m#Proof that '54' is a string (attempt 2)\u001b[39;00m\n\u001b[0;32m----> 2\u001b[0m x2 \u001b[38;5;241m=\u001b[39m \u001b[38;5;28;43mint\u001b[39;49m\u001b[43m(\u001b[49m\u001b[38;5;28;43minput\u001b[39;49m\u001b[43m(\u001b[49m\u001b[38;5;124;43m\"\u001b[39;49m\u001b[38;5;124;43mВведите какое-нибудь число: \u001b[39;49m\u001b[38;5;124;43m\"\u001b[39;49m\u001b[43m)\u001b[49m\u001b[43m)\u001b[49m\n\u001b[1;32m      3\u001b[0m \u001b[38;5;28mprint\u001b[39m(x2\u001b[38;5;241m*\u001b[39m\u001b[38;5;241m2\u001b[39m)\n",
            "\u001b[0;31mTypeError\u001b[0m: int() argument must be a string, a bytes-like object or a real number, not 'Future'"
          ],
          "output_type": "error"
        },
        {
          "output_type": "stream",
          "name": "stdin",
          "text": "Введите какое-нибудь число:  54\n"
        }
      ],
      "id": "6c15599a-0a91-44fe-9ff0-78cd013b7728"
    },
    {
      "cell_type": "markdown",
      "source": "For reasons I don't understand, it doesn't work in notepad, but when using the PyCharm IDE, everything works! <br>\n![image.png](attachment:4d9fc041-61ba-4169-8305-a8d52b193b5b.png) <br>\n![image.png](attachment:14c16b13-4f6f-43c5-9073-0c3d5a2102b9.png)",
      "metadata": {},
      "attachments": {
        "4d9fc041-61ba-4169-8305-a8d52b193b5b.png": {
          "image/png": "[encoded data removed]"
        },
        "14c16b13-4f6f-43c5-9073-0c3d5a2102b9.png": {
          "image/png": "[encoded data removed]"
        }
      },
      "id": "87fc8be7-5605-4a34-bd51-87bfa8e09735"
    },
    {
      "cell_type": "markdown",
      "source": "### Practical task: Fibonacci numbers",
      "metadata": {},
      "id": "5a25af0f-4e1c-4583-91e3-53dd29f7b8b8"
    },
    {
      "cell_type": "markdown",
      "source": "**Task:** *calculate the 15th Fibonacci number*",
      "metadata": {},
      "id": "7e102349-65e2-4bd3-927a-85d4a9b52c0a"
    },
    {
      "cell_type": "markdown",
      "source": "Fibonacci numbers are elements of a numerical sequence in which the first two numbers are 0 and 1, and each subsequent number is equal to the sum of the two previous numbers.<br>\n![image.png](attachment:3d2ec03c-6527-454b-9603-0e0e12232ecf.png)",
      "metadata": {},
      "attachments": {
        "3d2ec03c-6527-454b-9603-0e0e12232ecf.png": {
          "image/png": "[encoded data removed]"
        }
      },
      "id": "484808d7-6abb-4b97-95b3-4a3fc8d049f2"
    },
    {
      "cell_type": "code",
      "source": "a = 0 #first number\nb = 1 #second number\ni = 1 #number of the Fibonacci number",
      "metadata": {
        "trusted": true
      },
      "execution_count": 65,
      "outputs": [],
      "id": "0841cd3f-f846-4ef1-bded-fceebcc96452"
    },
    {
      "cell_type": "code",
      "source": "#Calculations continue until a sequence of 15 Fibonacci numbers is reached\nwhile i != 15:\n    c = a + b # found next number\n    i = i + 1 # increased i by 1\n    a = b     # we no longer need the past meaning of \"a\"\n    b = c     # remembered the calculated value\n#The output of the fifteenth Fibonacci number\nprint(i, \"th Fibonacci number is\", c)",
      "metadata": {
        "trusted": true
      },
      "execution_count": 74,
      "outputs": [
        {
          "name": "stdout",
          "text": "15 th Fibonacci number is 610\n",
          "output_type": "stream"
        }
      ],
      "id": "65944429-f8df-4d7b-af8e-4c8dc999bb5f"
    }
  ]
}